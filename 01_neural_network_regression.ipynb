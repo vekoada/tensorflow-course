{
  "nbformat": 4,
  "nbformat_minor": 0,
  "metadata": {
    "colab": {
      "provenance": [],
      "authorship_tag": "ABX9TyN8TMVOPSR8j45QPiXAccRv",
      "include_colab_link": true
    },
    "kernelspec": {
      "name": "python3",
      "display_name": "Python 3"
    },
    "language_info": {
      "name": "python"
    }
  },
  "cells": [
    {
      "cell_type": "markdown",
      "metadata": {
        "id": "view-in-github",
        "colab_type": "text"
      },
      "source": [
        "<a href=\"https://colab.research.google.com/github/vekoada/tensorflow-course/blob/main/01_neural_network_regression.ipynb\" target=\"_parent\"><img src=\"https://colab.research.google.com/assets/colab-badge.svg\" alt=\"Open In Colab\"/></a>"
      ]
    },
    {
      "cell_type": "code",
      "execution_count": null,
      "metadata": {
        "colab": {
          "base_uri": "https://localhost:8080/"
        },
        "id": "AJEl5UiUexvc",
        "outputId": "3ebfe076-6e00-439b-9bc2-6a369c38784c"
      },
      "outputs": [
        {
          "output_type": "stream",
          "name": "stdout",
          "text": [
            "2.12.0\n"
          ]
        }
      ],
      "source": [
        "import tensorflow as tf\n",
        "print(tf.__version__)"
      ]
    },
    {
      "cell_type": "code",
      "source": [
        "import numpy as np\n",
        "import matplotlib.pyplot as plt\n",
        "\n",
        "# Create features\n",
        "X = np.array([-7.0, -4.0, -1.0, 2.0, 5.0, 8.0, 11.0, 14.0])\n",
        "\n",
        "#Labels\n",
        "y = np.array([3.0, 6.0, 9.0, 12.0, 15.0, 18.0, 21.0, 24.0])\n",
        "\n",
        "#Visualize\n",
        "plt.scatter(X, y)"
      ],
      "metadata": {
        "colab": {
          "base_uri": "https://localhost:8080/",
          "height": 453
        },
        "id": "pfnlRoCufMZo",
        "outputId": "a55e4046-a0af-45ad-80b4-0936ba551139"
      },
      "execution_count": null,
      "outputs": [
        {
          "output_type": "execute_result",
          "data": {
            "text/plain": [
              "<matplotlib.collections.PathCollection at 0x79db5dcc5f00>"
            ]
          },
          "metadata": {},
          "execution_count": 4
        },
        {
          "output_type": "display_data",
          "data": {
            "text/plain": [
              "<Figure size 640x480 with 1 Axes>"
            ],
            "image/png": "[encoded data removed]"
          },
          "metadata": {}
        }
      ]
    },
    {
      "cell_type": "code",
      "source": [
        "#Demo tensor for housing price prediction problem\n",
        "house_info = tf.constant([\"bedroom\", \"bathroom\", \"garage\"])\n",
        "house_price = tf.constant([939700])\n",
        "house_info, house_price"
      ],
      "metadata": {
        "colab": {
          "base_uri": "https://localhost:8080/"
        },
        "id": "B0dHBef3tjbv",
        "outputId": "30d9d744-a7d1-4c98-9172-7cecd736d49f"
      },
      "execution_count": null,
      "outputs": [
        {
          "output_type": "execute_result",
          "data": {
            "text/plain": [
              "(<tf.Tensor: shape=(3,), dtype=string, numpy=array([b'bedroom', b'bathroom', b'garage'], dtype=object)>,\n",
              " <tf.Tensor: shape=(1,), dtype=int32, numpy=array([939700], dtype=int32)>)"
            ]
          },
          "metadata": {},
          "execution_count": 5
        }
      ]
    },
    {
      "cell_type": "code",
      "source": [
        "X[0], y[0]"
      ],
      "metadata": {
        "colab": {
          "base_uri": "https://localhost:8080/"
        },
        "id": "LLMJl0MpuhL8",
        "outputId": "c1f6596c-ac0a-463a-b195-3a0b954e9517"
      },
      "execution_count": null,
      "outputs": [
        {
          "output_type": "execute_result",
          "data": {
            "text/plain": [
              "(-7.0, 3.0)"
            ]
          },
          "metadata": {},
          "execution_count": 6
        }
      ]
    },
    {
      "cell_type": "code",
      "source": [
        "X = tf.constant(X)\n",
        "y = tf.constant(y)\n",
        "X, y"
      ],
      "metadata": {
        "colab": {
          "base_uri": "https://localhost:8080/"
        },
        "id": "_QX7SZ-kvzx0",
        "outputId": "3de3b780-2adb-46b4-a93d-c679e55902ba"
      },
      "execution_count": null,
      "outputs": [
        {
          "output_type": "execute_result",
          "data": {
            "text/plain": [
              "(<tf.Tensor: shape=(8,), dtype=float64, numpy=array([-7., -4., -1.,  2.,  5.,  8., 11., 14.])>,\n",
              " <tf.Tensor: shape=(8,), dtype=float64, numpy=array([ 3.,  6.,  9., 12., 15., 18., 21., 24.])>)"
            ]
          },
          "metadata": {},
          "execution_count": 7
        }
      ]
    },
    {
      "cell_type": "code",
      "source": [
        "input_shape = X[0].shape\n",
        "output_shape = y[0].shape\n",
        "(input_shape, output_shape)"
      ],
      "metadata": {
        "colab": {
          "base_uri": "https://localhost:8080/"
        },
        "id": "gvJ2cA_DuOVP",
        "outputId": "d168bde6-a8b3-4d35-b370-74d55590b8cf"
      },
      "execution_count": null,
      "outputs": [
        {
          "output_type": "execute_result",
          "data": {
            "text/plain": [
              "(TensorShape([]), TensorShape([]))"
            ]
          },
          "metadata": {},
          "execution_count": 8
        }
      ]
    },
    {
      "cell_type": "code",
      "source": [
        "#Model building\n",
        "tf.random.set_seed(42)\n",
        "\n",
        "model = tf.keras.Sequential([\n",
        "    tf.keras.layers.Dense(1)\n",
        "])\n",
        "\n",
        "model.compile(loss=tf.keras.losses.mae,\n",
        "              optimizer=tf.keras.optimizers.SGD(), #\"sgd\"\n",
        "              metrics=[\"mae\"])\n",
        "\n",
        "model.fit(tf.expand_dims(X, axis=-1), y, epochs=5)"
      ],
      "metadata": {
        "colab": {
          "base_uri": "https://localhost:8080/"
        },
        "id": "qiSDR6afwqWW",
        "outputId": "74d9b071-3cd6-4104-ffc9-6ca8a2c3a37a"
      },
      "execution_count": null,
      "outputs": [
        {
          "output_type": "stream",
          "name": "stdout",
          "text": [
            "Epoch 1/5\n",
            "1/1 [==============================] - 1s 953ms/step - loss: 9.1306 - mae: 9.1306\n",
            "Epoch 2/5\n",
            "1/1 [==============================] - 0s 16ms/step - loss: 8.9981 - mae: 8.9981\n",
            "Epoch 3/5\n",
            "1/1 [==============================] - 0s 13ms/step - loss: 8.8656 - mae: 8.8656\n",
            "Epoch 4/5\n",
            "1/1 [==============================] - 0s 14ms/step - loss: 8.7331 - mae: 8.7331\n",
            "Epoch 5/5\n",
            "1/1 [==============================] - 0s 11ms/step - loss: 8.6006 - mae: 8.6006\n"
          ]
        },
        {
          "output_type": "execute_result",
          "data": {
            "text/plain": [
              "<keras.callbacks.History at 0x79db5891a290>"
            ]
          },
          "metadata": {},
          "execution_count": 9
        }
      ]
    },
    {
      "cell_type": "code",
      "source": [
        "model.predict([17.0]) #still way off"
      ],
      "metadata": {
        "colab": {
          "base_uri": "https://localhost:8080/"
        },
        "id": "WjySqTr5ync6",
        "outputId": "39db3983-74ff-453e-a06a-135ae5c624c3"
      },
      "execution_count": null,
      "outputs": [
        {
          "output_type": "stream",
          "name": "stdout",
          "text": [
            "1/1 [==============================] - 0s 178ms/step\n"
          ]
        },
        {
          "output_type": "execute_result",
          "data": {
            "text/plain": [
              "array([[24.247894]], dtype=float32)"
            ]
          },
          "metadata": {},
          "execution_count": 10
        }
      ]
    },
    {
      "cell_type": "code",
      "source": [
        "#Improving our model through altering model components, compiling strategies, more data/time\n",
        "#Let's code a new model\n",
        "model = tf.keras.Sequential([\n",
        "    tf.keras.layers.Dense(1)\n",
        "])\n",
        "model.compile(loss=tf.keras.losses.mae,\n",
        "              optimizer=tf.keras.optimizers.SGD(),\n",
        "              metrics=[\"mae\"])\n",
        "\n",
        "model.fit(tf.expand_dims(X, axis=-1), y, epochs=100) #Changing epochs to see if it will improve"
      ],
      "metadata": {
        "colab": {
          "base_uri": "https://localhost:8080/"
        },
        "id": "ikgL_O2-y8Hr",
        "outputId": "c6e09e48-f5a8-4245-eb68-5d1f54fa475f"
      },
      "execution_count": null,
      "outputs": [
        {
          "output_type": "stream",
          "name": "stdout",
          "text": [
            "Epoch 1/100\n",
            "1/1 [==============================] - 1s 563ms/step - loss: 19.2931 - mae: 19.2931\n",
            "Epoch 2/100\n",
            "1/1 [==============================] - 0s 16ms/step - loss: 19.0119 - mae: 19.0119\n",
            "Epoch 3/100\n",
            "1/1 [==============================] - 0s 16ms/step - loss: 18.7306 - mae: 18.7306\n",
            "Epoch 4/100\n",
            "1/1 [==============================] - 0s 14ms/step - loss: 18.4494 - mae: 18.4494\n",
            "Epoch 5/100\n",
            "1/1 [==============================] - 0s 13ms/step - loss: 18.1681 - mae: 18.1681\n",
            "Epoch 6/100\n",
            "1/1 [==============================] - 0s 14ms/step - loss: 17.8869 - mae: 17.8869\n",
            "Epoch 7/100\n",
            "1/1 [==============================] - 0s 13ms/step - loss: 17.6056 - mae: 17.6056\n",
            "Epoch 8/100\n",
            "1/1 [==============================] - 0s 18ms/step - loss: 17.3244 - mae: 17.3244\n",
            "Epoch 9/100\n",
            "1/1 [==============================] - 0s 12ms/step - loss: 17.0431 - mae: 17.0431\n",
            "Epoch 10/100\n",
            "1/1 [==============================] - 0s 13ms/step - loss: 16.7619 - mae: 16.7619\n",
            "Epoch 11/100\n",
            "1/1 [==============================] - 0s 14ms/step - loss: 16.4806 - mae: 16.4806\n",
            "Epoch 12/100\n",
            "1/1 [==============================] - 0s 14ms/step - loss: 16.1994 - mae: 16.1994\n",
            "Epoch 13/100\n",
            "1/1 [==============================] - 0s 13ms/step - loss: 15.9181 - mae: 15.9181\n",
            "Epoch 14/100\n",
            "1/1 [==============================] - 0s 15ms/step - loss: 15.6369 - mae: 15.6369\n",
            "Epoch 15/100\n",
            "1/1 [==============================] - 0s 14ms/step - loss: 15.3556 - mae: 15.3556\n",
            "Epoch 16/100\n",
            "1/1 [==============================] - 0s 15ms/step - loss: 15.0744 - mae: 15.0744\n",
            "Epoch 17/100\n",
            "1/1 [==============================] - 0s 12ms/step - loss: 14.8021 - mae: 14.8021\n",
            "Epoch 18/100\n",
            "1/1 [==============================] - 0s 16ms/step - loss: 14.6696 - mae: 14.6696\n",
            "Epoch 19/100\n",
            "1/1 [==============================] - 0s 18ms/step - loss: 14.5371 - mae: 14.5371\n",
            "Epoch 20/100\n",
            "1/1 [==============================] - 0s 15ms/step - loss: 14.4046 - mae: 14.4046\n",
            "Epoch 21/100\n",
            "1/1 [==============================] - 0s 18ms/step - loss: 14.2721 - mae: 14.2721\n",
            "Epoch 22/100\n",
            "1/1 [==============================] - 0s 14ms/step - loss: 14.1396 - mae: 14.1396\n",
            "Epoch 23/100\n",
            "1/1 [==============================] - 0s 12ms/step - loss: 14.0071 - mae: 14.0071\n",
            "Epoch 24/100\n",
            "1/1 [==============================] - 0s 12ms/step - loss: 13.8746 - mae: 13.8746\n",
            "Epoch 25/100\n",
            "1/1 [==============================] - 0s 12ms/step - loss: 13.7421 - mae: 13.7421\n",
            "Epoch 26/100\n",
            "1/1 [==============================] - 0s 12ms/step - loss: 13.6096 - mae: 13.6096\n",
            "Epoch 27/100\n",
            "1/1 [==============================] - 0s 11ms/step - loss: 13.4771 - mae: 13.4771\n",
            "Epoch 28/100\n",
            "1/1 [==============================] - 0s 11ms/step - loss: 13.3446 - mae: 13.3446\n",
            "Epoch 29/100\n",
            "1/1 [==============================] - 0s 16ms/step - loss: 13.2121 - mae: 13.2121\n",
            "Epoch 30/100\n",
            "1/1 [==============================] - 0s 19ms/step - loss: 13.0796 - mae: 13.0796\n",
            "Epoch 31/100\n",
            "1/1 [==============================] - 0s 11ms/step - loss: 12.9471 - mae: 12.9471\n",
            "Epoch 32/100\n",
            "1/1 [==============================] - 0s 12ms/step - loss: 12.8146 - mae: 12.8146\n",
            "Epoch 33/100\n",
            "1/1 [==============================] - 0s 13ms/step - loss: 12.6821 - mae: 12.6821\n",
            "Epoch 34/100\n",
            "1/1 [==============================] - 0s 13ms/step - loss: 12.5496 - mae: 12.5496\n",
            "Epoch 35/100\n",
            "1/1 [==============================] - 0s 13ms/step - loss: 12.4171 - mae: 12.4171\n",
            "Epoch 36/100\n",
            "1/1 [==============================] - 0s 14ms/step - loss: 12.2846 - mae: 12.2846\n",
            "Epoch 37/100\n",
            "1/1 [==============================] - 0s 12ms/step - loss: 12.1521 - mae: 12.1521\n",
            "Epoch 38/100\n",
            "1/1 [==============================] - 0s 15ms/step - loss: 12.0196 - mae: 12.0196\n",
            "Epoch 39/100\n",
            "1/1 [==============================] - 0s 13ms/step - loss: 11.8871 - mae: 11.8871\n",
            "Epoch 40/100\n",
            "1/1 [==============================] - 0s 13ms/step - loss: 11.7546 - mae: 11.7546\n",
            "Epoch 41/100\n",
            "1/1 [==============================] - 0s 13ms/step - loss: 11.6221 - mae: 11.6221\n",
            "Epoch 42/100\n",
            "1/1 [==============================] - 0s 13ms/step - loss: 11.4896 - mae: 11.4896\n",
            "Epoch 43/100\n",
            "1/1 [==============================] - 0s 15ms/step - loss: 11.3571 - mae: 11.3571\n",
            "Epoch 44/100\n",
            "1/1 [==============================] - 0s 12ms/step - loss: 11.2246 - mae: 11.2246\n",
            "Epoch 45/100\n",
            "1/1 [==============================] - 0s 13ms/step - loss: 11.0921 - mae: 11.0921\n",
            "Epoch 46/100\n",
            "1/1 [==============================] - 0s 13ms/step - loss: 10.9596 - mae: 10.9596\n",
            "Epoch 47/100\n",
            "1/1 [==============================] - 0s 13ms/step - loss: 10.8271 - mae: 10.8271\n",
            "Epoch 48/100\n",
            "1/1 [==============================] - 0s 13ms/step - loss: 10.6946 - mae: 10.6946\n",
            "Epoch 49/100\n",
            "1/1 [==============================] - 0s 13ms/step - loss: 10.5621 - mae: 10.5621\n",
            "Epoch 50/100\n",
            "1/1 [==============================] - 0s 12ms/step - loss: 10.4296 - mae: 10.4296\n",
            "Epoch 51/100\n",
            "1/1 [==============================] - 0s 13ms/step - loss: 10.2971 - mae: 10.2971\n",
            "Epoch 52/100\n",
            "1/1 [==============================] - 0s 17ms/step - loss: 10.1646 - mae: 10.1646\n",
            "Epoch 53/100\n",
            "1/1 [==============================] - 0s 13ms/step - loss: 10.0321 - mae: 10.0321\n",
            "Epoch 54/100\n",
            "1/1 [==============================] - 0s 13ms/step - loss: 9.8996 - mae: 9.8996\n",
            "Epoch 55/100\n",
            "1/1 [==============================] - 0s 13ms/step - loss: 9.7671 - mae: 9.7671\n",
            "Epoch 56/100\n",
            "1/1 [==============================] - 0s 11ms/step - loss: 9.6346 - mae: 9.6346\n",
            "Epoch 57/100\n",
            "1/1 [==============================] - 0s 12ms/step - loss: 9.5021 - mae: 9.5021\n",
            "Epoch 58/100\n",
            "1/1 [==============================] - 0s 14ms/step - loss: 9.3696 - mae: 9.3696\n",
            "Epoch 59/100\n",
            "1/1 [==============================] - 0s 12ms/step - loss: 9.2371 - mae: 9.2371\n",
            "Epoch 60/100\n",
            "1/1 [==============================] - 0s 12ms/step - loss: 9.1046 - mae: 9.1046\n",
            "Epoch 61/100\n",
            "1/1 [==============================] - 0s 13ms/step - loss: 8.9721 - mae: 8.9721\n",
            "Epoch 62/100\n",
            "1/1 [==============================] - 0s 13ms/step - loss: 8.8396 - mae: 8.8396\n",
            "Epoch 63/100\n",
            "1/1 [==============================] - 0s 20ms/step - loss: 8.7071 - mae: 8.7071\n",
            "Epoch 64/100\n",
            "1/1 [==============================] - 0s 13ms/step - loss: 8.5746 - mae: 8.5746\n",
            "Epoch 65/100\n",
            "1/1 [==============================] - 0s 26ms/step - loss: 8.4421 - mae: 8.4421\n",
            "Epoch 66/100\n",
            "1/1 [==============================] - 0s 15ms/step - loss: 8.3096 - mae: 8.3096\n",
            "Epoch 67/100\n",
            "1/1 [==============================] - 0s 13ms/step - loss: 8.1771 - mae: 8.1771\n",
            "Epoch 68/100\n",
            "1/1 [==============================] - 0s 14ms/step - loss: 8.0446 - mae: 8.0446\n",
            "Epoch 69/100\n",
            "1/1 [==============================] - 0s 12ms/step - loss: 7.9121 - mae: 7.9121\n",
            "Epoch 70/100\n",
            "1/1 [==============================] - 0s 11ms/step - loss: 7.7796 - mae: 7.7796\n",
            "Epoch 71/100\n",
            "1/1 [==============================] - 0s 12ms/step - loss: 7.6471 - mae: 7.6471\n",
            "Epoch 72/100\n",
            "1/1 [==============================] - 0s 12ms/step - loss: 7.5146 - mae: 7.5146\n",
            "Epoch 73/100\n",
            "1/1 [==============================] - 0s 13ms/step - loss: 7.3821 - mae: 7.3821\n",
            "Epoch 74/100\n",
            "1/1 [==============================] - 0s 21ms/step - loss: 7.2496 - mae: 7.2496\n",
            "Epoch 75/100\n",
            "1/1 [==============================] - 0s 17ms/step - loss: 7.1171 - mae: 7.1171\n",
            "Epoch 76/100\n",
            "1/1 [==============================] - 0s 12ms/step - loss: 6.9846 - mae: 6.9846\n",
            "Epoch 77/100\n",
            "1/1 [==============================] - 0s 12ms/step - loss: 6.9600 - mae: 6.9600\n",
            "Epoch 78/100\n",
            "1/1 [==============================] - 0s 11ms/step - loss: 6.9544 - mae: 6.9544\n",
            "Epoch 79/100\n",
            "1/1 [==============================] - 0s 12ms/step - loss: 6.9488 - mae: 6.9488\n",
            "Epoch 80/100\n",
            "1/1 [==============================] - 0s 12ms/step - loss: 6.9431 - mae: 6.9431\n",
            "Epoch 81/100\n",
            "1/1 [==============================] - 0s 13ms/step - loss: 6.9375 - mae: 6.9375\n",
            "Epoch 82/100\n",
            "1/1 [==============================] - 0s 11ms/step - loss: 6.9319 - mae: 6.9319\n",
            "Epoch 83/100\n",
            "1/1 [==============================] - 0s 12ms/step - loss: 6.9263 - mae: 6.9263\n",
            "Epoch 84/100\n",
            "1/1 [==============================] - 0s 12ms/step - loss: 6.9206 - mae: 6.9206\n",
            "Epoch 85/100\n",
            "1/1 [==============================] - 0s 12ms/step - loss: 6.9150 - mae: 6.9150\n",
            "Epoch 86/100\n",
            "1/1 [==============================] - 0s 12ms/step - loss: 6.9094 - mae: 6.9094\n",
            "Epoch 87/100\n",
            "1/1 [==============================] - 0s 11ms/step - loss: 6.9038 - mae: 6.9038\n",
            "Epoch 88/100\n",
            "1/1 [==============================] - 0s 16ms/step - loss: 6.8981 - mae: 6.8981\n",
            "Epoch 89/100\n",
            "1/1 [==============================] - 0s 11ms/step - loss: 6.8925 - mae: 6.8925\n",
            "Epoch 90/100\n",
            "1/1 [==============================] - 0s 12ms/step - loss: 6.8869 - mae: 6.8869\n",
            "Epoch 91/100\n",
            "1/1 [==============================] - 0s 12ms/step - loss: 6.8813 - mae: 6.8813\n",
            "Epoch 92/100\n",
            "1/1 [==============================] - 0s 12ms/step - loss: 6.8756 - mae: 6.8756\n",
            "Epoch 93/100\n",
            "1/1 [==============================] - 0s 13ms/step - loss: 6.8700 - mae: 6.8700\n",
            "Epoch 94/100\n",
            "1/1 [==============================] - 0s 12ms/step - loss: 6.8644 - mae: 6.8644\n",
            "Epoch 95/100\n",
            "1/1 [==============================] - 0s 15ms/step - loss: 6.8588 - mae: 6.8588\n",
            "Epoch 96/100\n",
            "1/1 [==============================] - 0s 17ms/step - loss: 6.8531 - mae: 6.8531\n",
            "Epoch 97/100\n",
            "1/1 [==============================] - 0s 13ms/step - loss: 6.8475 - mae: 6.8475\n",
            "Epoch 98/100\n",
            "1/1 [==============================] - 0s 15ms/step - loss: 6.8419 - mae: 6.8419\n",
            "Epoch 99/100\n",
            "1/1 [==============================] - 0s 12ms/step - loss: 6.8363 - mae: 6.8363\n",
            "Epoch 100/100\n",
            "1/1 [==============================] - 0s 11ms/step - loss: 6.8306 - mae: 6.8306\n"
          ]
        },
        {
          "output_type": "execute_result",
          "data": {
            "text/plain": [
              "<keras.callbacks.History at 0x79db59233550>"
            ]
          },
          "metadata": {},
          "execution_count": 11
        }
      ]
    },
    {
      "cell_type": "code",
      "source": [
        "model.predict([17.0]) #much better than before"
      ],
      "metadata": {
        "colab": {
          "base_uri": "https://localhost:8080/"
        },
        "id": "JrCABnl61OaH",
        "outputId": "37ad1a8c-d751-43c6-b59a-e7c3a66236c4"
      },
      "execution_count": null,
      "outputs": [
        {
          "output_type": "stream",
          "name": "stdout",
          "text": [
            "1/1 [==============================] - 0s 111ms/step\n"
          ]
        },
        {
          "output_type": "execute_result",
          "data": {
            "text/plain": [
              "array([[29.692717]], dtype=float32)"
            ]
          },
          "metadata": {},
          "execution_count": 12
        }
      ]
    },
    {
      "cell_type": "code",
      "source": [
        "#Keep everything the same but add a hidden layer\n",
        "model = tf.keras.Sequential([\n",
        "    tf.keras.layers.Dense(100, activation='relu'),\n",
        "    tf.keras.layers.Dense(1)\n",
        "])\n",
        "model.compile(loss=tf.keras.losses.mae,\n",
        "              optimizer=tf.keras.optimizers.SGD(),\n",
        "              metrics=[\"mae\"])\n",
        "model.fit(tf.expand_dims(X, axis=-1), y, epochs=100)"
      ],
      "metadata": {
        "colab": {
          "base_uri": "https://localhost:8080/"
        },
        "id": "X_UpUCRN3PVG",
        "outputId": "5a586216-b607-48cb-a0d3-a08af144f023"
      },
      "execution_count": null,
      "outputs": [
        {
          "output_type": "stream",
          "name": "stdout",
          "text": [
            "Epoch 1/100\n",
            "1/1 [==============================] - 1s 553ms/step - loss: 13.6088 - mae: 13.6088\n",
            "Epoch 2/100\n",
            "1/1 [==============================] - 0s 15ms/step - loss: 12.9470 - mae: 12.9470\n",
            "Epoch 3/100\n",
            "1/1 [==============================] - 0s 20ms/step - loss: 12.2824 - mae: 12.2824\n",
            "Epoch 4/100\n",
            "1/1 [==============================] - 0s 13ms/step - loss: 11.6183 - mae: 11.6183\n",
            "Epoch 5/100\n",
            "1/1 [==============================] - 0s 15ms/step - loss: 10.9408 - mae: 10.9408\n",
            "Epoch 6/100\n",
            "1/1 [==============================] - 0s 13ms/step - loss: 10.2465 - mae: 10.2465\n",
            "Epoch 7/100\n",
            "1/1 [==============================] - 0s 12ms/step - loss: 9.5268 - mae: 9.5268\n",
            "Epoch 8/100\n",
            "1/1 [==============================] - 0s 12ms/step - loss: 8.7874 - mae: 8.7874\n",
            "Epoch 9/100\n",
            "1/1 [==============================] - 0s 12ms/step - loss: 8.0180 - mae: 8.0180\n",
            "Epoch 10/100\n",
            "1/1 [==============================] - 0s 11ms/step - loss: 7.2096 - mae: 7.2096\n",
            "Epoch 11/100\n",
            "1/1 [==============================] - 0s 11ms/step - loss: 6.3457 - mae: 6.3457\n",
            "Epoch 12/100\n",
            "1/1 [==============================] - 0s 12ms/step - loss: 5.4272 - mae: 5.4272\n",
            "Epoch 13/100\n",
            "1/1 [==============================] - 0s 11ms/step - loss: 4.4792 - mae: 4.4792\n",
            "Epoch 14/100\n",
            "1/1 [==============================] - 0s 11ms/step - loss: 4.3441 - mae: 4.3441\n",
            "Epoch 15/100\n",
            "1/1 [==============================] - 0s 12ms/step - loss: 4.2065 - mae: 4.2065\n",
            "Epoch 16/100\n",
            "1/1 [==============================] - 0s 11ms/step - loss: 4.0959 - mae: 4.0959\n",
            "Epoch 17/100\n",
            "1/1 [==============================] - 0s 12ms/step - loss: 4.1054 - mae: 4.1054\n",
            "Epoch 18/100\n",
            "1/1 [==============================] - 0s 16ms/step - loss: 4.0295 - mae: 4.0295\n",
            "Epoch 19/100\n",
            "1/1 [==============================] - 0s 11ms/step - loss: 4.0042 - mae: 4.0042\n",
            "Epoch 20/100\n",
            "1/1 [==============================] - 0s 13ms/step - loss: 3.9625 - mae: 3.9625\n",
            "Epoch 21/100\n",
            "1/1 [==============================] - 0s 12ms/step - loss: 3.9026 - mae: 3.9026\n",
            "Epoch 22/100\n",
            "1/1 [==============================] - 0s 11ms/step - loss: 3.9386 - mae: 3.9386\n",
            "Epoch 23/100\n",
            "1/1 [==============================] - 0s 12ms/step - loss: 3.8824 - mae: 3.8824\n",
            "Epoch 24/100\n",
            "1/1 [==============================] - 0s 11ms/step - loss: 3.9474 - mae: 3.9474\n",
            "Epoch 25/100\n",
            "1/1 [==============================] - 0s 14ms/step - loss: 3.8782 - mae: 3.8782\n",
            "Epoch 26/100\n",
            "1/1 [==============================] - 0s 12ms/step - loss: 3.9327 - mae: 3.9327\n",
            "Epoch 27/100\n",
            "1/1 [==============================] - 0s 12ms/step - loss: 3.8862 - mae: 3.8862\n",
            "Epoch 28/100\n",
            "1/1 [==============================] - 0s 12ms/step - loss: 3.9070 - mae: 3.9070\n",
            "Epoch 29/100\n",
            "1/1 [==============================] - 0s 12ms/step - loss: 3.8942 - mae: 3.8942\n",
            "Epoch 30/100\n",
            "1/1 [==============================] - 0s 14ms/step - loss: 3.8838 - mae: 3.8838\n",
            "Epoch 31/100\n",
            "1/1 [==============================] - 0s 11ms/step - loss: 3.9084 - mae: 3.9084\n",
            "Epoch 32/100\n",
            "1/1 [==============================] - 0s 11ms/step - loss: 3.8607 - mae: 3.8607\n",
            "Epoch 33/100\n",
            "1/1 [==============================] - 0s 11ms/step - loss: 3.9166 - mae: 3.9166\n",
            "Epoch 34/100\n",
            "1/1 [==============================] - 0s 11ms/step - loss: 3.8478 - mae: 3.8478\n",
            "Epoch 35/100\n",
            "1/1 [==============================] - 0s 11ms/step - loss: 3.9106 - mae: 3.9106\n",
            "Epoch 36/100\n",
            "1/1 [==============================] - 0s 11ms/step - loss: 3.8560 - mae: 3.8560\n",
            "Epoch 37/100\n",
            "1/1 [==============================] - 0s 10ms/step - loss: 3.8846 - mae: 3.8846\n",
            "Epoch 38/100\n",
            "1/1 [==============================] - 0s 11ms/step - loss: 3.8642 - mae: 3.8642\n",
            "Epoch 39/100\n",
            "1/1 [==============================] - 0s 12ms/step - loss: 3.8638 - mae: 3.8638\n",
            "Epoch 40/100\n",
            "1/1 [==============================] - 0s 11ms/step - loss: 3.8786 - mae: 3.8786\n",
            "Epoch 41/100\n",
            "1/1 [==============================] - 0s 11ms/step - loss: 3.8378 - mae: 3.8378\n",
            "Epoch 42/100\n",
            "1/1 [==============================] - 0s 12ms/step - loss: 3.8869 - mae: 3.8869\n",
            "Epoch 43/100\n",
            "1/1 [==============================] - 0s 11ms/step - loss: 3.8186 - mae: 3.8186\n",
            "Epoch 44/100\n",
            "1/1 [==============================] - 0s 16ms/step - loss: 3.8872 - mae: 3.8872\n",
            "Epoch 45/100\n",
            "1/1 [==============================] - 0s 13ms/step - loss: 3.8269 - mae: 3.8269\n",
            "Epoch 46/100\n",
            "1/1 [==============================] - 0s 12ms/step - loss: 3.8609 - mae: 3.8609\n",
            "Epoch 47/100\n",
            "1/1 [==============================] - 0s 11ms/step - loss: 3.8370 - mae: 3.8370\n",
            "Epoch 48/100\n",
            "1/1 [==============================] - 0s 16ms/step - loss: 3.8401 - mae: 3.8401\n",
            "Epoch 49/100\n",
            "1/1 [==============================] - 0s 12ms/step - loss: 3.8499 - mae: 3.8499\n",
            "Epoch 50/100\n",
            "1/1 [==============================] - 0s 11ms/step - loss: 3.8135 - mae: 3.8135\n",
            "Epoch 51/100\n",
            "1/1 [==============================] - 0s 11ms/step - loss: 3.8584 - mae: 3.8584\n",
            "Epoch 52/100\n",
            "1/1 [==============================] - 0s 11ms/step - loss: 3.7904 - mae: 3.7904\n",
            "Epoch 53/100\n",
            "1/1 [==============================] - 0s 11ms/step - loss: 3.8626 - mae: 3.8626\n",
            "Epoch 54/100\n",
            "1/1 [==============================] - 0s 11ms/step - loss: 3.7989 - mae: 3.7989\n",
            "Epoch 55/100\n",
            "1/1 [==============================] - 0s 11ms/step - loss: 3.8361 - mae: 3.8361\n",
            "Epoch 56/100\n",
            "1/1 [==============================] - 0s 11ms/step - loss: 3.8115 - mae: 3.8115\n",
            "Epoch 57/100\n",
            "1/1 [==============================] - 0s 11ms/step - loss: 3.8149 - mae: 3.8149\n",
            "Epoch 58/100\n",
            "1/1 [==============================] - 0s 12ms/step - loss: 3.8223 - mae: 3.8223\n",
            "Epoch 59/100\n",
            "1/1 [==============================] - 0s 12ms/step - loss: 3.7881 - mae: 3.7881\n",
            "Epoch 60/100\n",
            "1/1 [==============================] - 0s 13ms/step - loss: 3.8310 - mae: 3.8310\n",
            "Epoch 61/100\n",
            "1/1 [==============================] - 0s 13ms/step - loss: 3.7633 - mae: 3.7633\n",
            "Epoch 62/100\n",
            "1/1 [==============================] - 0s 11ms/step - loss: 3.8367 - mae: 3.8367\n",
            "Epoch 63/100\n",
            "1/1 [==============================] - 0s 11ms/step - loss: 3.7720 - mae: 3.7720\n",
            "Epoch 64/100\n",
            "1/1 [==============================] - 0s 15ms/step - loss: 3.8107 - mae: 3.8107\n",
            "Epoch 65/100\n",
            "1/1 [==============================] - 0s 11ms/step - loss: 3.7869 - mae: 3.7869\n",
            "Epoch 66/100\n",
            "1/1 [==============================] - 0s 11ms/step - loss: 3.7882 - mae: 3.7882\n",
            "Epoch 67/100\n",
            "1/1 [==============================] - 0s 11ms/step - loss: 3.7958 - mae: 3.7958\n",
            "Epoch 68/100\n",
            "1/1 [==============================] - 0s 11ms/step - loss: 3.7611 - mae: 3.7611\n",
            "Epoch 69/100\n",
            "1/1 [==============================] - 0s 12ms/step - loss: 3.8047 - mae: 3.8047\n",
            "Epoch 70/100\n",
            "1/1 [==============================] - 0s 11ms/step - loss: 3.7373 - mae: 3.7373\n",
            "Epoch 71/100\n",
            "1/1 [==============================] - 0s 15ms/step - loss: 3.8094 - mae: 3.8094\n",
            "Epoch 72/100\n",
            "1/1 [==============================] - 0s 13ms/step - loss: 3.7462 - mae: 3.7462\n",
            "Epoch 73/100\n",
            "1/1 [==============================] - 0s 16ms/step - loss: 3.7854 - mae: 3.7854\n",
            "Epoch 74/100\n",
            "1/1 [==============================] - 0s 13ms/step - loss: 3.7613 - mae: 3.7613\n",
            "Epoch 75/100\n",
            "1/1 [==============================] - 0s 12ms/step - loss: 3.7604 - mae: 3.7604\n",
            "Epoch 76/100\n",
            "1/1 [==============================] - 0s 12ms/step - loss: 3.7703 - mae: 3.7703\n",
            "Epoch 77/100\n",
            "1/1 [==============================] - 0s 12ms/step - loss: 3.7330 - mae: 3.7330\n",
            "Epoch 78/100\n",
            "1/1 [==============================] - 0s 12ms/step - loss: 3.7794 - mae: 3.7794\n",
            "Epoch 79/100\n",
            "1/1 [==============================] - 0s 12ms/step - loss: 3.7122 - mae: 3.7122\n",
            "Epoch 80/100\n",
            "1/1 [==============================] - 0s 11ms/step - loss: 3.7810 - mae: 3.7810\n",
            "Epoch 81/100\n",
            "1/1 [==============================] - 0s 12ms/step - loss: 3.7213 - mae: 3.7213\n",
            "Epoch 82/100\n",
            "1/1 [==============================] - 0s 12ms/step - loss: 3.7586 - mae: 3.7586\n",
            "Epoch 83/100\n",
            "1/1 [==============================] - 0s 11ms/step - loss: 3.7366 - mae: 3.7366\n",
            "Epoch 84/100\n",
            "1/1 [==============================] - 0s 12ms/step - loss: 3.7312 - mae: 3.7312\n",
            "Epoch 85/100\n",
            "1/1 [==============================] - 0s 12ms/step - loss: 3.7459 - mae: 3.7459\n",
            "Epoch 86/100\n",
            "1/1 [==============================] - 0s 11ms/step - loss: 3.7035 - mae: 3.7035\n",
            "Epoch 87/100\n",
            "1/1 [==============================] - 0s 12ms/step - loss: 3.7552 - mae: 3.7552\n",
            "Epoch 88/100\n",
            "1/1 [==============================] - 0s 12ms/step - loss: 3.6882 - mae: 3.6882\n",
            "Epoch 89/100\n",
            "1/1 [==============================] - 0s 12ms/step - loss: 3.7511 - mae: 3.7511\n",
            "Epoch 90/100\n",
            "1/1 [==============================] - 0s 12ms/step - loss: 3.6986 - mae: 3.6986\n",
            "Epoch 91/100\n",
            "1/1 [==============================] - 0s 12ms/step - loss: 3.7286 - mae: 3.7286\n",
            "Epoch 92/100\n",
            "1/1 [==============================] - 0s 12ms/step - loss: 3.7129 - mae: 3.7129\n",
            "Epoch 93/100\n",
            "1/1 [==============================] - 0s 11ms/step - loss: 3.7007 - mae: 3.7007\n",
            "Epoch 94/100\n",
            "1/1 [==============================] - 0s 12ms/step - loss: 3.7223 - mae: 3.7223\n",
            "Epoch 95/100\n",
            "1/1 [==============================] - 0s 11ms/step - loss: 3.6727 - mae: 3.6727\n",
            "Epoch 96/100\n",
            "1/1 [==============================] - 0s 12ms/step - loss: 3.7319 - mae: 3.7319\n",
            "Epoch 97/100\n",
            "1/1 [==============================] - 0s 12ms/step - loss: 3.6650 - mae: 3.6650\n",
            "Epoch 98/100\n",
            "1/1 [==============================] - 0s 12ms/step - loss: 3.7200 - mae: 3.7200\n",
            "Epoch 99/100\n",
            "1/1 [==============================] - 0s 11ms/step - loss: 3.6775 - mae: 3.6775\n",
            "Epoch 100/100\n",
            "1/1 [==============================] - 0s 11ms/step - loss: 3.6972 - mae: 3.6972\n"
          ]
        },
        {
          "output_type": "execute_result",
          "data": {
            "text/plain": [
              "<keras.callbacks.History at 0x79db5930f910>"
            ]
          },
          "metadata": {},
          "execution_count": 13
        }
      ]
    },
    {
      "cell_type": "code",
      "source": [
        "model.predict([17.0]) #MAE decreased but this particular didn't improve much"
      ],
      "metadata": {
        "colab": {
          "base_uri": "https://localhost:8080/"
        },
        "id": "rLkT4J563-qt",
        "outputId": "250dcdae-a4a1-4b38-98f8-8ed8eed5b21a"
      },
      "execution_count": null,
      "outputs": [
        {
          "output_type": "stream",
          "name": "stdout",
          "text": [
            "1/1 [==============================] - 0s 80ms/step\n"
          ]
        },
        {
          "output_type": "execute_result",
          "data": {
            "text/plain": [
              "array([[32.476017]], dtype=float32)"
            ]
          },
          "metadata": {},
          "execution_count": 14
        }
      ]
    },
    {
      "cell_type": "code",
      "source": [
        "#Now other changes (normally it's best to change one variable at a time, not all)\n",
        "model = tf.keras.Sequential([\n",
        "    tf.keras.layers.Dense(100, activation=\"relu\"),\n",
        "    tf.keras.layers.Dense(50, activation=\"relu\"),\n",
        "    tf.keras.layers.Dense(10, activation=\"relu\"),\n",
        "    tf.keras.layers.Dense(1)\n",
        "])\n",
        "model.compile(loss=tf.keras.losses.mae,\n",
        "              optimizer=tf.keras.optimizers.Adam(learning_rate=0.005),\n",
        "              metrics=[\"mae\"])\n",
        "model.fit(tf.expand_dims(X, axis=-1), y, epochs=100)"
      ],
      "metadata": {
        "colab": {
          "base_uri": "https://localhost:8080/"
        },
        "id": "SNjxzURs1ZLH",
        "outputId": "db9a0405-73fc-4be0-d908-b41e28fa50cb"
      },
      "execution_count": null,
      "outputs": [
        {
          "output_type": "stream",
          "name": "stdout",
          "text": [
            "Epoch 1/100\n",
            "1/1 [==============================] - 1s 1s/step - loss: 13.5496 - mae: 13.5496\n",
            "Epoch 2/100\n",
            "1/1 [==============================] - 0s 15ms/step - loss: 12.7425 - mae: 12.7425\n",
            "Epoch 3/100\n",
            "1/1 [==============================] - 0s 15ms/step - loss: 12.2429 - mae: 12.2429\n",
            "Epoch 4/100\n",
            "1/1 [==============================] - 0s 13ms/step - loss: 11.7045 - mae: 11.7045\n",
            "Epoch 5/100\n",
            "1/1 [==============================] - 0s 17ms/step - loss: 11.1311 - mae: 11.1311\n",
            "Epoch 6/100\n",
            "1/1 [==============================] - 0s 22ms/step - loss: 10.5336 - mae: 10.5336\n",
            "Epoch 7/100\n",
            "1/1 [==============================] - 0s 15ms/step - loss: 10.0253 - mae: 10.0253\n",
            "Epoch 8/100\n",
            "1/1 [==============================] - 0s 12ms/step - loss: 9.4566 - mae: 9.4566\n",
            "Epoch 9/100\n",
            "1/1 [==============================] - 0s 13ms/step - loss: 8.8115 - mae: 8.8115\n",
            "Epoch 10/100\n",
            "1/1 [==============================] - 0s 12ms/step - loss: 8.0854 - mae: 8.0854\n",
            "Epoch 11/100\n",
            "1/1 [==============================] - 0s 12ms/step - loss: 7.2660 - mae: 7.2660\n",
            "Epoch 12/100\n",
            "1/1 [==============================] - 0s 13ms/step - loss: 6.3421 - mae: 6.3421\n",
            "Epoch 13/100\n",
            "1/1 [==============================] - 0s 12ms/step - loss: 5.3030 - mae: 5.3030\n",
            "Epoch 14/100\n",
            "1/1 [==============================] - 0s 12ms/step - loss: 4.1358 - mae: 4.1358\n",
            "Epoch 15/100\n",
            "1/1 [==============================] - 0s 14ms/step - loss: 3.9010 - mae: 3.9010\n",
            "Epoch 16/100\n",
            "1/1 [==============================] - 0s 13ms/step - loss: 4.1678 - mae: 4.1678\n",
            "Epoch 17/100\n",
            "1/1 [==============================] - 0s 12ms/step - loss: 4.6940 - mae: 4.6940\n",
            "Epoch 18/100\n",
            "1/1 [==============================] - 0s 12ms/step - loss: 5.0112 - mae: 5.0112\n",
            "Epoch 19/100\n",
            "1/1 [==============================] - 0s 15ms/step - loss: 5.1362 - mae: 5.1362\n",
            "Epoch 20/100\n",
            "1/1 [==============================] - 0s 12ms/step - loss: 5.0965 - mae: 5.0965\n",
            "Epoch 21/100\n",
            "1/1 [==============================] - 0s 12ms/step - loss: 4.9216 - mae: 4.9216\n",
            "Epoch 22/100\n",
            "1/1 [==============================] - 0s 12ms/step - loss: 4.6497 - mae: 4.6497\n",
            "Epoch 23/100\n",
            "1/1 [==============================] - 0s 13ms/step - loss: 4.2994 - mae: 4.2994\n",
            "Epoch 24/100\n",
            "1/1 [==============================] - 0s 12ms/step - loss: 3.9315 - mae: 3.9315\n",
            "Epoch 25/100\n",
            "1/1 [==============================] - 0s 12ms/step - loss: 3.7707 - mae: 3.7707\n",
            "Epoch 26/100\n",
            "1/1 [==============================] - 0s 13ms/step - loss: 3.6154 - mae: 3.6154\n",
            "Epoch 27/100\n",
            "1/1 [==============================] - 0s 12ms/step - loss: 3.6464 - mae: 3.6464\n",
            "Epoch 28/100\n",
            "1/1 [==============================] - 0s 12ms/step - loss: 3.7523 - mae: 3.7523\n",
            "Epoch 29/100\n",
            "1/1 [==============================] - 0s 14ms/step - loss: 3.9247 - mae: 3.9247\n",
            "Epoch 30/100\n",
            "1/1 [==============================] - 0s 19ms/step - loss: 3.9664 - mae: 3.9664\n",
            "Epoch 31/100\n",
            "1/1 [==============================] - 0s 14ms/step - loss: 3.8206 - mae: 3.8206\n",
            "Epoch 32/100\n",
            "1/1 [==============================] - 0s 16ms/step - loss: 3.6225 - mae: 3.6225\n",
            "Epoch 33/100\n",
            "1/1 [==============================] - 0s 16ms/step - loss: 3.5194 - mae: 3.5194\n",
            "Epoch 34/100\n",
            "1/1 [==============================] - 0s 14ms/step - loss: 3.3583 - mae: 3.3583\n",
            "Epoch 35/100\n",
            "1/1 [==============================] - 0s 13ms/step - loss: 3.3975 - mae: 3.3975\n",
            "Epoch 36/100\n",
            "1/1 [==============================] - 0s 13ms/step - loss: 3.4185 - mae: 3.4185\n",
            "Epoch 37/100\n",
            "1/1 [==============================] - 0s 15ms/step - loss: 3.4245 - mae: 3.4245\n",
            "Epoch 38/100\n",
            "1/1 [==============================] - 0s 16ms/step - loss: 3.4161 - mae: 3.4161\n",
            "Epoch 39/100\n",
            "1/1 [==============================] - 0s 16ms/step - loss: 3.3925 - mae: 3.3925\n",
            "Epoch 40/100\n",
            "1/1 [==============================] - 0s 15ms/step - loss: 3.3542 - mae: 3.3542\n",
            "Epoch 41/100\n",
            "1/1 [==============================] - 0s 16ms/step - loss: 3.3020 - mae: 3.3020\n",
            "Epoch 42/100\n",
            "1/1 [==============================] - 0s 13ms/step - loss: 3.2620 - mae: 3.2620\n",
            "Epoch 43/100\n",
            "1/1 [==============================] - 0s 12ms/step - loss: 3.1677 - mae: 3.1677\n",
            "Epoch 44/100\n",
            "1/1 [==============================] - 0s 13ms/step - loss: 3.0920 - mae: 3.0920\n",
            "Epoch 45/100\n",
            "1/1 [==============================] - 0s 16ms/step - loss: 3.0063 - mae: 3.0063\n",
            "Epoch 46/100\n",
            "1/1 [==============================] - 0s 13ms/step - loss: 2.9268 - mae: 2.9268\n",
            "Epoch 47/100\n",
            "1/1 [==============================] - 0s 12ms/step - loss: 2.8893 - mae: 2.8893\n",
            "Epoch 48/100\n",
            "1/1 [==============================] - 0s 13ms/step - loss: 2.7976 - mae: 2.7976\n",
            "Epoch 49/100\n",
            "1/1 [==============================] - 0s 13ms/step - loss: 2.7429 - mae: 2.7429\n",
            "Epoch 50/100\n",
            "1/1 [==============================] - 0s 13ms/step - loss: 2.6889 - mae: 2.6889\n",
            "Epoch 51/100\n",
            "1/1 [==============================] - 0s 12ms/step - loss: 2.6389 - mae: 2.6389\n",
            "Epoch 52/100\n",
            "1/1 [==============================] - 0s 12ms/step - loss: 2.5667 - mae: 2.5667\n",
            "Epoch 53/100\n",
            "1/1 [==============================] - 0s 13ms/step - loss: 2.4850 - mae: 2.4850\n",
            "Epoch 54/100\n",
            "1/1 [==============================] - 0s 13ms/step - loss: 2.3831 - mae: 2.3831\n",
            "Epoch 55/100\n",
            "1/1 [==============================] - 0s 12ms/step - loss: 2.2981 - mae: 2.2981\n",
            "Epoch 56/100\n",
            "1/1 [==============================] - 0s 12ms/step - loss: 2.2090 - mae: 2.2090\n",
            "Epoch 57/100\n",
            "1/1 [==============================] - 0s 12ms/step - loss: 2.0930 - mae: 2.0930\n",
            "Epoch 58/100\n",
            "1/1 [==============================] - 0s 13ms/step - loss: 1.9947 - mae: 1.9947\n",
            "Epoch 59/100\n",
            "1/1 [==============================] - 0s 14ms/step - loss: 1.8672 - mae: 1.8672\n",
            "Epoch 60/100\n",
            "1/1 [==============================] - 0s 18ms/step - loss: 1.7096 - mae: 1.7096\n",
            "Epoch 61/100\n",
            "1/1 [==============================] - 0s 16ms/step - loss: 1.5554 - mae: 1.5554\n",
            "Epoch 62/100\n",
            "1/1 [==============================] - 0s 14ms/step - loss: 1.3846 - mae: 1.3846\n",
            "Epoch 63/100\n",
            "1/1 [==============================] - 0s 13ms/step - loss: 1.2220 - mae: 1.2220\n",
            "Epoch 64/100\n",
            "1/1 [==============================] - 0s 12ms/step - loss: 1.0314 - mae: 1.0314\n",
            "Epoch 65/100\n",
            "1/1 [==============================] - 0s 13ms/step - loss: 0.8141 - mae: 0.8141\n",
            "Epoch 66/100\n",
            "1/1 [==============================] - 0s 12ms/step - loss: 0.7238 - mae: 0.7238\n",
            "Epoch 67/100\n",
            "1/1 [==============================] - 0s 12ms/step - loss: 0.5489 - mae: 0.5489\n",
            "Epoch 68/100\n",
            "1/1 [==============================] - 0s 13ms/step - loss: 0.6376 - mae: 0.6376\n",
            "Epoch 69/100\n",
            "1/1 [==============================] - 0s 15ms/step - loss: 0.4843 - mae: 0.4843\n",
            "Epoch 70/100\n",
            "1/1 [==============================] - 0s 15ms/step - loss: 0.3939 - mae: 0.3939\n",
            "Epoch 71/100\n",
            "1/1 [==============================] - 0s 13ms/step - loss: 0.5115 - mae: 0.5115\n",
            "Epoch 72/100\n",
            "1/1 [==============================] - 0s 12ms/step - loss: 0.3293 - mae: 0.3293\n",
            "Epoch 73/100\n",
            "1/1 [==============================] - 0s 12ms/step - loss: 0.4926 - mae: 0.4926\n",
            "Epoch 74/100\n",
            "1/1 [==============================] - 0s 16ms/step - loss: 0.4617 - mae: 0.4617\n",
            "Epoch 75/100\n",
            "1/1 [==============================] - 0s 13ms/step - loss: 0.4299 - mae: 0.4299\n",
            "Epoch 76/100\n",
            "1/1 [==============================] - 0s 15ms/step - loss: 0.4729 - mae: 0.4729\n",
            "Epoch 77/100\n",
            "1/1 [==============================] - 0s 12ms/step - loss: 0.3340 - mae: 0.3340\n",
            "Epoch 78/100\n",
            "1/1 [==============================] - 0s 13ms/step - loss: 0.4081 - mae: 0.4081\n",
            "Epoch 79/100\n",
            "1/1 [==============================] - 0s 12ms/step - loss: 0.3350 - mae: 0.3350\n",
            "Epoch 80/100\n",
            "1/1 [==============================] - 0s 12ms/step - loss: 0.4863 - mae: 0.4863\n",
            "Epoch 81/100\n",
            "1/1 [==============================] - 0s 12ms/step - loss: 0.3761 - mae: 0.3761\n",
            "Epoch 82/100\n",
            "1/1 [==============================] - 0s 12ms/step - loss: 0.3532 - mae: 0.3532\n",
            "Epoch 83/100\n",
            "1/1 [==============================] - 0s 12ms/step - loss: 0.3019 - mae: 0.3019\n",
            "Epoch 84/100\n",
            "1/1 [==============================] - 0s 12ms/step - loss: 0.2810 - mae: 0.2810\n",
            "Epoch 85/100\n",
            "1/1 [==============================] - 0s 13ms/step - loss: 0.3105 - mae: 0.3105\n",
            "Epoch 86/100\n",
            "1/1 [==============================] - 0s 13ms/step - loss: 0.2495 - mae: 0.2495\n",
            "Epoch 87/100\n",
            "1/1 [==============================] - 0s 12ms/step - loss: 0.2642 - mae: 0.2642\n",
            "Epoch 88/100\n",
            "1/1 [==============================] - 0s 13ms/step - loss: 0.2437 - mae: 0.2437\n",
            "Epoch 89/100\n",
            "1/1 [==============================] - 0s 12ms/step - loss: 0.2206 - mae: 0.2206\n",
            "Epoch 90/100\n",
            "1/1 [==============================] - 0s 13ms/step - loss: 0.1990 - mae: 0.1990\n",
            "Epoch 91/100\n",
            "1/1 [==============================] - 0s 13ms/step - loss: 0.1519 - mae: 0.1519\n",
            "Epoch 92/100\n",
            "1/1 [==============================] - 0s 12ms/step - loss: 0.1304 - mae: 0.1304\n",
            "Epoch 93/100\n",
            "1/1 [==============================] - 0s 12ms/step - loss: 0.1191 - mae: 0.1191\n",
            "Epoch 94/100\n",
            "1/1 [==============================] - 0s 12ms/step - loss: 0.1669 - mae: 0.1669\n",
            "Epoch 95/100\n",
            "1/1 [==============================] - 0s 12ms/step - loss: 0.1689 - mae: 0.1689\n",
            "Epoch 96/100\n",
            "1/1 [==============================] - 0s 12ms/step - loss: 0.1161 - mae: 0.1161\n",
            "Epoch 97/100\n",
            "1/1 [==============================] - 0s 12ms/step - loss: 0.1878 - mae: 0.1878\n",
            "Epoch 98/100\n",
            "1/1 [==============================] - 0s 12ms/step - loss: 0.1636 - mae: 0.1636\n",
            "Epoch 99/100\n",
            "1/1 [==============================] - 0s 11ms/step - loss: 0.1877 - mae: 0.1877\n",
            "Epoch 100/100\n",
            "1/1 [==============================] - 0s 12ms/step - loss: 0.2249 - mae: 0.2249\n"
          ]
        },
        {
          "output_type": "execute_result",
          "data": {
            "text/plain": [
              "<keras.callbacks.History at 0x79db591d6440>"
            ]
          },
          "metadata": {},
          "execution_count": 15
        }
      ]
    },
    {
      "cell_type": "code",
      "source": [
        "model.predict([17.0, 20.0, 23.0])"
      ],
      "metadata": {
        "colab": {
          "base_uri": "https://localhost:8080/"
        },
        "id": "YhgU80Lh3BNK",
        "outputId": "cfea173c-dd24-4d11-8a61-5dbc7f436895"
      },
      "execution_count": null,
      "outputs": [
        {
          "output_type": "stream",
          "name": "stdout",
          "text": [
            "1/1 [==============================] - 0s 113ms/step\n"
          ]
        },
        {
          "output_type": "execute_result",
          "data": {
            "text/plain": [
              "array([[27.476954],\n",
              "       [30.839792],\n",
              "       [34.348804]], dtype=float32)"
            ]
          },
          "metadata": {},
          "execution_count": 16
        }
      ]
    },
    {
      "cell_type": "code",
      "source": [
        "#When it comes to evaluation, visualization is important\n",
        "#Let's make a bigger dataset\n",
        "X = tf.range(-100, 100, 4)\n",
        "y = X + 10\n",
        "plt.scatter(X, y)"
      ],
      "metadata": {
        "colab": {
          "base_uri": "https://localhost:8080/",
          "height": 448
        },
        "id": "crtYWU987vP-",
        "outputId": "bad488c9-fcb3-41f2-e721-c7ad720df912"
      },
      "execution_count": null,
      "outputs": [
        {
          "output_type": "execute_result",
          "data": {
            "text/plain": [
              "<matplotlib.collections.PathCollection at 0x79db49f506d0>"
            ]
          },
          "metadata": {},
          "execution_count": 17
        },
        {
          "output_type": "display_data",
          "data": {
            "text/plain": [
              "<Figure size 640x480 with 1 Axes>"
            ],
            "image/png": "[encoded data removed]"
          },
          "metadata": {}
        }
      ]
    },
    {
      "cell_type": "code",
      "source": [
        "#Now let's split into train and test sets\n",
        "from sklearn.model_selection import train_test_split as tts\n",
        "X_train, X_test, y_train, y_test = tts(X.numpy(), y.numpy(), test_size=0.2)\n",
        "X_train = tf.constant(X_train)\n",
        "y_train = tf.constant(y_train)\n",
        "X_test = tf.constant(X_test)\n",
        "y_test = tf.constant(y_test) #converting back to tensors (sklearn required numpy for operation)\n"
      ],
      "metadata": {
        "id": "3a_SjXZg8JDp"
      },
      "execution_count": null,
      "outputs": []
    },
    {
      "cell_type": "code",
      "source": [
        "plt.figure(figsize=(10, 7))\n",
        "#Plot training data in blue\n",
        "plt.scatter(X_train, y_train, c='b', label='training_set')\n",
        "plt.scatter(X_test, y_test, c='r', label='testing_set') #note that train_test_split also shuffles the data\n",
        "plt.legend()"
      ],
      "metadata": {
        "colab": {
          "base_uri": "https://localhost:8080/",
          "height": 560
        },
        "id": "TiuG_s5R_STx",
        "outputId": "7a3966f0-1cce-4bdb-98e6-e4207c9b5f69"
      },
      "execution_count": null,
      "outputs": [
        {
          "output_type": "execute_result",
          "data": {
            "text/plain": [
              "<matplotlib.legend.Legend at 0x79db59128550>"
            ]
          },
          "metadata": {},
          "execution_count": 19
        },
        {
          "output_type": "display_data",
          "data": {
            "text/plain": [
              "<Figure size 1000x700 with 1 Axes>"
            ],
            "image/png": "[encoded data removed]"
          },
          "metadata": {}
        }
      ]
    },
    {
      "cell_type": "code",
      "source": [
        "#Now let's build the new model for this data\n",
        "model = tf.keras.Sequential([\n",
        "    tf.keras.layers.Dense(1)\n",
        "])\n",
        "\n",
        "model.compile(loss=tf.keras.losses.mae,\n",
        "              optimizer=tf.keras.optimizers.SGD(),\n",
        "              metrics=[\"mae\"])\n",
        "\n",
        "#model.fit(tf.expand_dims(X_train, axis=-1), y_train, epochs=100) #again, need to add dimension to X since that's what the function expects"
      ],
      "metadata": {
        "id": "piFf4do-8c32"
      },
      "execution_count": null,
      "outputs": []
    },
    {
      "cell_type": "code",
      "source": [
        "#Create a model which automatically build by defining the input_shape arg\n",
        "tf.random.set_seed(42)\n",
        "model = tf.keras.Sequential([\n",
        "    tf.keras.layers.Dense(10, input_shape=[1])\n",
        "])\n",
        "\n",
        "model.compile(loss=tf.keras.losses.mae,\n",
        "              optimizer=tf.keras.optimizers.SGD(),\n",
        "              metrics=['mae'])"
      ],
      "metadata": {
        "id": "yk6tyI6LA-6q"
      },
      "execution_count": null,
      "outputs": []
    },
    {
      "cell_type": "code",
      "source": [
        "model.summary()"
      ],
      "metadata": {
        "colab": {
          "base_uri": "https://localhost:8080/"
        },
        "id": "0uBbAWG0BhM9",
        "outputId": "781fb20b-3952-4997-dba4-bd7f4bb39a14"
      },
      "execution_count": null,
      "outputs": [
        {
          "output_type": "stream",
          "name": "stdout",
          "text": [
            "Model: \"sequential_5\"\n",
            "_________________________________________________________________\n",
            " Layer (type)                Output Shape              Param #   \n",
            "=================================================================\n",
            " dense_9 (Dense)             (None, 10)                20        \n",
            "                                                                 \n",
            "=================================================================\n",
            "Total params: 20\n",
            "Trainable params: 20\n",
            "Non-trainable params: 0\n",
            "_________________________________________________________________\n"
          ]
        }
      ]
    },
    {
      "cell_type": "code",
      "source": [
        "model.fit(tf.expand_dims(X_train, axis=-1), y_train, epochs=100, verbose=0) #0 verbose hides progress"
      ],
      "metadata": {
        "colab": {
          "base_uri": "https://localhost:8080/"
        },
        "id": "07GNQrKKCtDh",
        "outputId": "9bab33d2-9f2c-4b5c-a80f-7f7db05e20b3"
      },
      "execution_count": null,
      "outputs": [
        {
          "output_type": "execute_result",
          "data": {
            "text/plain": [
              "<keras.callbacks.History at 0x79db5bbff400>"
            ]
          },
          "metadata": {},
          "execution_count": 23
        }
      ]
    },
    {
      "cell_type": "code",
      "source": [
        "from tensorflow.keras.utils import plot_model\n",
        "plot_model(model=model, show_shapes=True)"
      ],
      "metadata": {
        "colab": {
          "base_uri": "https://localhost:8080/",
          "height": 201
        },
        "id": "9Benj7mAEcXC",
        "outputId": "cbd54cdf-9323-4b8e-d64d-cf43940fd8ab"
      },
      "execution_count": null,
      "outputs": [
        {
          "output_type": "execute_result",
          "data": {
            "image/png": "[encoded data removed]",
            "text/plain": [
              "<IPython.core.display.Image object>"
            ]
          },
          "metadata": {},
          "execution_count": 24
        }
      ]
    },
    {
      "cell_type": "code",
      "source": [
        "# split into train and test sets\n",
        "from sklearn.model_selection import train_test_split as tts\n",
        "X_train, X_test, y_train, y_test = tts(X.numpy(), y.numpy(), test_size=0.2)\n",
        "X_train = tf.constant(X_train)\n",
        "y_train = tf.constant(y_train)\n",
        "X_test = tf.constant(X_test)\n",
        "y_test = tf.constant(y_test) #converting back to tensors (sklearn required numpy for operation)\n"
      ],
      "metadata": {
        "id": "QW0wTpvHFqk-"
      },
      "execution_count": null,
      "outputs": []
    },
    {
      "cell_type": "code",
      "source": [
        "#build model\n",
        "model = tf.keras.Sequential([\n",
        "    tf.keras.layers.Dense(100, activation=\"relu\"),\n",
        "    tf.keras.layers.Dense(50, activation=\"relu\"),\n",
        "    tf.keras.layers.Dense(10, activation=\"relu\"),\n",
        "    tf.keras.layers.Dense(1)\n",
        "])\n",
        "model.compile(loss=tf.keras.losses.mae,\n",
        "              optimizer=tf.keras.optimizers.Adam(learning_rate=0.005),\n",
        "              metrics=[\"mae\"])\n",
        "model.fit(tf.expand_dims(X_train, axis=-1), y_train, epochs=100)"
      ],
      "metadata": {
        "colab": {
          "base_uri": "https://localhost:8080/"
        },
        "id": "KI3vvnPCFuFr",
        "outputId": "7601995a-115f-401a-efa2-15b3cfe09f49"
      },
      "execution_count": null,
      "outputs": [
        {
          "output_type": "stream",
          "name": "stdout",
          "text": [
            "Epoch 1/100\n",
            "2/2 [==============================] - 1s 12ms/step - loss: 48.5129 - mae: 48.5129\n",
            "Epoch 2/100\n",
            "2/2 [==============================] - 0s 9ms/step - loss: 36.6004 - mae: 36.6004\n",
            "Epoch 3/100\n",
            "2/2 [==============================] - 0s 10ms/step - loss: 27.6170 - mae: 27.6170\n",
            "Epoch 4/100\n",
            "2/2 [==============================] - 0s 8ms/step - loss: 21.0803 - mae: 21.0803\n",
            "Epoch 5/100\n",
            "2/2 [==============================] - 0s 9ms/step - loss: 19.9388 - mae: 19.9388\n",
            "Epoch 6/100\n",
            "2/2 [==============================] - 0s 9ms/step - loss: 13.4866 - mae: 13.4866\n",
            "Epoch 7/100\n",
            "2/2 [==============================] - 0s 11ms/step - loss: 8.3090 - mae: 8.3090\n",
            "Epoch 8/100\n",
            "2/2 [==============================] - 0s 8ms/step - loss: 5.6649 - mae: 5.6649\n",
            "Epoch 9/100\n",
            "2/2 [==============================] - 0s 13ms/step - loss: 8.1698 - mae: 8.1698\n",
            "Epoch 10/100\n",
            "2/2 [==============================] - 0s 11ms/step - loss: 9.1457 - mae: 9.1457\n",
            "Epoch 11/100\n",
            "2/2 [==============================] - 0s 11ms/step - loss: 8.0236 - mae: 8.0236\n",
            "Epoch 12/100\n",
            "2/2 [==============================] - 0s 11ms/step - loss: 5.3803 - mae: 5.3803\n",
            "Epoch 13/100\n",
            "2/2 [==============================] - 0s 11ms/step - loss: 4.1209 - mae: 4.1209\n",
            "Epoch 14/100\n",
            "2/2 [==============================] - 0s 15ms/step - loss: 5.1880 - mae: 5.1880\n",
            "Epoch 15/100\n",
            "2/2 [==============================] - 0s 10ms/step - loss: 5.6480 - mae: 5.6480\n",
            "Epoch 16/100\n",
            "2/2 [==============================] - 0s 10ms/step - loss: 4.7573 - mae: 4.7573\n",
            "Epoch 17/100\n",
            "2/2 [==============================] - 0s 10ms/step - loss: 4.3699 - mae: 4.3699\n",
            "Epoch 18/100\n",
            "2/2 [==============================] - 0s 9ms/step - loss: 4.7055 - mae: 4.7055\n",
            "Epoch 19/100\n",
            "2/2 [==============================] - 0s 11ms/step - loss: 4.3289 - mae: 4.3289\n",
            "Epoch 20/100\n",
            "2/2 [==============================] - 0s 9ms/step - loss: 3.9451 - mae: 3.9451\n",
            "Epoch 21/100\n",
            "2/2 [==============================] - 0s 9ms/step - loss: 3.9525 - mae: 3.9525\n",
            "Epoch 22/100\n",
            "2/2 [==============================] - 0s 9ms/step - loss: 4.5373 - mae: 4.5373\n",
            "Epoch 23/100\n",
            "2/2 [==============================] - 0s 8ms/step - loss: 3.9061 - mae: 3.9061\n",
            "Epoch 24/100\n",
            "2/2 [==============================] - 0s 8ms/step - loss: 4.0471 - mae: 4.0471\n",
            "Epoch 25/100\n",
            "2/2 [==============================] - 0s 13ms/step - loss: 3.9834 - mae: 3.9834\n",
            "Epoch 26/100\n",
            "2/2 [==============================] - 0s 10ms/step - loss: 3.8612 - mae: 3.8612\n",
            "Epoch 27/100\n",
            "2/2 [==============================] - 0s 9ms/step - loss: 3.6995 - mae: 3.6995\n",
            "Epoch 28/100\n",
            "2/2 [==============================] - 0s 9ms/step - loss: 3.6234 - mae: 3.6234\n",
            "Epoch 29/100\n",
            "2/2 [==============================] - 0s 9ms/step - loss: 3.7480 - mae: 3.7480\n",
            "Epoch 30/100\n",
            "2/2 [==============================] - 0s 9ms/step - loss: 3.6185 - mae: 3.6185\n",
            "Epoch 31/100\n",
            "2/2 [==============================] - 0s 9ms/step - loss: 3.7159 - mae: 3.7159\n",
            "Epoch 32/100\n",
            "2/2 [==============================] - 0s 9ms/step - loss: 3.6864 - mae: 3.6864\n",
            "Epoch 33/100\n",
            "2/2 [==============================] - 0s 8ms/step - loss: 3.4943 - mae: 3.4943\n",
            "Epoch 34/100\n",
            "2/2 [==============================] - 0s 10ms/step - loss: 3.5281 - mae: 3.5281\n",
            "Epoch 35/100\n",
            "2/2 [==============================] - 0s 9ms/step - loss: 3.8506 - mae: 3.8506\n",
            "Epoch 36/100\n",
            "2/2 [==============================] - 0s 9ms/step - loss: 3.5130 - mae: 3.5130\n",
            "Epoch 37/100\n",
            "2/2 [==============================] - 0s 9ms/step - loss: 3.3740 - mae: 3.3740\n",
            "Epoch 38/100\n",
            "2/2 [==============================] - 0s 9ms/step - loss: 3.2655 - mae: 3.2655\n",
            "Epoch 39/100\n",
            "2/2 [==============================] - 0s 10ms/step - loss: 3.3347 - mae: 3.3347\n",
            "Epoch 40/100\n",
            "2/2 [==============================] - 0s 9ms/step - loss: 3.2375 - mae: 3.2375\n",
            "Epoch 41/100\n",
            "2/2 [==============================] - 0s 9ms/step - loss: 3.3863 - mae: 3.3863\n",
            "Epoch 42/100\n",
            "2/2 [==============================] - 0s 11ms/step - loss: 3.2309 - mae: 3.2309\n",
            "Epoch 43/100\n",
            "2/2 [==============================] - 0s 12ms/step - loss: 3.4953 - mae: 3.4953\n",
            "Epoch 44/100\n",
            "2/2 [==============================] - 0s 11ms/step - loss: 3.5614 - mae: 3.5614\n",
            "Epoch 45/100\n",
            "2/2 [==============================] - 0s 11ms/step - loss: 3.0781 - mae: 3.0781\n",
            "Epoch 46/100\n",
            "2/2 [==============================] - 0s 9ms/step - loss: 4.5847 - mae: 4.5847\n",
            "Epoch 47/100\n",
            "2/2 [==============================] - 0s 9ms/step - loss: 3.1961 - mae: 3.1961\n",
            "Epoch 48/100\n",
            "2/2 [==============================] - 0s 10ms/step - loss: 4.6457 - mae: 4.6457\n",
            "Epoch 49/100\n",
            "2/2 [==============================] - 0s 9ms/step - loss: 5.0305 - mae: 5.0305\n",
            "Epoch 50/100\n",
            "2/2 [==============================] - 0s 12ms/step - loss: 3.4846 - mae: 3.4846\n",
            "Epoch 51/100\n",
            "2/2 [==============================] - 0s 8ms/step - loss: 4.3772 - mae: 4.3772\n",
            "Epoch 52/100\n",
            "2/2 [==============================] - 0s 8ms/step - loss: 4.4571 - mae: 4.4571\n",
            "Epoch 53/100\n",
            "2/2 [==============================] - 0s 11ms/step - loss: 3.0994 - mae: 3.0994\n",
            "Epoch 54/100\n",
            "2/2 [==============================] - 0s 10ms/step - loss: 3.8077 - mae: 3.8077\n",
            "Epoch 55/100\n",
            "2/2 [==============================] - 0s 9ms/step - loss: 3.7573 - mae: 3.7573\n",
            "Epoch 56/100\n",
            "2/2 [==============================] - 0s 10ms/step - loss: 2.9684 - mae: 2.9684\n",
            "Epoch 57/100\n",
            "2/2 [==============================] - 0s 9ms/step - loss: 3.5858 - mae: 3.5858\n",
            "Epoch 58/100\n",
            "2/2 [==============================] - 0s 10ms/step - loss: 3.1832 - mae: 3.1832\n",
            "Epoch 59/100\n",
            "2/2 [==============================] - 0s 10ms/step - loss: 3.4407 - mae: 3.4407\n",
            "Epoch 60/100\n",
            "2/2 [==============================] - 0s 9ms/step - loss: 2.9915 - mae: 2.9915\n",
            "Epoch 61/100\n",
            "2/2 [==============================] - 0s 9ms/step - loss: 2.9587 - mae: 2.9587\n",
            "Epoch 62/100\n",
            "2/2 [==============================] - 0s 9ms/step - loss: 2.6310 - mae: 2.6310\n",
            "Epoch 63/100\n",
            "2/2 [==============================] - 0s 12ms/step - loss: 2.4947 - mae: 2.4947\n",
            "Epoch 64/100\n",
            "2/2 [==============================] - 0s 14ms/step - loss: 2.5423 - mae: 2.5423\n",
            "Epoch 65/100\n",
            "2/2 [==============================] - 0s 9ms/step - loss: 2.4152 - mae: 2.4152\n",
            "Epoch 66/100\n",
            "2/2 [==============================] - 0s 8ms/step - loss: 2.4622 - mae: 2.4622\n",
            "Epoch 67/100\n",
            "2/2 [==============================] - 0s 10ms/step - loss: 3.0154 - mae: 3.0154\n",
            "Epoch 68/100\n",
            "2/2 [==============================] - 0s 8ms/step - loss: 2.7205 - mae: 2.7205\n",
            "Epoch 69/100\n",
            "2/2 [==============================] - 0s 8ms/step - loss: 2.7938 - mae: 2.7938\n",
            "Epoch 70/100\n",
            "2/2 [==============================] - 0s 8ms/step - loss: 2.9230 - mae: 2.9230\n",
            "Epoch 71/100\n",
            "2/2 [==============================] - 0s 10ms/step - loss: 2.3259 - mae: 2.3259\n",
            "Epoch 72/100\n",
            "2/2 [==============================] - 0s 13ms/step - loss: 3.1697 - mae: 3.1697\n",
            "Epoch 73/100\n",
            "2/2 [==============================] - 0s 9ms/step - loss: 2.1937 - mae: 2.1937\n",
            "Epoch 74/100\n",
            "2/2 [==============================] - 0s 12ms/step - loss: 3.0835 - mae: 3.0835\n",
            "Epoch 75/100\n",
            "2/2 [==============================] - 0s 10ms/step - loss: 3.1502 - mae: 3.1502\n",
            "Epoch 76/100\n",
            "2/2 [==============================] - 0s 11ms/step - loss: 2.1374 - mae: 2.1374\n",
            "Epoch 77/100\n",
            "2/2 [==============================] - 0s 10ms/step - loss: 2.5802 - mae: 2.5802\n",
            "Epoch 78/100\n",
            "2/2 [==============================] - 0s 9ms/step - loss: 2.5551 - mae: 2.5551\n",
            "Epoch 79/100\n",
            "2/2 [==============================] - 0s 10ms/step - loss: 3.5168 - mae: 3.5168\n",
            "Epoch 80/100\n",
            "2/2 [==============================] - 0s 10ms/step - loss: 2.4631 - mae: 2.4631\n",
            "Epoch 81/100\n",
            "2/2 [==============================] - 0s 9ms/step - loss: 3.1997 - mae: 3.1997\n",
            "Epoch 82/100\n",
            "2/2 [==============================] - 0s 11ms/step - loss: 3.0520 - mae: 3.0520\n",
            "Epoch 83/100\n",
            "2/2 [==============================] - 0s 10ms/step - loss: 3.0629 - mae: 3.0629\n",
            "Epoch 84/100\n",
            "2/2 [==============================] - 0s 11ms/step - loss: 2.7916 - mae: 2.7916\n",
            "Epoch 85/100\n",
            "2/2 [==============================] - 0s 11ms/step - loss: 1.7104 - mae: 1.7104\n",
            "Epoch 86/100\n",
            "2/2 [==============================] - 0s 10ms/step - loss: 2.7803 - mae: 2.7803\n",
            "Epoch 87/100\n",
            "2/2 [==============================] - 0s 9ms/step - loss: 2.0443 - mae: 2.0443\n",
            "Epoch 88/100\n",
            "2/2 [==============================] - 0s 9ms/step - loss: 1.9830 - mae: 1.9830\n",
            "Epoch 89/100\n",
            "2/2 [==============================] - 0s 9ms/step - loss: 2.3456 - mae: 2.3456\n",
            "Epoch 90/100\n",
            "2/2 [==============================] - 0s 9ms/step - loss: 1.4641 - mae: 1.4641\n",
            "Epoch 91/100\n",
            "2/2 [==============================] - 0s 9ms/step - loss: 1.9557 - mae: 1.9557\n",
            "Epoch 92/100\n",
            "2/2 [==============================] - 0s 10ms/step - loss: 2.7082 - mae: 2.7082\n",
            "Epoch 93/100\n",
            "2/2 [==============================] - 0s 9ms/step - loss: 1.4554 - mae: 1.4554\n",
            "Epoch 94/100\n",
            "2/2 [==============================] - 0s 10ms/step - loss: 2.3212 - mae: 2.3212\n",
            "Epoch 95/100\n",
            "2/2 [==============================] - 0s 10ms/step - loss: 1.4320 - mae: 1.4320\n",
            "Epoch 96/100\n",
            "2/2 [==============================] - 0s 9ms/step - loss: 1.6815 - mae: 1.6815\n",
            "Epoch 97/100\n",
            "2/2 [==============================] - 0s 9ms/step - loss: 1.1062 - mae: 1.1062\n",
            "Epoch 98/100\n",
            "2/2 [==============================] - 0s 9ms/step - loss: 1.5910 - mae: 1.5910\n",
            "Epoch 99/100\n",
            "2/2 [==============================] - 0s 9ms/step - loss: 1.2176 - mae: 1.2176\n",
            "Epoch 100/100\n",
            "2/2 [==============================] - 0s 9ms/step - loss: 1.4423 - mae: 1.4423\n"
          ]
        },
        {
          "output_type": "execute_result",
          "data": {
            "text/plain": [
              "<keras.callbacks.History at 0x79db4af067a0>"
            ]
          },
          "metadata": {},
          "execution_count": 26
        }
      ]
    },
    {
      "cell_type": "code",
      "source": [
        "#Visualize model's predictions vs ground truth\n",
        "y_pred = model.predict(X_test)\n",
        "y_pred"
      ],
      "metadata": {
        "colab": {
          "base_uri": "https://localhost:8080/"
        },
        "id": "NBNhDeFAFPS0",
        "outputId": "464bb343-401a-4a23-ba38-02f8ac0fc792"
      },
      "execution_count": null,
      "outputs": [
        {
          "output_type": "stream",
          "name": "stderr",
          "text": [
            "WARNING:tensorflow:5 out of the last 5 calls to <function Model.make_predict_function.<locals>.predict_function at 0x79db5911dab0> triggered tf.function retracing. Tracing is expensive and the excessive number of tracings could be due to (1) creating @tf.function repeatedly in a loop, (2) passing tensors with different shapes, (3) passing Python objects instead of tensors. For (1), please define your @tf.function outside of the loop. For (2), @tf.function has reduce_retracing=True option that can avoid unnecessary retracing. For (3), please refer to https://www.tensorflow.org/guide/function#controlling_retracing and https://www.tensorflow.org/api_docs/python/tf/function for  more details.\n"
          ]
        },
        {
          "output_type": "stream",
          "name": "stdout",
          "text": [
            "1/1 [==============================] - 0s 88ms/step\n"
          ]
        },
        {
          "output_type": "execute_result",
          "data": {
            "text/plain": [
              "array([[-18.950846 ],\n",
              "       [ 54.13473  ],\n",
              "       [-86.60599  ],\n",
              "       [ 66.68455  ],\n",
              "       [104.33398  ],\n",
              "       [  3.8921895],\n",
              "       [-43.02382  ],\n",
              "       [-10.678875 ],\n",
              "       [ 83.41761  ],\n",
              "       [-50.96346  ]], dtype=float32)"
            ]
          },
          "metadata": {},
          "execution_count": 27
        }
      ]
    },
    {
      "cell_type": "code",
      "source": [
        "#create plotting function\n",
        "def plot_pred(train_data=X_train,\n",
        "              train_labels=y_train,\n",
        "              test_data=X_test,\n",
        "              test_labels=y_test,\n",
        "              predictions=y_pred\n",
        "              ):\n",
        "  \"\"\"\n",
        "  Plots training data, test data, compares predictions\n",
        "  \"\"\"\n",
        "  plt.figure(figsize=(10, 7))\n",
        "  plt.scatter(train_data, train_labels, c=\"b\", label=\"Training Data\")\n",
        "  plt.scatter(test_data,test_labels, c='g', label=\"Testing Data\")\n",
        "  plt.scatter(test_data, predictions, c='r', label=\"Predictions\")\n",
        "  plt.legend()"
      ],
      "metadata": {
        "id": "0u1T_rTnGFSQ"
      },
      "execution_count": null,
      "outputs": []
    },
    {
      "cell_type": "code",
      "source": [
        "plot_pred()"
      ],
      "metadata": {
        "colab": {
          "base_uri": "https://localhost:8080/",
          "height": 541
        },
        "id": "EPgkbFtvHJof",
        "outputId": "25312ad1-a2ff-4931-ef3b-601deab549ef"
      },
      "execution_count": null,
      "outputs": [
        {
          "output_type": "display_data",
          "data": {
            "text/plain": [
              "<Figure size 1000x700 with 1 Axes>"
            ],
            "image/png": "[encoded data removed]"
          },
          "metadata": {}
        }
      ]
    },
    {
      "cell_type": "code",
      "source": [
        "#Evaluation\n",
        "model.evaluate(X_test, y_test) #simple way"
      ],
      "metadata": {
        "colab": {
          "base_uri": "https://localhost:8080/"
        },
        "id": "kKHHA8LiHgVJ",
        "outputId": "a89cccdc-53ef-4df5-d7e7-ab52b26cadba"
      },
      "execution_count": null,
      "outputs": [
        {
          "output_type": "stream",
          "name": "stdout",
          "text": [
            "1/1 [==============================] - 0s 190ms/step - loss: 1.0902 - mae: 1.0902\n"
          ]
        },
        {
          "output_type": "execute_result",
          "data": {
            "text/plain": [
              "[1.0901660919189453, 1.0901660919189453]"
            ]
          },
          "metadata": {},
          "execution_count": 30
        }
      ]
    },
    {
      "cell_type": "code",
      "source": [
        "#Through mean absolute error\n",
        "def mae (y_true, y_pred):\n",
        "  x = tf.keras.losses.MeanAbsoluteError()\n",
        "  return x(y_test, tf.squeeze(y_pred)) #y_pred had an singleton dimension on axis=-1 and needed to be squeezed to match shape of y_test\n",
        "\n",
        "mae(y_test, y_pred)"
      ],
      "metadata": {
        "colab": {
          "base_uri": "https://localhost:8080/"
        },
        "id": "xc2n9YzvI5F5",
        "outputId": "4cf8186d-9f89-49a4-ee00-151580347180"
      },
      "execution_count": null,
      "outputs": [
        {
          "output_type": "execute_result",
          "data": {
            "text/plain": [
              "<tf.Tensor: shape=(), dtype=float32, numpy=1.0901663>"
            ]
          },
          "metadata": {},
          "execution_count": 31
        }
      ]
    },
    {
      "cell_type": "code",
      "source": [
        "#Through mean squared error\n",
        "def mse (y_true, y_pred):\n",
        "  x = tf.keras.losses.MeanSquaredError()\n",
        "  return x(y_test, tf.squeeze(y_pred)) #y_pred had an singleton dimension on axis=-1 and needed to be squeezed to match shape of y_test\n",
        "\n",
        "mse(y_test, y_pred)"
      ],
      "metadata": {
        "colab": {
          "base_uri": "https://localhost:8080/"
        },
        "id": "OC38x4RbKjDb",
        "outputId": "e92e6b6d-5576-4371-a656-062e515fc767"
      },
      "execution_count": null,
      "outputs": [
        {
          "output_type": "execute_result",
          "data": {
            "text/plain": [
              "<tf.Tensor: shape=(), dtype=float32, numpy=1.6095346>"
            ]
          },
          "metadata": {},
          "execution_count": 32
        }
      ]
    },
    {
      "cell_type": "code",
      "source": [
        "#Through Huber metric\n",
        "huber = tf.keras.losses.Huber()\n",
        "huber(y_test, tf.squeeze(y_pred))"
      ],
      "metadata": {
        "colab": {
          "base_uri": "https://localhost:8080/"
        },
        "id": "dSueZB1AL4W9",
        "outputId": "fbd64777-2a5c-40af-9838-f69d4440a07a"
      },
      "execution_count": null,
      "outputs": [
        {
          "output_type": "execute_result",
          "data": {
            "text/plain": [
              "<tf.Tensor: shape=(), dtype=float32, numpy=0.64568216>"
            ]
          },
          "metadata": {},
          "execution_count": 33
        }
      ]
    },
    {
      "cell_type": "code",
      "source": [
        "#Modeling experiments\n",
        "#Experiment 1 - 1 model, 100 epochs\n",
        "model_1 = tf.keras.Sequential([\n",
        "    tf.keras.layers.Dense(1)\n",
        "])\n",
        "model_1.compile(loss=tf.keras.losses.mae,\n",
        "              optimizer=tf.keras.optimizers.SGD(),\n",
        "              metrics=['mae'])\n",
        "model_1.fit(tf.expand_dims(X_train, axis=-1), y_train, epochs=100)"
      ],
      "metadata": {
        "colab": {
          "base_uri": "https://localhost:8080/"
        },
        "id": "034SYZtyPoNW",
        "outputId": "bba19ad3-0b19-436c-c198-85d937cfa242"
      },
      "execution_count": null,
      "outputs": [
        {
          "output_type": "stream",
          "name": "stdout",
          "text": [
            "Epoch 1/100\n",
            "2/2 [==============================] - 0s 10ms/step - loss: 19.9280 - mae: 19.9280\n",
            "Epoch 2/100\n",
            "2/2 [==============================] - 0s 7ms/step - loss: 10.2161 - mae: 10.2161\n",
            "Epoch 3/100\n",
            "2/2 [==============================] - 0s 8ms/step - loss: 10.0140 - mae: 10.0140\n",
            "Epoch 4/100\n",
            "2/2 [==============================] - 0s 8ms/step - loss: 9.9721 - mae: 9.9721\n",
            "Epoch 5/100\n",
            "2/2 [==============================] - 0s 10ms/step - loss: 9.7205 - mae: 9.7205\n",
            "Epoch 6/100\n",
            "2/2 [==============================] - 0s 8ms/step - loss: 10.0553 - mae: 10.0553\n",
            "Epoch 7/100\n",
            "2/2 [==============================] - 0s 8ms/step - loss: 13.1116 - mae: 13.1116\n",
            "Epoch 8/100\n",
            "2/2 [==============================] - 0s 10ms/step - loss: 10.3061 - mae: 10.3061\n",
            "Epoch 9/100\n",
            "2/2 [==============================] - 0s 8ms/step - loss: 9.8855 - mae: 9.8855\n",
            "Epoch 10/100\n",
            "2/2 [==============================] - 0s 10ms/step - loss: 17.8393 - mae: 17.8393\n",
            "Epoch 11/100\n",
            "2/2 [==============================] - 0s 8ms/step - loss: 9.7986 - mae: 9.7986\n",
            "Epoch 12/100\n",
            "2/2 [==============================] - 0s 9ms/step - loss: 11.3300 - mae: 11.3300\n",
            "Epoch 13/100\n",
            "2/2 [==============================] - 0s 9ms/step - loss: 12.6196 - mae: 12.6196\n",
            "Epoch 14/100\n",
            "2/2 [==============================] - 0s 8ms/step - loss: 9.5320 - mae: 9.5320\n",
            "Epoch 15/100\n",
            "2/2 [==============================] - 0s 8ms/step - loss: 10.4967 - mae: 10.4967\n",
            "Epoch 16/100\n",
            "2/2 [==============================] - 0s 10ms/step - loss: 9.8015 - mae: 9.8015\n",
            "Epoch 17/100\n",
            "2/2 [==============================] - 0s 10ms/step - loss: 10.3505 - mae: 10.3505\n",
            "Epoch 18/100\n",
            "2/2 [==============================] - 0s 9ms/step - loss: 10.6342 - mae: 10.6342\n",
            "Epoch 19/100\n",
            "2/2 [==============================] - 0s 8ms/step - loss: 16.6904 - mae: 16.6904\n",
            "Epoch 20/100\n",
            "2/2 [==============================] - 0s 8ms/step - loss: 9.6735 - mae: 9.6735\n",
            "Epoch 21/100\n",
            "2/2 [==============================] - 0s 13ms/step - loss: 9.5664 - mae: 9.5664\n",
            "Epoch 22/100\n",
            "2/2 [==============================] - 0s 14ms/step - loss: 12.4624 - mae: 12.4624\n",
            "Epoch 23/100\n",
            "2/2 [==============================] - 0s 8ms/step - loss: 9.5410 - mae: 9.5410\n",
            "Epoch 24/100\n",
            "2/2 [==============================] - 0s 9ms/step - loss: 9.5445 - mae: 9.5445\n",
            "Epoch 25/100\n",
            "2/2 [==============================] - 0s 8ms/step - loss: 9.6845 - mae: 9.6845\n",
            "Epoch 26/100\n",
            "2/2 [==============================] - 0s 9ms/step - loss: 11.4746 - mae: 11.4746\n",
            "Epoch 27/100\n",
            "2/2 [==============================] - 0s 9ms/step - loss: 12.6239 - mae: 12.6239\n",
            "Epoch 28/100\n",
            "2/2 [==============================] - 0s 9ms/step - loss: 13.9360 - mae: 13.9360\n",
            "Epoch 29/100\n",
            "2/2 [==============================] - 0s 10ms/step - loss: 17.6308 - mae: 17.6308\n",
            "Epoch 30/100\n",
            "2/2 [==============================] - 0s 8ms/step - loss: 12.6030 - mae: 12.6030\n",
            "Epoch 31/100\n",
            "2/2 [==============================] - 0s 8ms/step - loss: 12.7066 - mae: 12.7066\n",
            "Epoch 32/100\n",
            "2/2 [==============================] - 0s 9ms/step - loss: 9.4494 - mae: 9.4494\n",
            "Epoch 33/100\n",
            "2/2 [==============================] - 0s 8ms/step - loss: 10.3173 - mae: 10.3173\n",
            "Epoch 34/100\n",
            "2/2 [==============================] - 0s 12ms/step - loss: 17.4531 - mae: 17.4531\n",
            "Epoch 35/100\n",
            "2/2 [==============================] - 0s 9ms/step - loss: 12.0295 - mae: 12.0295\n",
            "Epoch 36/100\n",
            "2/2 [==============================] - 0s 10ms/step - loss: 12.6897 - mae: 12.6897\n",
            "Epoch 37/100\n",
            "2/2 [==============================] - 0s 12ms/step - loss: 15.4756 - mae: 15.4756\n",
            "Epoch 38/100\n",
            "2/2 [==============================] - 0s 13ms/step - loss: 11.8002 - mae: 11.8002\n",
            "Epoch 39/100\n",
            "2/2 [==============================] - 0s 9ms/step - loss: 19.8288 - mae: 19.8288\n",
            "Epoch 40/100\n",
            "2/2 [==============================] - 0s 8ms/step - loss: 10.2819 - mae: 10.2819\n",
            "Epoch 41/100\n",
            "2/2 [==============================] - 0s 8ms/step - loss: 9.6168 - mae: 9.6168\n",
            "Epoch 42/100\n",
            "2/2 [==============================] - 0s 12ms/step - loss: 12.6400 - mae: 12.6400\n",
            "Epoch 43/100\n",
            "2/2 [==============================] - 0s 8ms/step - loss: 9.1569 - mae: 9.1569\n",
            "Epoch 44/100\n",
            "2/2 [==============================] - 0s 8ms/step - loss: 11.6211 - mae: 11.6211\n",
            "Epoch 45/100\n",
            "2/2 [==============================] - 0s 10ms/step - loss: 14.3992 - mae: 14.3992\n",
            "Epoch 46/100\n",
            "2/2 [==============================] - 0s 10ms/step - loss: 9.4973 - mae: 9.4973\n",
            "Epoch 47/100\n",
            "2/2 [==============================] - 0s 8ms/step - loss: 12.7729 - mae: 12.7729\n",
            "Epoch 48/100\n",
            "2/2 [==============================] - 0s 9ms/step - loss: 11.9910 - mae: 11.9910\n",
            "Epoch 49/100\n",
            "2/2 [==============================] - 0s 8ms/step - loss: 10.8159 - mae: 10.8159\n",
            "Epoch 50/100\n",
            "2/2 [==============================] - 0s 8ms/step - loss: 16.3134 - mae: 16.3134\n",
            "Epoch 51/100\n",
            "2/2 [==============================] - 0s 8ms/step - loss: 9.5046 - mae: 9.5046\n",
            "Epoch 52/100\n",
            "2/2 [==============================] - 0s 9ms/step - loss: 9.8615 - mae: 9.8615\n",
            "Epoch 53/100\n",
            "2/2 [==============================] - 0s 9ms/step - loss: 11.6016 - mae: 11.6016\n",
            "Epoch 54/100\n",
            "2/2 [==============================] - 0s 16ms/step - loss: 9.0148 - mae: 9.0148\n",
            "Epoch 55/100\n",
            "2/2 [==============================] - 0s 9ms/step - loss: 9.9499 - mae: 9.9499\n",
            "Epoch 56/100\n",
            "2/2 [==============================] - 0s 9ms/step - loss: 9.1758 - mae: 9.1758\n",
            "Epoch 57/100\n",
            "2/2 [==============================] - 0s 8ms/step - loss: 9.5919 - mae: 9.5919\n",
            "Epoch 58/100\n",
            "2/2 [==============================] - 0s 8ms/step - loss: 9.4199 - mae: 9.4199\n",
            "Epoch 59/100\n",
            "2/2 [==============================] - 0s 12ms/step - loss: 9.3679 - mae: 9.3679\n",
            "Epoch 60/100\n",
            "2/2 [==============================] - 0s 8ms/step - loss: 9.1027 - mae: 9.1027\n",
            "Epoch 61/100\n",
            "2/2 [==============================] - 0s 10ms/step - loss: 9.2483 - mae: 9.2483\n",
            "Epoch 62/100\n",
            "2/2 [==============================] - 0s 8ms/step - loss: 12.6997 - mae: 12.6997\n",
            "Epoch 63/100\n",
            "2/2 [==============================] - 0s 8ms/step - loss: 14.0368 - mae: 14.0368\n",
            "Epoch 64/100\n",
            "2/2 [==============================] - 0s 8ms/step - loss: 16.4404 - mae: 16.4404\n",
            "Epoch 65/100\n",
            "2/2 [==============================] - 0s 8ms/step - loss: 10.3509 - mae: 10.3509\n",
            "Epoch 66/100\n",
            "2/2 [==============================] - 0s 9ms/step - loss: 11.9891 - mae: 11.9891\n",
            "Epoch 67/100\n",
            "2/2 [==============================] - 0s 8ms/step - loss: 15.8047 - mae: 15.8047\n",
            "Epoch 68/100\n",
            "2/2 [==============================] - 0s 9ms/step - loss: 9.2705 - mae: 9.2705\n",
            "Epoch 69/100\n",
            "2/2 [==============================] - 0s 8ms/step - loss: 8.7604 - mae: 8.7604\n",
            "Epoch 70/100\n",
            "2/2 [==============================] - 0s 11ms/step - loss: 8.9943 - mae: 8.9943\n",
            "Epoch 71/100\n",
            "2/2 [==============================] - 0s 8ms/step - loss: 10.8744 - mae: 10.8744\n",
            "Epoch 72/100\n",
            "2/2 [==============================] - 0s 11ms/step - loss: 14.6095 - mae: 14.6095\n",
            "Epoch 73/100\n",
            "2/2 [==============================] - 0s 10ms/step - loss: 17.3877 - mae: 17.3877\n",
            "Epoch 74/100\n",
            "2/2 [==============================] - 0s 11ms/step - loss: 9.0302 - mae: 9.0302\n",
            "Epoch 75/100\n",
            "2/2 [==============================] - 0s 8ms/step - loss: 7.7216 - mae: 7.7216\n",
            "Epoch 76/100\n",
            "2/2 [==============================] - 0s 10ms/step - loss: 17.3027 - mae: 17.3027\n",
            "Epoch 77/100\n",
            "2/2 [==============================] - 0s 9ms/step - loss: 9.3009 - mae: 9.3009\n",
            "Epoch 78/100\n",
            "2/2 [==============================] - 0s 8ms/step - loss: 16.3418 - mae: 16.3418\n",
            "Epoch 79/100\n",
            "2/2 [==============================] - 0s 15ms/step - loss: 8.7938 - mae: 8.7938\n",
            "Epoch 80/100\n",
            "2/2 [==============================] - 0s 9ms/step - loss: 12.2947 - mae: 12.2947\n",
            "Epoch 81/100\n",
            "2/2 [==============================] - 0s 10ms/step - loss: 8.7369 - mae: 8.7369\n",
            "Epoch 82/100\n",
            "2/2 [==============================] - 0s 9ms/step - loss: 10.5368 - mae: 10.5368\n",
            "Epoch 83/100\n",
            "2/2 [==============================] - 0s 7ms/step - loss: 8.6253 - mae: 8.6253\n",
            "Epoch 84/100\n",
            "2/2 [==============================] - 0s 8ms/step - loss: 8.8989 - mae: 8.8989\n",
            "Epoch 85/100\n",
            "2/2 [==============================] - 0s 7ms/step - loss: 8.9704 - mae: 8.9704\n",
            "Epoch 86/100\n",
            "2/2 [==============================] - 0s 7ms/step - loss: 9.0054 - mae: 9.0054\n",
            "Epoch 87/100\n",
            "2/2 [==============================] - 0s 9ms/step - loss: 9.2951 - mae: 9.2951\n",
            "Epoch 88/100\n",
            "2/2 [==============================] - 0s 8ms/step - loss: 10.1025 - mae: 10.1025\n",
            "Epoch 89/100\n",
            "2/2 [==============================] - 0s 9ms/step - loss: 9.1592 - mae: 9.1592\n",
            "Epoch 90/100\n",
            "2/2 [==============================] - 0s 12ms/step - loss: 8.8532 - mae: 8.8532\n",
            "Epoch 91/100\n",
            "2/2 [==============================] - 0s 7ms/step - loss: 8.5889 - mae: 8.5889\n",
            "Epoch 92/100\n",
            "2/2 [==============================] - 0s 8ms/step - loss: 8.5968 - mae: 8.5968\n",
            "Epoch 93/100\n",
            "2/2 [==============================] - 0s 9ms/step - loss: 10.9408 - mae: 10.9408\n",
            "Epoch 94/100\n",
            "2/2 [==============================] - 0s 8ms/step - loss: 8.6545 - mae: 8.6545\n",
            "Epoch 95/100\n",
            "2/2 [==============================] - 0s 8ms/step - loss: 16.1696 - mae: 16.1696\n",
            "Epoch 96/100\n",
            "2/2 [==============================] - 0s 10ms/step - loss: 9.2002 - mae: 9.2002\n",
            "Epoch 97/100\n",
            "2/2 [==============================] - 0s 9ms/step - loss: 9.2339 - mae: 9.2339\n",
            "Epoch 98/100\n",
            "2/2 [==============================] - 0s 9ms/step - loss: 20.3468 - mae: 20.3468\n",
            "Epoch 99/100\n",
            "2/2 [==============================] - 0s 8ms/step - loss: 10.2970 - mae: 10.2970\n",
            "Epoch 100/100\n",
            "2/2 [==============================] - 0s 8ms/step - loss: 12.9231 - mae: 12.9231\n"
          ]
        },
        {
          "output_type": "execute_result",
          "data": {
            "text/plain": [
              "<keras.callbacks.History at 0x79db4a5207f0>"
            ]
          },
          "metadata": {},
          "execution_count": 34
        }
      ]
    },
    {
      "cell_type": "code",
      "source": [
        "#Making and plotting predictions for model_1\n",
        "y_preds_1 = model_1.predict(X_test)\n",
        "plot_pred(predictions=y_preds_1)"
      ],
      "metadata": {
        "colab": {
          "base_uri": "https://localhost:8080/",
          "height": 592
        },
        "id": "SbhhYKbUQa0t",
        "outputId": "6febe173-a12c-4001-aa61-a6dc95f88c38"
      },
      "execution_count": null,
      "outputs": [
        {
          "output_type": "stream",
          "name": "stderr",
          "text": [
            "WARNING:tensorflow:6 out of the last 6 calls to <function Model.make_predict_function.<locals>.predict_function at 0x79db4a52aa70> triggered tf.function retracing. Tracing is expensive and the excessive number of tracings could be due to (1) creating @tf.function repeatedly in a loop, (2) passing tensors with different shapes, (3) passing Python objects instead of tensors. For (1), please define your @tf.function outside of the loop. For (2), @tf.function has reduce_retracing=True option that can avoid unnecessary retracing. For (3), please refer to https://www.tensorflow.org/guide/function#controlling_retracing and https://www.tensorflow.org/api_docs/python/tf/function for  more details.\n"
          ]
        },
        {
          "output_type": "stream",
          "name": "stdout",
          "text": [
            "1/1 [==============================] - 0s 59ms/step\n"
          ]
        },
        {
          "output_type": "display_data",
          "data": {
            "text/plain": [
              "<Figure size 1000x700 with 1 Axes>"
            ],
            "image/png": "[encoded data removed]"
          },
          "metadata": {}
        }
      ]
    },
    {
      "cell_type": "code",
      "source": [
        "# Calculate the eval metrics\n",
        "mae_1 = mae(y_test, y_preds_1)\n",
        "mse_1 = mse(y_test, y_preds_1)\n",
        "mae_1, mse_1"
      ],
      "metadata": {
        "colab": {
          "base_uri": "https://localhost:8080/"
        },
        "id": "BZQp_etbQ0SJ",
        "outputId": "c0fc9552-6aef-422a-c3dc-f8348a897b33"
      },
      "execution_count": null,
      "outputs": [
        {
          "output_type": "execute_result",
          "data": {
            "text/plain": [
              "(<tf.Tensor: shape=(), dtype=float32, numpy=20.649628>,\n",
              " <tf.Tensor: shape=(), dtype=float32, numpy=533.2378>)"
            ]
          },
          "metadata": {},
          "execution_count": 36
        }
      ]
    },
    {
      "cell_type": "code",
      "source": [
        "#model_2 is 2 dense layers trained for 100 epochs\n",
        "model_2 = tf.keras.Sequential([\n",
        "    tf.keras.layers.Dense(10),\n",
        "    tf.keras.layers.Dense(1)\n",
        "])\n",
        "model_2.compile(loss=tf.keras.losses.mae,\n",
        "              optimizer=tf.keras.optimizers.SGD(),\n",
        "              metrics=['mse'])\n",
        "model_2.fit(tf.expand_dims(X_train, axis=-1), y_train, epochs=100)"
      ],
      "metadata": {
        "colab": {
          "base_uri": "https://localhost:8080/"
        },
        "id": "dAkLVQkgSWFi",
        "outputId": "5bd02236-d4c4-4c0d-d728-8127aece72fd"
      },
      "execution_count": null,
      "outputs": [
        {
          "output_type": "stream",
          "name": "stdout",
          "text": [
            "Epoch 1/100\n",
            "2/2 [==============================] - 0s 8ms/step - loss: 73.2626 - mse: 7915.6318\n",
            "Epoch 2/100\n",
            "2/2 [==============================] - 0s 10ms/step - loss: 52.1103 - mse: 3941.1284\n",
            "Epoch 3/100\n",
            "2/2 [==============================] - 0s 9ms/step - loss: 28.8297 - mse: 1166.4899\n",
            "Epoch 4/100\n",
            "2/2 [==============================] - 0s 8ms/step - loss: 10.0019 - mse: 101.6610\n",
            "Epoch 5/100\n",
            "2/2 [==============================] - 0s 8ms/step - loss: 13.2213 - mse: 281.8249\n",
            "Epoch 6/100\n",
            "2/2 [==============================] - 0s 8ms/step - loss: 35.7090 - mse: 1670.9094\n",
            "Epoch 7/100\n",
            "2/2 [==============================] - 0s 8ms/step - loss: 19.7153 - mse: 592.1240\n",
            "Epoch 8/100\n",
            "2/2 [==============================] - 0s 10ms/step - loss: 9.8048 - mse: 116.0862\n",
            "Epoch 9/100\n",
            "2/2 [==============================] - 0s 12ms/step - loss: 20.5695 - mse: 631.4293\n",
            "Epoch 10/100\n",
            "2/2 [==============================] - 0s 11ms/step - loss: 10.0635 - mse: 120.3363\n",
            "Epoch 11/100\n",
            "2/2 [==============================] - 0s 11ms/step - loss: 9.9184 - mse: 99.2442\n",
            "Epoch 12/100\n",
            "2/2 [==============================] - 0s 10ms/step - loss: 16.5969 - mse: 407.8398\n",
            "Epoch 13/100\n",
            "2/2 [==============================] - 0s 13ms/step - loss: 21.5761 - mse: 614.0263\n",
            "Epoch 14/100\n",
            "2/2 [==============================] - 0s 12ms/step - loss: 17.6073 - mse: 464.3695\n",
            "Epoch 15/100\n",
            "2/2 [==============================] - 0s 8ms/step - loss: 25.3012 - mse: 972.5795\n",
            "Epoch 16/100\n",
            "2/2 [==============================] - 0s 9ms/step - loss: 9.8035 - mse: 99.0917\n",
            "Epoch 17/100\n",
            "2/2 [==============================] - 0s 9ms/step - loss: 17.3671 - mse: 424.8673\n",
            "Epoch 18/100\n",
            "2/2 [==============================] - 0s 13ms/step - loss: 32.3395 - mse: 1430.5137\n",
            "Epoch 19/100\n",
            "2/2 [==============================] - 0s 11ms/step - loss: 17.0576 - mse: 459.9979\n",
            "Epoch 20/100\n",
            "2/2 [==============================] - 0s 9ms/step - loss: 19.0569 - mse: 479.1071\n",
            "Epoch 21/100\n",
            "2/2 [==============================] - 0s 8ms/step - loss: 39.1418 - mse: 2074.1492\n",
            "Epoch 22/100\n",
            "2/2 [==============================] - 0s 8ms/step - loss: 16.1245 - mse: 391.6203\n",
            "Epoch 23/100\n",
            "2/2 [==============================] - 0s 8ms/step - loss: 36.6726 - mse: 1824.2311\n",
            "Epoch 24/100\n",
            "2/2 [==============================] - 0s 9ms/step - loss: 9.6728 - mse: 96.1082\n",
            "Epoch 25/100\n",
            "2/2 [==============================] - 0s 9ms/step - loss: 9.5552 - mse: 100.2253\n",
            "Epoch 26/100\n",
            "2/2 [==============================] - 0s 8ms/step - loss: 20.0333 - mse: 517.9694\n",
            "Epoch 27/100\n",
            "2/2 [==============================] - 0s 9ms/step - loss: 26.0963 - mse: 1053.3445\n",
            "Epoch 28/100\n",
            "2/2 [==============================] - 0s 8ms/step - loss: 16.8297 - mse: 458.9697\n",
            "Epoch 29/100\n",
            "2/2 [==============================] - 0s 8ms/step - loss: 31.0840 - mse: 1392.8693\n",
            "Epoch 30/100\n",
            "2/2 [==============================] - 0s 8ms/step - loss: 28.1537 - mse: 1130.3911\n",
            "Epoch 31/100\n",
            "2/2 [==============================] - 0s 9ms/step - loss: 9.3824 - mse: 96.6928\n",
            "Epoch 32/100\n",
            "2/2 [==============================] - 0s 13ms/step - loss: 9.2227 - mse: 114.4892\n",
            "Epoch 33/100\n",
            "2/2 [==============================] - 0s 11ms/step - loss: 11.2415 - mse: 164.5198\n",
            "Epoch 34/100\n",
            "2/2 [==============================] - 0s 9ms/step - loss: 37.5665 - mse: 2040.1057\n",
            "Epoch 35/100\n",
            "2/2 [==============================] - 0s 8ms/step - loss: 10.5087 - mse: 126.5717\n",
            "Epoch 36/100\n",
            "2/2 [==============================] - 0s 13ms/step - loss: 25.5678 - mse: 925.5983\n",
            "Epoch 37/100\n",
            "2/2 [==============================] - 0s 11ms/step - loss: 9.4367 - mse: 99.8154\n",
            "Epoch 38/100\n",
            "2/2 [==============================] - 0s 9ms/step - loss: 15.6109 - mse: 393.9384\n",
            "Epoch 39/100\n",
            "2/2 [==============================] - 0s 11ms/step - loss: 35.7001 - mse: 1755.0530\n",
            "Epoch 40/100\n",
            "2/2 [==============================] - 0s 10ms/step - loss: 17.0304 - mse: 437.3230\n",
            "Epoch 41/100\n",
            "2/2 [==============================] - 0s 10ms/step - loss: 9.9822 - mse: 113.7564\n",
            "Epoch 42/100\n",
            "2/2 [==============================] - 0s 11ms/step - loss: 30.9130 - mse: 1416.4708\n",
            "Epoch 43/100\n",
            "2/2 [==============================] - 0s 18ms/step - loss: 9.6162 - mse: 131.2705\n",
            "Epoch 44/100\n",
            "2/2 [==============================] - 0s 9ms/step - loss: 24.2182 - mse: 920.2585\n",
            "Epoch 45/100\n",
            "2/2 [==============================] - 0s 8ms/step - loss: 33.4227 - mse: 1507.7745\n",
            "Epoch 46/100\n",
            "2/2 [==============================] - 0s 8ms/step - loss: 15.3629 - mse: 385.8694\n",
            "Epoch 47/100\n",
            "2/2 [==============================] - 0s 9ms/step - loss: 20.2080 - mse: 677.5131\n",
            "Epoch 48/100\n",
            "2/2 [==============================] - 0s 9ms/step - loss: 8.9261 - mse: 99.6571\n",
            "Epoch 49/100\n",
            "2/2 [==============================] - 0s 10ms/step - loss: 9.2302 - mse: 94.0932\n",
            "Epoch 50/100\n",
            "2/2 [==============================] - 0s 14ms/step - loss: 21.4063 - mse: 646.9153\n",
            "Epoch 51/100\n",
            "2/2 [==============================] - 0s 10ms/step - loss: 17.1369 - mse: 424.9627\n",
            "Epoch 52/100\n",
            "2/2 [==============================] - 0s 9ms/step - loss: 13.1741 - mse: 291.9947\n",
            "Epoch 53/100\n",
            "2/2 [==============================] - 0s 9ms/step - loss: 26.1081 - mse: 991.5851\n",
            "Epoch 54/100\n",
            "2/2 [==============================] - 0s 14ms/step - loss: 9.1196 - mse: 101.9695\n",
            "Epoch 55/100\n",
            "2/2 [==============================] - 0s 9ms/step - loss: 10.1869 - mse: 190.3992\n",
            "Epoch 56/100\n",
            "2/2 [==============================] - 0s 8ms/step - loss: 21.9090 - mse: 643.1246\n",
            "Epoch 57/100\n",
            "2/2 [==============================] - 0s 8ms/step - loss: 24.6684 - mse: 906.8990\n",
            "Epoch 58/100\n",
            "2/2 [==============================] - 0s 9ms/step - loss: 39.1333 - mse: 2132.3083\n",
            "Epoch 59/100\n",
            "2/2 [==============================] - 0s 8ms/step - loss: 21.3703 - mse: 685.5123\n",
            "Epoch 60/100\n",
            "2/2 [==============================] - 0s 11ms/step - loss: 8.7596 - mse: 102.0759\n",
            "Epoch 61/100\n",
            "2/2 [==============================] - 0s 12ms/step - loss: 16.7647 - mse: 423.7598\n",
            "Epoch 62/100\n",
            "2/2 [==============================] - 0s 8ms/step - loss: 21.2764 - mse: 616.1335\n",
            "Epoch 63/100\n",
            "2/2 [==============================] - 0s 8ms/step - loss: 25.4083 - mse: 982.2596\n",
            "Epoch 64/100\n",
            "2/2 [==============================] - 0s 9ms/step - loss: 56.1660 - mse: 4521.6768\n",
            "Epoch 65/100\n",
            "2/2 [==============================] - 0s 10ms/step - loss: 14.5415 - mse: 353.4390\n",
            "Epoch 66/100\n",
            "2/2 [==============================] - 0s 9ms/step - loss: 25.8282 - mse: 1005.4035\n",
            "Epoch 67/100\n",
            "2/2 [==============================] - 0s 9ms/step - loss: 48.8981 - mse: 3538.7310\n",
            "Epoch 68/100\n",
            "2/2 [==============================] - 0s 15ms/step - loss: 27.6499 - mse: 1115.0548\n",
            "Epoch 69/100\n",
            "2/2 [==============================] - 0s 11ms/step - loss: 18.0825 - mse: 463.4749\n",
            "Epoch 70/100\n",
            "2/2 [==============================] - 0s 11ms/step - loss: 32.0600 - mse: 1437.3010\n",
            "Epoch 71/100\n",
            "2/2 [==============================] - 0s 8ms/step - loss: 27.1685 - mse: 1037.1300\n",
            "Epoch 72/100\n",
            "2/2 [==============================] - 0s 10ms/step - loss: 9.9612 - mse: 124.6787\n",
            "Epoch 73/100\n",
            "2/2 [==============================] - 0s 10ms/step - loss: 40.5995 - mse: 2404.0874\n",
            "Epoch 74/100\n",
            "2/2 [==============================] - 0s 11ms/step - loss: 12.4658 - mse: 250.8616\n",
            "Epoch 75/100\n",
            "2/2 [==============================] - 0s 12ms/step - loss: 26.5991 - mse: 1014.2773\n",
            "Epoch 76/100\n",
            "2/2 [==============================] - 0s 8ms/step - loss: 14.6805 - mse: 352.3912\n",
            "Epoch 77/100\n",
            "2/2 [==============================] - 0s 8ms/step - loss: 36.9289 - mse: 1871.0127\n",
            "Epoch 78/100\n",
            "2/2 [==============================] - 0s 8ms/step - loss: 9.2307 - mse: 108.6106\n",
            "Epoch 79/100\n",
            "2/2 [==============================] - 0s 7ms/step - loss: 19.8610 - mse: 566.0865\n",
            "Epoch 80/100\n",
            "2/2 [==============================] - 0s 8ms/step - loss: 20.9594 - mse: 661.3379\n",
            "Epoch 81/100\n",
            "2/2 [==============================] - 0s 8ms/step - loss: 18.9955 - mse: 525.3027\n",
            "Epoch 82/100\n",
            "2/2 [==============================] - 0s 9ms/step - loss: 21.4631 - mse: 650.2153\n",
            "Epoch 83/100\n",
            "2/2 [==============================] - 0s 9ms/step - loss: 21.6803 - mse: 667.2529\n",
            "Epoch 84/100\n",
            "2/2 [==============================] - 0s 8ms/step - loss: 30.6317 - mse: 1339.7285\n",
            "Epoch 85/100\n",
            "2/2 [==============================] - 0s 10ms/step - loss: 24.6361 - mse: 867.4530\n",
            "Epoch 86/100\n",
            "2/2 [==============================] - 0s 12ms/step - loss: 16.0150 - mse: 380.1686\n",
            "Epoch 87/100\n",
            "2/2 [==============================] - 0s 9ms/step - loss: 15.5009 - mse: 410.3019\n",
            "Epoch 88/100\n",
            "2/2 [==============================] - 0s 7ms/step - loss: 28.3751 - mse: 1136.7444\n",
            "Epoch 89/100\n",
            "2/2 [==============================] - 0s 12ms/step - loss: 18.0649 - mse: 520.4562\n",
            "Epoch 90/100\n",
            "2/2 [==============================] - 0s 10ms/step - loss: 19.7548 - mse: 509.4931\n",
            "Epoch 91/100\n",
            "2/2 [==============================] - 0s 8ms/step - loss: 24.9423 - mse: 912.0400\n",
            "Epoch 92/100\n",
            "2/2 [==============================] - 0s 8ms/step - loss: 16.7329 - mse: 407.3016\n",
            "Epoch 93/100\n",
            "2/2 [==============================] - 0s 8ms/step - loss: 19.0713 - mse: 538.4522\n",
            "Epoch 94/100\n",
            "2/2 [==============================] - 0s 8ms/step - loss: 18.1826 - mse: 480.1964\n",
            "Epoch 95/100\n",
            "2/2 [==============================] - 0s 12ms/step - loss: 34.4174 - mse: 1628.8380\n",
            "Epoch 96/100\n",
            "2/2 [==============================] - 0s 8ms/step - loss: 19.2358 - mse: 571.9393\n",
            "Epoch 97/100\n",
            "2/2 [==============================] - 0s 11ms/step - loss: 17.8148 - mse: 463.4255\n",
            "Epoch 98/100\n",
            "2/2 [==============================] - 0s 11ms/step - loss: 45.6698 - mse: 2788.5859\n",
            "Epoch 99/100\n",
            "2/2 [==============================] - 0s 10ms/step - loss: 30.7334 - mse: 1388.3291\n",
            "Epoch 100/100\n",
            "2/2 [==============================] - 0s 8ms/step - loss: 24.1679 - mse: 788.7120\n"
          ]
        },
        {
          "output_type": "execute_result",
          "data": {
            "text/plain": [
              "<keras.callbacks.History at 0x79db4a499720>"
            ]
          },
          "metadata": {},
          "execution_count": 37
        }
      ]
    },
    {
      "cell_type": "code",
      "source": [
        "#Predictions for model_2\n",
        "y_preds_2 = model_2.predict(X_test)\n",
        "plot_pred(predictions=y_preds_2)"
      ],
      "metadata": {
        "colab": {
          "base_uri": "https://localhost:8080/",
          "height": 554
        },
        "id": "8g5q02-rT5yS",
        "outputId": "16a52f31-d3c7-4571-ca27-b8e33b0ee399"
      },
      "execution_count": null,
      "outputs": [
        {
          "output_type": "stream",
          "name": "stdout",
          "text": [
            "1/1 [==============================] - 0s 104ms/step\n"
          ]
        },
        {
          "output_type": "display_data",
          "data": {
            "text/plain": [
              "<Figure size 1000x700 with 1 Axes>"
            ],
            "image/png": "[encoded data removed]"
          },
          "metadata": {}
        }
      ]
    },
    {
      "cell_type": "code",
      "source": [
        "#Eval metrics for model_2\n",
        "mae_2 = mae(y_test, y_preds_2)\n",
        "mse_2 = mse(y_test, y_preds_2)\n",
        "mae_2, mse_2"
      ],
      "metadata": {
        "colab": {
          "base_uri": "https://localhost:8080/"
        },
        "id": "ihSLT6k2UKsl",
        "outputId": "1ce200ea-73e3-43c7-a622-18ea022862cb"
      },
      "execution_count": null,
      "outputs": [
        {
          "output_type": "execute_result",
          "data": {
            "text/plain": [
              "(<tf.Tensor: shape=(), dtype=float32, numpy=8.300957>,\n",
              " <tf.Tensor: shape=(), dtype=float32, numpy=71.94155>)"
            ]
          },
          "metadata": {},
          "execution_count": 39
        }
      ]
    },
    {
      "cell_type": "code",
      "source": [
        "#Building model 3 - 2 layers for 500 epochs\n",
        "model_3=tf.keras.Sequential([\n",
        "    tf.keras.layers.Dense(10),\n",
        "    tf.keras.layers.Dense(1)\n",
        "])\n",
        "model_3.compile(loss=tf.keras.losses.mae,\n",
        "                optimizer=tf.keras.optimizers.SGD(),\n",
        "                metrics=['mae'])\n",
        "model_3.fit(tf.expand_dims(X_train, axis=-1), y_train, epochs=500, verbose=0)\n",
        "\n",
        "y_preds_3 = model_3.predict(X_test)\n",
        "plot_pred(test_labels=y_test, predictions=y_preds_3)"
      ],
      "metadata": {
        "colab": {
          "base_uri": "https://localhost:8080/",
          "height": 560
        },
        "id": "c-iH71UyUe3W",
        "outputId": "4ba501fb-4357-4267-e407-5d4fb94e01a9"
      },
      "execution_count": null,
      "outputs": [
        {
          "output_type": "stream",
          "name": "stdout",
          "text": [
            "1/1 [==============================] - 0s 62ms/step\n"
          ]
        },
        {
          "output_type": "display_data",
          "data": {
            "text/plain": [
              "<Figure size 1000x700 with 1 Axes>"
            ],
            "image/png": "[encoded data removed]"
          },
          "metadata": {}
        }
      ]
    },
    {
      "cell_type": "code",
      "source": [
        "mae_3 = mae(y_test, y_preds_3)\n",
        "mse_3 = mse(y_test, y_preds_3)\n",
        "mae_3, mse_3"
      ],
      "metadata": {
        "colab": {
          "base_uri": "https://localhost:8080/"
        },
        "id": "cSkNWCGXVbM3",
        "outputId": "d528f2f1-2f92-4676-c876-c9972f3955ef"
      },
      "execution_count": null,
      "outputs": [
        {
          "output_type": "execute_result",
          "data": {
            "text/plain": [
              "(<tf.Tensor: shape=(), dtype=float32, numpy=9.796745>,\n",
              " <tf.Tensor: shape=(), dtype=float32, numpy=143.66599>)"
            ]
          },
          "metadata": {},
          "execution_count": 41
        }
      ]
    },
    {
      "cell_type": "code",
      "source": [
        "#Comparing our models (remember to start experiments small)\n",
        "import pandas as pd\n",
        "model_results = [['model_1', mae_1.numpy(), mse_1.numpy()],\n",
        "                 ['model_2', mae_2.numpy(), mse_2.numpy()],\n",
        "                 ['model_3', mae_3.numpy(), mse_3.numpy()]]\n",
        "all_results = pd.DataFrame(model_results, columns=['model', 'mae', 'mse'])\n",
        "all_results"
      ],
      "metadata": {
        "colab": {
          "base_uri": "https://localhost:8080/",
          "height": 143
        },
        "id": "sog-i41iV85h",
        "outputId": "f438ad51-e145-4be5-875e-f9729f280c72"
      },
      "execution_count": null,
      "outputs": [
        {
          "output_type": "execute_result",
          "data": {
            "text/plain": [
              "     model        mae         mse\n",
              "0  model_1  20.649628  533.237793\n",
              "1  model_2   8.300957   71.941551\n",
              "2  model_3   9.796745  143.665985"
            ],
            "text/html": [
              "\n",
              "  <div id=\"df-325a71e7-5e89-462b-9c8c-da4829e0fb95\" class=\"colab-df-container\">\n",
              "    <div>\n",
              "<style scoped>\n",
              "    .dataframe tbody tr th:only-of-type {\n",
              "        vertical-align: middle;\n",
              "    }\n",
              "\n",
              "    .dataframe tbody tr th {\n",
              "        vertical-align: top;\n",
              "    }\n",
              "\n",
              "    .dataframe thead th {\n",
              "        text-align: right;\n",
              "    }\n",
              "</style>\n",
              "<table border=\"1\" class=\"dataframe\">\n",
              "  <thead>\n",
              "    <tr style=\"text-align: right;\">\n",
              "      <th></th>\n",
              "      <th>model</th>\n",
              "      <th>mae</th>\n",
              "      <th>mse</th>\n",
              "    </tr>\n",
              "  </thead>\n",
              "  <tbody>\n",
              "    <tr>\n",
              "      <th>0</th>\n",
              "      <td>model_1</td>\n",
              "      <td>20.649628</td>\n",
              "      <td>533.237793</td>\n",
              "    </tr>\n",
              "    <tr>\n",
              "      <th>1</th>\n",
              "      <td>model_2</td>\n",
              "      <td>8.300957</td>\n",
              "      <td>71.941551</td>\n",
              "    </tr>\n",
              "    <tr>\n",
              "      <th>2</th>\n",
              "      <td>model_3</td>\n",
              "      <td>9.796745</td>\n",
              "      <td>143.665985</td>\n",
              "    </tr>\n",
              "  </tbody>\n",
              "</table>\n",
              "</div>\n",
              "    <div class=\"colab-df-buttons\">\n",
              "\n",
              "  <div class=\"colab-df-container\">\n",
              "    <button class=\"colab-df-convert\" onclick=\"convertToInteractive('df-325a71e7-5e89-462b-9c8c-da4829e0fb95')\"\n",
              "            title=\"Convert this dataframe to an interactive table.\"\n",
              "            style=\"display:none;\">\n",
              "\n",
              "  <svg xmlns=\"http://www.w3.org/2000/svg\" height=\"24px\" viewBox=\"0 -960 960 960\">\n",
              "    <path d=\"M120-120v-720h720v720H120Zm60-500h600v-160H180v160Zm220 220h160v-160H400v160Zm0 220h160v-160H400v160ZM180-400h160v-160H180v160Zm440 0h160v-160H620v160ZM180-180h160v-160H180v160Zm440 0h160v-160H620v160Z\"/>\n",
              "  </svg>\n",
              "    </button>\n",
              "\n",
              "  <style>\n",
              "    .colab-df-container {\n",
              "      display:flex;\n",
              "      gap: 12px;\n",
              "    }\n",
              "\n",
              "    .colab-df-convert {\n",
              "      background-color: #E8F0FE;\n",
              "      border: none;\n",
              "      border-radius: 50%;\n",
              "      cursor: pointer;\n",
              "      display: none;\n",
              "      fill: #1967D2;\n",
              "      height: 32px;\n",
              "      padding: 0 0 0 0;\n",
              "      width: 32px;\n",
              "    }\n",
              "\n",
              "    .colab-df-convert:hover {\n",
              "      background-color: #E2EBFA;\n",
              "      box-shadow: 0px 1px 2px rgba(60, 64, 67, 0.3), 0px 1px 3px 1px rgba(60, 64, 67, 0.15);\n",
              "      fill: #174EA6;\n",
              "    }\n",
              "\n",
              "    .colab-df-buttons div {\n",
              "      margin-bottom: 4px;\n",
              "    }\n",
              "\n",
              "    [theme=dark] .colab-df-convert {\n",
              "      background-color: #3B4455;\n",
              "      fill: #D2E3FC;\n",
              "    }\n",
              "\n",
              "    [theme=dark] .colab-df-convert:hover {\n",
              "      background-color: #434B5C;\n",
              "      box-shadow: 0px 1px 3px 1px rgba(0, 0, 0, 0.15);\n",
              "      filter: drop-shadow(0px 1px 2px rgba(0, 0, 0, 0.3));\n",
              "      fill: #FFFFFF;\n",
              "    }\n",
              "  </style>\n",
              "\n",
              "    <script>\n",
              "      const buttonEl =\n",
              "        document.querySelector('#df-325a71e7-5e89-462b-9c8c-da4829e0fb95 button.colab-df-convert');\n",
              "      buttonEl.style.display =\n",
              "        google.colab.kernel.accessAllowed ? 'block' : 'none';\n",
              "\n",
              "      async function convertToInteractive(key) {\n",
              "        const element = document.querySelector('#df-325a71e7-5e89-462b-9c8c-da4829e0fb95');\n",
              "        const dataTable =\n",
              "          await google.colab.kernel.invokeFunction('convertToInteractive',\n",
              "                                                    [key], {});\n",
              "        if (!dataTable) return;\n",
              "\n",
              "        const docLinkHtml = 'Like what you see? Visit the ' +\n",
              "          '<a target=\"_blank\" href=https://colab.research.google.com/notebooks/data_table.ipynb>data table notebook</a>'\n",
              "          + ' to learn more about interactive tables.';\n",
              "        element.innerHTML = '';\n",
              "        dataTable['output_type'] = 'display_data';\n",
              "        await google.colab.output.renderOutput(dataTable, element);\n",
              "        const docLink = document.createElement('div');\n",
              "        docLink.innerHTML = docLinkHtml;\n",
              "        element.appendChild(docLink);\n",
              "      }\n",
              "    </script>\n",
              "  </div>\n",
              "\n",
              "\n",
              "<div id=\"df-154c1df1-c82f-45da-9963-e99121f11cf1\">\n",
              "  <button class=\"colab-df-quickchart\" onclick=\"quickchart('df-154c1df1-c82f-45da-9963-e99121f11cf1')\"\n",
              "            title=\"Suggest charts.\"\n",
              "            style=\"display:none;\">\n",
              "\n",
              "<svg xmlns=\"http://www.w3.org/2000/svg\" height=\"24px\"viewBox=\"0 0 24 24\"\n",
              "     width=\"24px\">\n",
              "    <g>\n",
              "        <path d=\"M19 3H5c-1.1 0-2 .9-2 2v14c0 1.1.9 2 2 2h14c1.1 0 2-.9 2-2V5c0-1.1-.9-2-2-2zM9 17H7v-7h2v7zm4 0h-2V7h2v10zm4 0h-2v-4h2v4z\"/>\n",
              "    </g>\n",
              "</svg>\n",
              "  </button>\n",
              "\n",
              "<style>\n",
              "  .colab-df-quickchart {\n",
              "      --bg-color: #E8F0FE;\n",
              "      --fill-color: #1967D2;\n",
              "      --hover-bg-color: #E2EBFA;\n",
              "      --hover-fill-color: #174EA6;\n",
              "      --disabled-fill-color: #AAA;\n",
              "      --disabled-bg-color: #DDD;\n",
              "  }\n",
              "\n",
              "  [theme=dark] .colab-df-quickchart {\n",
              "      --bg-color: #3B4455;\n",
              "      --fill-color: #D2E3FC;\n",
              "      --hover-bg-color: #434B5C;\n",
              "      --hover-fill-color: #FFFFFF;\n",
              "      --disabled-bg-color: #3B4455;\n",
              "      --disabled-fill-color: #666;\n",
              "  }\n",
              "\n",
              "  .colab-df-quickchart {\n",
              "    background-color: var(--bg-color);\n",
              "    border: none;\n",
              "    border-radius: 50%;\n",
              "    cursor: pointer;\n",
              "    display: none;\n",
              "    fill: var(--fill-color);\n",
              "    height: 32px;\n",
              "    padding: 0;\n",
              "    width: 32px;\n",
              "  }\n",
              "\n",
              "  .colab-df-quickchart:hover {\n",
              "    background-color: var(--hover-bg-color);\n",
              "    box-shadow: 0 1px 2px rgba(60, 64, 67, 0.3), 0 1px 3px 1px rgba(60, 64, 67, 0.15);\n",
              "    fill: var(--button-hover-fill-color);\n",
              "  }\n",
              "\n",
              "  .colab-df-quickchart-complete:disabled,\n",
              "  .colab-df-quickchart-complete:disabled:hover {\n",
              "    background-color: var(--disabled-bg-color);\n",
              "    fill: var(--disabled-fill-color);\n",
              "    box-shadow: none;\n",
              "  }\n",
              "\n",
              "  .colab-df-spinner {\n",
              "    border: 2px solid var(--fill-color);\n",
              "    border-color: transparent;\n",
              "    border-bottom-color: var(--fill-color);\n",
              "    animation:\n",
              "      spin 1s steps(1) infinite;\n",
              "  }\n",
              "\n",
              "  @keyframes spin {\n",
              "    0% {\n",
              "      border-color: transparent;\n",
              "      border-bottom-color: var(--fill-color);\n",
              "      border-left-color: var(--fill-color);\n",
              "    }\n",
              "    20% {\n",
              "      border-color: transparent;\n",
              "      border-left-color: var(--fill-color);\n",
              "      border-top-color: var(--fill-color);\n",
              "    }\n",
              "    30% {\n",
              "      border-color: transparent;\n",
              "      border-left-color: var(--fill-color);\n",
              "      border-top-color: var(--fill-color);\n",
              "      border-right-color: var(--fill-color);\n",
              "    }\n",
              "    40% {\n",
              "      border-color: transparent;\n",
              "      border-right-color: var(--fill-color);\n",
              "      border-top-color: var(--fill-color);\n",
              "    }\n",
              "    60% {\n",
              "      border-color: transparent;\n",
              "      border-right-color: var(--fill-color);\n",
              "    }\n",
              "    80% {\n",
              "      border-color: transparent;\n",
              "      border-right-color: var(--fill-color);\n",
              "      border-bottom-color: var(--fill-color);\n",
              "    }\n",
              "    90% {\n",
              "      border-color: transparent;\n",
              "      border-bottom-color: var(--fill-color);\n",
              "    }\n",
              "  }\n",
              "</style>\n",
              "\n",
              "  <script>\n",
              "    async function quickchart(key) {\n",
              "      const quickchartButtonEl =\n",
              "        document.querySelector('#' + key + ' button');\n",
              "      quickchartButtonEl.disabled = true;  // To prevent multiple clicks.\n",
              "      quickchartButtonEl.classList.add('colab-df-spinner');\n",
              "      try {\n",
              "        const charts = await google.colab.kernel.invokeFunction(\n",
              "            'suggestCharts', [key], {});\n",
              "      } catch (error) {\n",
              "        console.error('Error during call to suggestCharts:', error);\n",
              "      }\n",
              "      quickchartButtonEl.classList.remove('colab-df-spinner');\n",
              "      quickchartButtonEl.classList.add('colab-df-quickchart-complete');\n",
              "    }\n",
              "    (() => {\n",
              "      let quickchartButtonEl =\n",
              "        document.querySelector('#df-154c1df1-c82f-45da-9963-e99121f11cf1 button');\n",
              "      quickchartButtonEl.style.display =\n",
              "        google.colab.kernel.accessAllowed ? 'block' : 'none';\n",
              "    })();\n",
              "  </script>\n",
              "</div>\n",
              "    </div>\n",
              "  </div>\n"
            ]
          },
          "metadata": {},
          "execution_count": 42
        }
      ]
    },
    {
      "cell_type": "code",
      "source": [
        "#Saving our models to use outside of colab\n",
        "model_2.save(\"ann_regression_best_model\")"
      ],
      "metadata": {
        "colab": {
          "base_uri": "https://localhost:8080/"
        },
        "id": "bs2uvTInXSKI",
        "outputId": "aecb9c14-fd3a-4784-c100-692ecc9ba638"
      },
      "execution_count": null,
      "outputs": [
        {
          "output_type": "stream",
          "name": "stderr",
          "text": [
            "WARNING:absl:Found untraced functions such as _update_step_xla while saving (showing 1 of 1). These functions will not be directly callable after loading.\n"
          ]
        }
      ]
    },
    {
      "cell_type": "code",
      "source": [
        "#Another way to save (HDF5)\n",
        "model_2.save(\"ann_regression_best_model.h5\")"
      ],
      "metadata": {
        "id": "gfWU0Jd3v3FZ"
      },
      "execution_count": null,
      "outputs": []
    },
    {
      "cell_type": "code",
      "source": [
        "#loading our saved model (SavedModel format) back into colab\n",
        "ld_model_sm = tf.keras.models.load_model(\"ann_regression_best_model\")\n",
        "ld_model_sm.summary()"
      ],
      "metadata": {
        "colab": {
          "base_uri": "https://localhost:8080/"
        },
        "id": "mgmoiqq5wWRE",
        "outputId": "9f74e1e1-ed91-4bf8-8388-bb581c43107f"
      },
      "execution_count": null,
      "outputs": [
        {
          "output_type": "stream",
          "name": "stdout",
          "text": [
            "Model: \"sequential_8\"\n",
            "_________________________________________________________________\n",
            " Layer (type)                Output Shape              Param #   \n",
            "=================================================================\n",
            " dense_15 (Dense)            (None, 10)                20        \n",
            "                                                                 \n",
            " dense_16 (Dense)            (None, 1)                 11        \n",
            "                                                                 \n",
            "=================================================================\n",
            "Total params: 31\n",
            "Trainable params: 31\n",
            "Non-trainable params: 0\n",
            "_________________________________________________________________\n"
          ]
        }
      ]
    },
    {
      "cell_type": "code",
      "source": [
        "#Compare loaded model's predictions (to test whether correctly saved)\n",
        "model_2_preds = model_2.predict(X_test)\n",
        "ld_model_sm_preds = ld_model_sm.predict(X_test)\n",
        "ld_model_sm_preds == model_2_preds"
      ],
      "metadata": {
        "colab": {
          "base_uri": "https://localhost:8080/"
        },
        "id": "stlFufHbwzrj",
        "outputId": "efca6e5d-49a5-4fca-c3a7-39045863a1d8"
      },
      "execution_count": null,
      "outputs": [
        {
          "output_type": "stream",
          "name": "stdout",
          "text": [
            "1/1 [==============================] - 0s 54ms/step\n",
            "1/1 [==============================] - 0s 111ms/step\n"
          ]
        },
        {
          "output_type": "execute_result",
          "data": {
            "text/plain": [
              "array([[ True],\n",
              "       [ True],\n",
              "       [ True],\n",
              "       [ True],\n",
              "       [ True],\n",
              "       [ True],\n",
              "       [ True],\n",
              "       [ True],\n",
              "       [ True],\n",
              "       [ True]])"
            ]
          },
          "metadata": {},
          "execution_count": 48
        }
      ]
    },
    {
      "cell_type": "code",
      "source": [
        "#Loading our saved model (hdf5 format)\n",
        "lm_h5 = tf.keras.models.load_model(\"ann_regression_best_model.h5\")\n",
        "lm_h5.summary()"
      ],
      "metadata": {
        "colab": {
          "base_uri": "https://localhost:8080/"
        },
        "id": "QCSmLguixpd4",
        "outputId": "5c3d1a8a-9d09-49d7-a08a-510747115833"
      },
      "execution_count": null,
      "outputs": [
        {
          "output_type": "stream",
          "name": "stdout",
          "text": [
            "Model: \"sequential_8\"\n",
            "_________________________________________________________________\n",
            " Layer (type)                Output Shape              Param #   \n",
            "=================================================================\n",
            " dense_15 (Dense)            (None, 10)                20        \n",
            "                                                                 \n",
            " dense_16 (Dense)            (None, 1)                 11        \n",
            "                                                                 \n",
            "=================================================================\n",
            "Total params: 31\n",
            "Trainable params: 31\n",
            "Non-trainable params: 0\n",
            "_________________________________________________________________\n"
          ]
        }
      ]
    },
    {
      "cell_type": "code",
      "source": [
        "#Compare predictions\n",
        "model_2_preds = model_2.predict(X_test)\n",
        "lm_h5_preds = lm_h5.predict(X_test)\n",
        "lm_h5_preds == model_2_preds"
      ],
      "metadata": {
        "colab": {
          "base_uri": "https://localhost:8080/"
        },
        "id": "G3ImCquGyCAF",
        "outputId": "0cd5f6c2-3bea-4bd4-fe8c-551952df4370"
      },
      "execution_count": null,
      "outputs": [
        {
          "output_type": "stream",
          "name": "stdout",
          "text": [
            "1/1 [==============================] - 0s 25ms/step\n",
            "1/1 [==============================] - 0s 61ms/step\n"
          ]
        },
        {
          "output_type": "execute_result",
          "data": {
            "text/plain": [
              "array([[ True],\n",
              "       [ True],\n",
              "       [ True],\n",
              "       [ True],\n",
              "       [ True],\n",
              "       [ True],\n",
              "       [ True],\n",
              "       [ True],\n",
              "       [ True],\n",
              "       [ True]])"
            ]
          },
          "metadata": {},
          "execution_count": 50
        }
      ]
    }
  ]
}