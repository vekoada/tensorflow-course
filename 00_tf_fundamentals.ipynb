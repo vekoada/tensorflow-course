{
  "nbformat": 4,
  "nbformat_minor": 0,
  "metadata": {
    "colab": {
      "provenance": [],
      "authorship_tag": "ABX9TyNyOW71HftHkO7fQUC8UE5H",
      "include_colab_link": true
    },
    "kernelspec": {
      "name": "python3",
      "display_name": "Python 3"
    },
    "language_info": {
      "name": "python"
    }
  },
  "cells": [
    {
      "cell_type": "markdown",
      "metadata": {
        "id": "view-in-github",
        "colab_type": "text"
      },
      "source": [
        "<a href=\"https://colab.research.google.com/github/vekoada/tensorflow-course/blob/main/00_tf_fundamentals.ipynb\" target=\"_parent\"><img src=\"https://colab.research.google.com/assets/colab-badge.svg\" alt=\"Open In Colab\"/></a>"
      ]
    },
    {
      "cell_type": "markdown",
      "source": [
        "## Topics Covered\n",
        "Introduction and TensorFlow version check\n",
        "\n",
        "Creating Scalars, Vectors, and Matrices\n",
        "\n",
        "Checking the number of dimensions\n",
        "\n",
        "Creating tensors with different data types\n",
        "\n",
        "Working with tensors using tf.Variable\n",
        "\n",
        "Indexing and updating elements in tensors\n",
        "\n",
        "Generating random tensors\n",
        "\n",
        "Shuffling tensor elements\n",
        "\n",
        "Creating tensors of ones and zeros\n",
        "\n",
        "Converting NumPy arrays to tensors\n",
        "\n",
        "Tensor shape, rank, axis, and size\n",
        "\n",
        "Basic tensor indexing and slicing\n",
        "\n",
        "Adding an extra dimension to tensors\n",
        "\n",
        "Basic tensor operations (Addition, Multiplication)\n",
        "\n",
        "Matrix multiplication and operations\n",
        "\n",
        "Reshaping tensors and transposing\n",
        "\n",
        "Dot product with tf.matmul and tf.tensordot\n",
        "\n",
        "Changing data types with tf.cast\n",
        "\n",
        "Aggregating tensors (min, max, mean, sum, variance, stdev)\n",
        "\n",
        "Finding positional min and max values\n",
        "\n",
        "Squeezing tensors to remove dimensions of size 1\n",
        "\n",
        "One-hot encoding\n",
        "\n",
        "Finding square root and logarithm\n",
        "\n",
        "TensorFlow and NumPy compatibility\n",
        "\n"
      ],
      "metadata": {
        "id": "cWHEG9JHtJd7"
      }
    },
    {
      "cell_type": "markdown",
      "source": [
        "###Methods\n",
        "`tf.constant()` - Creates tensors with specified values.\n",
        "\n",
        "`tf.random.Generator.from_seed()` - Creates a random generator with a specific seed.\n",
        "\n",
        "`random.normal()` - Generates random normal values using the given generator.\n",
        "\n",
        "`tf.random.shuffle()` - Shuffles the order of elements in a tensor.\n",
        "\n",
        "`tf.ones()` - Creates a tensor filled with ones.\n",
        "`tf.zeros()` - Creates a tensor filled with zeros.\n",
        "\n",
        "`np.arange()` - Generates an array of values with a specified range.\n",
        "\n",
        "`tf.constant()` (with numpy array) - Converts a numpy array into a tensor.\n",
        "\n",
        "`tf.reshape()` - Reshapes a tensor.\n",
        "\n",
        "`tf.expand_dims()` - Adds extra dimensions to a tensor.\n",
        "\n",
        "`tf.transpose(`) - Transposes a tensor.\n",
        "\n",
        "`tf.tensordot()` - Computes the dot product of two tensors along specified axes.\n",
        "\n",
        "`tf.matmul()` - Computes the matrix multiplication of two tensors.\n",
        "\n",
        "tensor + scalar - Performs element-wise addition of a scalar to a tensor.\n",
        "\n",
        "tensor * scalar - Performs element-wise multiplication of a tensor by a scalar.\n",
        "\n",
        "`tf.cast()` - Changes the data type of a tensor.\n",
        "\n",
        "`tf.reduce_min()`- Computes the minimum value in a tensor.\n",
        "\n",
        "`tf.reduce_max()` - Computes the maximum value in a tensor.\n",
        "\n",
        "`tf.reduce_mean()` - Computes the mean value of a tensor.\n",
        "\n",
        "`tf.reduce_sum()` - Computes the sum of all elements in a tensor.\n",
        "\n",
        "`tf.math.reduce_std()` - Computes the standard deviation of a tensor.\n",
        "\n",
        "`tf.math.reduce_variance()` - Computes the variance of a tensor.\n",
        "\n",
        "`tf.argmax()` - Finds the index of the maximum value in a tensor.\n",
        "\n",
        "`tf.argmin()` - Finds the index of the minimum value in a tensor.\n",
        "\n",
        "`tf.squeeze()` - Removes dimensions of size 1 from a tensor.\n",
        "\n",
        "`tf.one_hot()` - Converts indices to one-hot encoded tensors.\n",
        "\n",
        "`tf.range()` - Creates a tensor with a sequence of values within a specified range.\n",
        "\n",
        "`tf.math.sqrt()` - Computes the square root of a tensor.\n",
        "\n",
        "`tf.math.log()` - Computes the natural logarithm of a tensor.\n",
        "\n",
        "`tf.config.list_physical_devices()` - Lists available physical devices.\n",
        "\n",
        "`@` operator - Performs matrix multiplication.\n",
        "\n",
        "`tf.random.set_seed()` - Sets the seed for random number generation."
      ],
      "metadata": {
        "id": "G3XvnUSvryJj"
      }
    },
    {
      "cell_type": "code",
      "execution_count": null,
      "metadata": {
        "colab": {
          "base_uri": "https://localhost:8080/"
        },
        "id": "v0B9Ww-0HNrh",
        "outputId": "61e8b668-1c39-4960-d872-214dc4492fd3"
      },
      "outputs": [
        {
          "output_type": "stream",
          "name": "stdout",
          "text": [
            "2.12.0\n"
          ]
        }
      ],
      "source": [
        "import tensorflow as tf\n",
        "print(tf.__version__)"
      ]
    },
    {
      "cell_type": "code",
      "source": [
        "scalar = tf.constant(7) #create tensor\n",
        "scalar"
      ],
      "metadata": {
        "colab": {
          "base_uri": "https://localhost:8080/"
        },
        "id": "aYwuyRGYH4yN",
        "outputId": "5d53bee4-9b56-4649-ffe9-6fd0f1ddc715"
      },
      "execution_count": null,
      "outputs": [
        {
          "output_type": "execute_result",
          "data": {
            "text/plain": [
              "<tf.Tensor: shape=(), dtype=int32, numpy=7>"
            ]
          },
          "metadata": {},
          "execution_count": 3
        }
      ]
    },
    {
      "cell_type": "code",
      "source": [
        "#check number of dimensions\n",
        "scalar.ndim"
      ],
      "metadata": {
        "colab": {
          "base_uri": "https://localhost:8080/"
        },
        "id": "1spAHi2bINSP",
        "outputId": "55b73e6d-a561-4e8d-b0cd-dad71b8cbdb3"
      },
      "execution_count": null,
      "outputs": [
        {
          "output_type": "execute_result",
          "data": {
            "text/plain": [
              "0"
            ]
          },
          "metadata": {},
          "execution_count": 4
        }
      ]
    },
    {
      "cell_type": "code",
      "source": [
        "#create vector\n",
        "vector = tf.constant([10, 10])\n",
        "vector"
      ],
      "metadata": {
        "colab": {
          "base_uri": "https://localhost:8080/"
        },
        "id": "seqNMU1BIYMf",
        "outputId": "61019b10-c07c-4d0e-d8fe-f302fec46ae2"
      },
      "execution_count": null,
      "outputs": [
        {
          "output_type": "execute_result",
          "data": {
            "text/plain": [
              "<tf.Tensor: shape=(2,), dtype=int32, numpy=array([10, 10], dtype=int32)>"
            ]
          },
          "metadata": {},
          "execution_count": 5
        }
      ]
    },
    {
      "cell_type": "code",
      "source": [
        "vector.ndim"
      ],
      "metadata": {
        "colab": {
          "base_uri": "https://localhost:8080/"
        },
        "id": "qmtSAmL_I3pR",
        "outputId": "456e2ebd-5a86-4dd2-a8f2-f39a328e67bd"
      },
      "execution_count": null,
      "outputs": [
        {
          "output_type": "execute_result",
          "data": {
            "text/plain": [
              "1"
            ]
          },
          "metadata": {},
          "execution_count": 6
        }
      ]
    },
    {
      "cell_type": "code",
      "source": [
        "#matrix\n",
        "matrix = tf.constant([[12, 4], [14, 2]])\n",
        "matrix"
      ],
      "metadata": {
        "colab": {
          "base_uri": "https://localhost:8080/"
        },
        "id": "M6CUtFRRI7QE",
        "outputId": "2db5cca4-5d39-482c-c63d-5d7f41363b89"
      },
      "execution_count": null,
      "outputs": [
        {
          "output_type": "execute_result",
          "data": {
            "text/plain": [
              "<tf.Tensor: shape=(2, 2), dtype=int32, numpy=\n",
              "array([[12,  4],\n",
              "       [14,  2]], dtype=int32)>"
            ]
          },
          "metadata": {},
          "execution_count": 7
        }
      ]
    },
    {
      "cell_type": "code",
      "source": [
        "matrix.ndim"
      ],
      "metadata": {
        "colab": {
          "base_uri": "https://localhost:8080/"
        },
        "id": "4E6DSuXlJMxF",
        "outputId": "af0ecae5-1e76-4167-e19d-7810b46fd11f"
      },
      "execution_count": null,
      "outputs": [
        {
          "output_type": "execute_result",
          "data": {
            "text/plain": [
              "2"
            ]
          },
          "metadata": {},
          "execution_count": 8
        }
      ]
    },
    {
      "cell_type": "code",
      "source": [
        "#can alter dtype\n",
        "another_matrix = tf.constant([[10., 3.], [4., 8.], [9., 4.]], dtype=tf.float16)\n",
        "another_matrix"
      ],
      "metadata": {
        "colab": {
          "base_uri": "https://localhost:8080/"
        },
        "id": "CQzQ7877JsGp",
        "outputId": "3183a969-2dbe-4c23-c1e9-2dfbfe497e7f"
      },
      "execution_count": null,
      "outputs": [
        {
          "output_type": "execute_result",
          "data": {
            "text/plain": [
              "<tf.Tensor: shape=(3, 2), dtype=float16, numpy=\n",
              "array([[10.,  3.],\n",
              "       [ 4.,  8.],\n",
              "       [ 9.,  4.]], dtype=float16)>"
            ]
          },
          "metadata": {},
          "execution_count": 9
        }
      ]
    },
    {
      "cell_type": "code",
      "source": [
        "tensor = tf.constant([[[1, 2, 3,],\n",
        "                       [4, 5, 6]],\n",
        "                      [[7, 8, 9],\n",
        "                       [10, 11, 12]],\n",
        "                      [[13, 14, 15],\n",
        "                       [16, 17, 18]]])\n",
        "tensor"
      ],
      "metadata": {
        "colab": {
          "base_uri": "https://localhost:8080/"
        },
        "id": "6DDZYSohKbJ4",
        "outputId": "e6b11760-0021-4b15-fef7-58348da2427e"
      },
      "execution_count": null,
      "outputs": [
        {
          "output_type": "execute_result",
          "data": {
            "text/plain": [
              "<tf.Tensor: shape=(3, 2, 3), dtype=int32, numpy=\n",
              "array([[[ 1,  2,  3],\n",
              "        [ 4,  5,  6]],\n",
              "\n",
              "       [[ 7,  8,  9],\n",
              "        [10, 11, 12]],\n",
              "\n",
              "       [[13, 14, 15],\n",
              "        [16, 17, 18]]], dtype=int32)>"
            ]
          },
          "metadata": {},
          "execution_count": 10
        }
      ]
    },
    {
      "cell_type": "code",
      "source": [
        "tensor.ndim"
      ],
      "metadata": {
        "colab": {
          "base_uri": "https://localhost:8080/"
        },
        "id": "jeRRSh3gK_-l",
        "outputId": "21016a8c-ebb6-412b-cc77-f13b54ce26ac"
      },
      "execution_count": null,
      "outputs": [
        {
          "output_type": "execute_result",
          "data": {
            "text/plain": [
              "3"
            ]
          },
          "metadata": {},
          "execution_count": 11
        }
      ]
    },
    {
      "cell_type": "code",
      "source": [
        "#tensor with tf.Variable\n",
        "changeable_tensor = tf.Variable([10,7])\n",
        "unchangeable_tensor = tf.constant([10,7])\n",
        "unchangeable_tensor, changeable_tensor\n"
      ],
      "metadata": {
        "colab": {
          "base_uri": "https://localhost:8080/"
        },
        "id": "mr5SxAsDMBPp",
        "outputId": "2f1dcf8c-fd13-411d-aecd-d170e4bd3448"
      },
      "execution_count": null,
      "outputs": [
        {
          "output_type": "execute_result",
          "data": {
            "text/plain": [
              "(<tf.Tensor: shape=(2,), dtype=int32, numpy=array([10,  7], dtype=int32)>,\n",
              " <tf.Variable 'Variable:0' shape=(2,) dtype=int32, numpy=array([10,  7], dtype=int32)>)"
            ]
          },
          "metadata": {},
          "execution_count": 12
        }
      ]
    },
    {
      "cell_type": "code",
      "source": [],
      "metadata": {
        "id": "TbnytqY1Mvnx"
      },
      "execution_count": null,
      "outputs": []
    },
    {
      "cell_type": "code",
      "source": [
        "#changing one element in changeable tensor\n",
        "#changeable_tensor[0] = 7\n",
        "#changeable_tensor"
      ],
      "metadata": {
        "id": "mLGZACh3MbC-"
      },
      "execution_count": null,
      "outputs": []
    },
    {
      "cell_type": "code",
      "source": [
        "#nope. you have to use .assign\n",
        "changeable_tensor[0].assign(7)\n",
        "changeable_tensor"
      ],
      "metadata": {
        "colab": {
          "base_uri": "https://localhost:8080/"
        },
        "id": "DE8is5GrMxtX",
        "outputId": "ead61728-ba97-4100-df60-6a5362510ae8"
      },
      "execution_count": null,
      "outputs": [
        {
          "output_type": "execute_result",
          "data": {
            "text/plain": [
              "<tf.Variable 'Variable:0' shape=(2,) dtype=int32, numpy=array([7, 7], dtype=int32)>"
            ]
          },
          "metadata": {},
          "execution_count": 14
        }
      ]
    },
    {
      "cell_type": "code",
      "source": [
        "from tensorflow._api.v2 import random\n",
        "#Creating 2 random tensors\n",
        "random_1 = tf.random.Generator.from_seed(42) #setting seed for reproducibility\n",
        "random_1 = random_1.normal(shape=(3,2))\n",
        "random_2 = tf.random.Generator.from_seed(42)\n",
        "random_2 = random_2.normal(shape=(3,2))\n",
        "\n",
        "random_1, random_2, random_1 == random_2"
      ],
      "metadata": {
        "colab": {
          "base_uri": "https://localhost:8080/"
        },
        "id": "nquO7P4hNMkT",
        "outputId": "c75ca9a7-c800-45d6-b013-6ed6df449611"
      },
      "execution_count": null,
      "outputs": [
        {
          "output_type": "execute_result",
          "data": {
            "text/plain": [
              "(<tf.Tensor: shape=(3, 2), dtype=float32, numpy=\n",
              " array([[-0.7565803 , -0.06854702],\n",
              "        [ 0.07595026, -1.2573844 ],\n",
              "        [-0.23193763, -1.8107855 ]], dtype=float32)>,\n",
              " <tf.Tensor: shape=(3, 2), dtype=float32, numpy=\n",
              " array([[-0.7565803 , -0.06854702],\n",
              "        [ 0.07595026, -1.2573844 ],\n",
              "        [-0.23193763, -1.8107855 ]], dtype=float32)>,\n",
              " <tf.Tensor: shape=(3, 2), dtype=bool, numpy=\n",
              " array([[ True,  True],\n",
              "        [ True,  True],\n",
              "        [ True,  True]])>)"
            ]
          },
          "metadata": {},
          "execution_count": 15
        }
      ]
    },
    {
      "cell_type": "code",
      "source": [
        "#shuffle order of elements in a tensor\n",
        "not_shuffled = tf.constant([[10, 7], [2,11], [3,5]])\n",
        "tf.random.shuffle(not_shuffled)"
      ],
      "metadata": {
        "colab": {
          "base_uri": "https://localhost:8080/"
        },
        "id": "3AQI60pWPgcy",
        "outputId": "62789920-2d5c-4842-904c-5edd6306a24f"
      },
      "execution_count": null,
      "outputs": [
        {
          "output_type": "execute_result",
          "data": {
            "text/plain": [
              "<tf.Tensor: shape=(3, 2), dtype=int32, numpy=\n",
              "array([[ 2, 11],\n",
              "       [10,  7],\n",
              "       [ 3,  5]], dtype=int32)>"
            ]
          },
          "metadata": {},
          "execution_count": 16
        }
      ]
    },
    {
      "cell_type": "code",
      "source": [
        "#Create a tensor of all ones\n",
        "tf.ones([10, 7])\n",
        "#tf.zeros(shape=(3,4)) all zeros"
      ],
      "metadata": {
        "colab": {
          "base_uri": "https://localhost:8080/"
        },
        "id": "WL3iVtTjP-2A",
        "outputId": "d3fbe02b-b849-4b5e-8fc8-72ecdefafbd4"
      },
      "execution_count": null,
      "outputs": [
        {
          "output_type": "execute_result",
          "data": {
            "text/plain": [
              "<tf.Tensor: shape=(10, 7), dtype=float32, numpy=\n",
              "array([[1., 1., 1., 1., 1., 1., 1.],\n",
              "       [1., 1., 1., 1., 1., 1., 1.],\n",
              "       [1., 1., 1., 1., 1., 1., 1.],\n",
              "       [1., 1., 1., 1., 1., 1., 1.],\n",
              "       [1., 1., 1., 1., 1., 1., 1.],\n",
              "       [1., 1., 1., 1., 1., 1., 1.],\n",
              "       [1., 1., 1., 1., 1., 1., 1.],\n",
              "       [1., 1., 1., 1., 1., 1., 1.],\n",
              "       [1., 1., 1., 1., 1., 1., 1.],\n",
              "       [1., 1., 1., 1., 1., 1., 1.]], dtype=float32)>"
            ]
          },
          "metadata": {},
          "execution_count": 17
        }
      ]
    },
    {
      "cell_type": "code",
      "source": [
        "#Turn NumPy arrays into tensors (tensors faster on GPUs)\n",
        "import numpy as np\n",
        "numpy_A = np.arange(1,25, dtype=np.int32)\n",
        "numpy_A"
      ],
      "metadata": {
        "colab": {
          "base_uri": "https://localhost:8080/"
        },
        "id": "vH-r9xiGUGrz",
        "outputId": "568b52b2-5f9c-4a2a-dfde-a1d0beaa2cc3"
      },
      "execution_count": null,
      "outputs": [
        {
          "output_type": "execute_result",
          "data": {
            "text/plain": [
              "array([ 1,  2,  3,  4,  5,  6,  7,  8,  9, 10, 11, 12, 13, 14, 15, 16, 17,\n",
              "       18, 19, 20, 21, 22, 23, 24], dtype=int32)"
            ]
          },
          "metadata": {},
          "execution_count": 18
        }
      ]
    },
    {
      "cell_type": "code",
      "source": [
        "#Can pass numpy arrays into tf.constant() to convert to tensor\n",
        "A = tf.constant(numpy_A, shape=(2, 3, 4)) #shape must add up to same # of elements of original\n",
        "B = tf.constant(numpy_A)\n",
        "C = tf.constant(numpy_A, shape=(8,3))\n",
        "A, B, C"
      ],
      "metadata": {
        "colab": {
          "base_uri": "https://localhost:8080/"
        },
        "id": "oHeeD3_oU5El",
        "outputId": "e076672b-4cac-41a6-b8d9-2c288156502e"
      },
      "execution_count": null,
      "outputs": [
        {
          "output_type": "execute_result",
          "data": {
            "text/plain": [
              "(<tf.Tensor: shape=(2, 3, 4), dtype=int32, numpy=\n",
              " array([[[ 1,  2,  3,  4],\n",
              "         [ 5,  6,  7,  8],\n",
              "         [ 9, 10, 11, 12]],\n",
              " \n",
              "        [[13, 14, 15, 16],\n",
              "         [17, 18, 19, 20],\n",
              "         [21, 22, 23, 24]]], dtype=int32)>,\n",
              " <tf.Tensor: shape=(24,), dtype=int32, numpy=\n",
              " array([ 1,  2,  3,  4,  5,  6,  7,  8,  9, 10, 11, 12, 13, 14, 15, 16, 17,\n",
              "        18, 19, 20, 21, 22, 23, 24], dtype=int32)>,\n",
              " <tf.Tensor: shape=(8, 3), dtype=int32, numpy=\n",
              " array([[ 1,  2,  3],\n",
              "        [ 4,  5,  6],\n",
              "        [ 7,  8,  9],\n",
              "        [10, 11, 12],\n",
              "        [13, 14, 15],\n",
              "        [16, 17, 18],\n",
              "        [19, 20, 21],\n",
              "        [22, 23, 24]], dtype=int32)>)"
            ]
          },
          "metadata": {},
          "execution_count": 19
        }
      ]
    },
    {
      "cell_type": "code",
      "source": [
        "#Shape, rank, axis/dimension, size\n",
        "#Create a rank 4 tensor (ndim = 4)\n",
        "r4_tensor = tf.zeros(shape=[2, 3, 4, 5])\n",
        "r4_tensor"
      ],
      "metadata": {
        "colab": {
          "base_uri": "https://localhost:8080/"
        },
        "id": "nrfmyfQVVRxT",
        "outputId": "f1be502f-7cfa-4096-bad9-8c0aaced019d"
      },
      "execution_count": null,
      "outputs": [
        {
          "output_type": "execute_result",
          "data": {
            "text/plain": [
              "<tf.Tensor: shape=(2, 3, 4, 5), dtype=float32, numpy=\n",
              "array([[[[0., 0., 0., 0., 0.],\n",
              "         [0., 0., 0., 0., 0.],\n",
              "         [0., 0., 0., 0., 0.],\n",
              "         [0., 0., 0., 0., 0.]],\n",
              "\n",
              "        [[0., 0., 0., 0., 0.],\n",
              "         [0., 0., 0., 0., 0.],\n",
              "         [0., 0., 0., 0., 0.],\n",
              "         [0., 0., 0., 0., 0.]],\n",
              "\n",
              "        [[0., 0., 0., 0., 0.],\n",
              "         [0., 0., 0., 0., 0.],\n",
              "         [0., 0., 0., 0., 0.],\n",
              "         [0., 0., 0., 0., 0.]]],\n",
              "\n",
              "\n",
              "       [[[0., 0., 0., 0., 0.],\n",
              "         [0., 0., 0., 0., 0.],\n",
              "         [0., 0., 0., 0., 0.],\n",
              "         [0., 0., 0., 0., 0.]],\n",
              "\n",
              "        [[0., 0., 0., 0., 0.],\n",
              "         [0., 0., 0., 0., 0.],\n",
              "         [0., 0., 0., 0., 0.],\n",
              "         [0., 0., 0., 0., 0.]],\n",
              "\n",
              "        [[0., 0., 0., 0., 0.],\n",
              "         [0., 0., 0., 0., 0.],\n",
              "         [0., 0., 0., 0., 0.],\n",
              "         [0., 0., 0., 0., 0.]]]], dtype=float32)>"
            ]
          },
          "metadata": {},
          "execution_count": 20
        }
      ]
    },
    {
      "cell_type": "code",
      "source": [
        "r4_tensor.shape, r4_tensor.ndim, tf.size(r4_tensor)"
      ],
      "metadata": {
        "colab": {
          "base_uri": "https://localhost:8080/"
        },
        "id": "_byaO1xzW47J",
        "outputId": "f4366493-8ad2-43df-ba34-7aa8cbbc9d38"
      },
      "execution_count": null,
      "outputs": [
        {
          "output_type": "execute_result",
          "data": {
            "text/plain": [
              "(TensorShape([2, 3, 4, 5]), 4, <tf.Tensor: shape=(), dtype=int32, numpy=120>)"
            ]
          },
          "metadata": {},
          "execution_count": 21
        }
      ]
    },
    {
      "cell_type": "code",
      "source": [
        "#Getting various attributes of tensor\n",
        "print(\"Datatype of every element:\", r4_tensor.dtype)\n",
        "print(\"Rank (no. dimensions):\", r4_tensor.ndim)\n",
        "print(\"Shape:\", r4_tensor.shape)\n",
        "print(\"Elements along 0 axis:\", r4_tensor.shape[0])\n",
        "print(\"Elements along last axis:\", r4_tensor.shape[-1])\n",
        "print(\"Total no. elements:\", tf.size(r4_tensor).numpy()) #adding .numpy() simplifies output to only include size figure\n",
        "\n"
      ],
      "metadata": {
        "colab": {
          "base_uri": "https://localhost:8080/"
        },
        "id": "RiiuRQVBXFVx",
        "outputId": "292e88fc-3bfe-45b8-e3ef-6461ffc13c2f"
      },
      "execution_count": null,
      "outputs": [
        {
          "output_type": "stream",
          "name": "stdout",
          "text": [
            "Datatype of every element: <dtype: 'float32'>\n",
            "Rank (no. dimensions): 4\n",
            "Shape: (2, 3, 4, 5)\n",
            "Elements along 0 axis: 2\n",
            "Elements along last axis: 5\n",
            "Total no. elements: 120\n"
          ]
        }
      ]
    },
    {
      "cell_type": "code",
      "source": [
        "#indexing: get first 2 elements of every dimension\n",
        "first_2 = r4_tensor[:2, :2, :2, :2]\n",
        "first_2"
      ],
      "metadata": {
        "colab": {
          "base_uri": "https://localhost:8080/"
        },
        "id": "zU2BVQrZX7SW",
        "outputId": "63fb0663-060c-42e7-a4c8-ee185468cf1a"
      },
      "execution_count": null,
      "outputs": [
        {
          "output_type": "execute_result",
          "data": {
            "text/plain": [
              "<tf.Tensor: shape=(2, 2, 2, 2), dtype=float32, numpy=\n",
              "array([[[[0., 0.],\n",
              "         [0., 0.]],\n",
              "\n",
              "        [[0., 0.],\n",
              "         [0., 0.]]],\n",
              "\n",
              "\n",
              "       [[[0., 0.],\n",
              "         [0., 0.]],\n",
              "\n",
              "        [[0., 0.],\n",
              "         [0., 0.]]]], dtype=float32)>"
            ]
          },
          "metadata": {},
          "execution_count": 23
        }
      ]
    },
    {
      "cell_type": "code",
      "source": [
        "#get first element from each dimension from each index except final dimension\n",
        "r4_tensor[:1, :1, :1]"
      ],
      "metadata": {
        "colab": {
          "base_uri": "https://localhost:8080/"
        },
        "id": "3PodAjafKmAh",
        "outputId": "37633cab-a168-4897-9826-6f76ac914a19"
      },
      "execution_count": null,
      "outputs": [
        {
          "output_type": "execute_result",
          "data": {
            "text/plain": [
              "<tf.Tensor: shape=(1, 1, 1, 5), dtype=float32, numpy=array([[[[0., 0., 0., 0., 0.]]]], dtype=float32)>"
            ]
          },
          "metadata": {},
          "execution_count": 24
        }
      ]
    },
    {
      "cell_type": "code",
      "source": [
        "#creating rank 2 tensor\n",
        "r2 = tf.zeros(shape=(2, 7))\n",
        "r2"
      ],
      "metadata": {
        "colab": {
          "base_uri": "https://localhost:8080/"
        },
        "id": "RKO2qCUeLHid",
        "outputId": "3fe71e60-1cf5-490d-c587-c929e0244170"
      },
      "execution_count": null,
      "outputs": [
        {
          "output_type": "execute_result",
          "data": {
            "text/plain": [
              "<tf.Tensor: shape=(2, 7), dtype=float32, numpy=\n",
              "array([[0., 0., 0., 0., 0., 0., 0.],\n",
              "       [0., 0., 0., 0., 0., 0., 0.]], dtype=float32)>"
            ]
          },
          "metadata": {},
          "execution_count": 25
        }
      ]
    },
    {
      "cell_type": "code",
      "source": [
        "#get last item of each row\n",
        "r2[:, -1]"
      ],
      "metadata": {
        "colab": {
          "base_uri": "https://localhost:8080/"
        },
        "id": "xNFjMb2tLb8r",
        "outputId": "5ac592ad-3f5f-44c3-c2ad-651e515c00a9"
      },
      "execution_count": null,
      "outputs": [
        {
          "output_type": "execute_result",
          "data": {
            "text/plain": [
              "<tf.Tensor: shape=(2,), dtype=float32, numpy=array([0., 0.], dtype=float32)>"
            ]
          },
          "metadata": {},
          "execution_count": 26
        }
      ]
    },
    {
      "cell_type": "code",
      "source": [
        "#add extra dimension (convert to rank 3) but keep information\n",
        "r3 = r2[..., tf.newaxis] #... means for all the axes  (shorthand for :, :, etc)\n",
        "r3"
      ],
      "metadata": {
        "colab": {
          "base_uri": "https://localhost:8080/"
        },
        "id": "ylmd8mH-LuXT",
        "outputId": "6390c971-b536-4857-bb48-44432edb4053"
      },
      "execution_count": null,
      "outputs": [
        {
          "output_type": "execute_result",
          "data": {
            "text/plain": [
              "<tf.Tensor: shape=(2, 7, 1), dtype=float32, numpy=\n",
              "array([[[0.],\n",
              "        [0.],\n",
              "        [0.],\n",
              "        [0.],\n",
              "        [0.],\n",
              "        [0.],\n",
              "        [0.]],\n",
              "\n",
              "       [[0.],\n",
              "        [0.],\n",
              "        [0.],\n",
              "        [0.],\n",
              "        [0.],\n",
              "        [0.],\n",
              "        [0.]]], dtype=float32)>"
            ]
          },
          "metadata": {},
          "execution_count": 27
        }
      ]
    },
    {
      "cell_type": "code",
      "source": [
        "#another way is with tf.expand_dims\n",
        "tf.expand_dims(r2, axis=-1) # -1 expands final axis\n",
        "# can also expand on other axes. numbers stay the same but shape changes"
      ],
      "metadata": {
        "colab": {
          "base_uri": "https://localhost:8080/"
        },
        "id": "urQal3zdMU1v",
        "outputId": "b6c0b8d5-e758-4ea4-b5ef-172350c26f9d"
      },
      "execution_count": null,
      "outputs": [
        {
          "output_type": "execute_result",
          "data": {
            "text/plain": [
              "<tf.Tensor: shape=(2, 7, 1), dtype=float32, numpy=\n",
              "array([[[0.],\n",
              "        [0.],\n",
              "        [0.],\n",
              "        [0.],\n",
              "        [0.],\n",
              "        [0.],\n",
              "        [0.]],\n",
              "\n",
              "       [[0.],\n",
              "        [0.],\n",
              "        [0.],\n",
              "        [0.],\n",
              "        [0.],\n",
              "        [0.],\n",
              "        [0.]]], dtype=float32)>"
            ]
          },
          "metadata": {},
          "execution_count": 28
        }
      ]
    },
    {
      "cell_type": "code",
      "source": [
        "#operations:\n",
        "# ADDITION\n",
        "tensor = tf.constant([[10, 7], [5, 8]])\n",
        "tensor + 10 #applies to every dimension"
      ],
      "metadata": {
        "colab": {
          "base_uri": "https://localhost:8080/"
        },
        "id": "exj_gGvtM00d",
        "outputId": "824ad2b1-1733-4b76-fceb-69b391be41d4"
      },
      "execution_count": null,
      "outputs": [
        {
          "output_type": "execute_result",
          "data": {
            "text/plain": [
              "<tf.Tensor: shape=(2, 2), dtype=int32, numpy=\n",
              "array([[20, 17],\n",
              "       [15, 18]], dtype=int32)>"
            ]
          },
          "metadata": {},
          "execution_count": 29
        }
      ]
    },
    {
      "cell_type": "code",
      "source": [
        "#MULTIPLICATION\n",
        "# Same thing as subtraction, division\n",
        "tensor * 20"
      ],
      "metadata": {
        "colab": {
          "base_uri": "https://localhost:8080/"
        },
        "id": "RNrm4_EmNYnr",
        "outputId": "194ab3a2-0121-415e-806d-fa0f721ea715"
      },
      "execution_count": null,
      "outputs": [
        {
          "output_type": "execute_result",
          "data": {
            "text/plain": [
              "<tf.Tensor: shape=(2, 2), dtype=int32, numpy=\n",
              "array([[200, 140],\n",
              "       [100, 160]], dtype=int32)>"
            ]
          },
          "metadata": {},
          "execution_count": 30
        }
      ]
    },
    {
      "cell_type": "code",
      "source": [
        "#also built-in functions\n",
        "tf.multiply(tensor, 20) #tf function is faster on gpus at larger scale"
      ],
      "metadata": {
        "colab": {
          "base_uri": "https://localhost:8080/"
        },
        "id": "Qo-JLqwgNhN5",
        "outputId": "cd054a01-0be4-4537-a006-74a938da7632"
      },
      "execution_count": null,
      "outputs": [
        {
          "output_type": "execute_result",
          "data": {
            "text/plain": [
              "<tf.Tensor: shape=(2, 2), dtype=int32, numpy=\n",
              "array([[200, 140],\n",
              "       [100, 160]], dtype=int32)>"
            ]
          },
          "metadata": {},
          "execution_count": 31
        }
      ]
    },
    {
      "cell_type": "code",
      "source": [
        "#Matrix Multiplication (everything above is element-wise)\n",
        "tf.matmul(tensor, tensor)"
      ],
      "metadata": {
        "colab": {
          "base_uri": "https://localhost:8080/"
        },
        "id": "jayLeKGspM-d",
        "outputId": "3f88402a-5c5e-4e2d-9c18-d9697a337f34"
      },
      "execution_count": null,
      "outputs": [
        {
          "output_type": "execute_result",
          "data": {
            "text/plain": [
              "<tf.Tensor: shape=(2, 2), dtype=int32, numpy=\n",
              "array([[135, 126],\n",
              "       [ 90,  99]], dtype=int32)>"
            ]
          },
          "metadata": {},
          "execution_count": 32
        }
      ]
    },
    {
      "cell_type": "code",
      "source": [
        "#Another example\n",
        "A = tf.constant([[1, 2, 5],\n",
        "                [7, 2, 1],\n",
        "                [3, 3, 3]])\n",
        "B = tf.constant([[3, 5],\n",
        "                 [6, 7],\n",
        "                 [1, 8]])\n",
        "tf.linalg.matmul(A, B) #can ommit .linalg\n",
        "# can use python '@' operator: A @ B"
      ],
      "metadata": {
        "colab": {
          "base_uri": "https://localhost:8080/"
        },
        "id": "VTw4ay5WqWG1",
        "outputId": "4d78eb2c-055e-48e9-aa86-6a0398636677"
      },
      "execution_count": null,
      "outputs": [
        {
          "output_type": "execute_result",
          "data": {
            "text/plain": [
              "<tf.Tensor: shape=(3, 2), dtype=int32, numpy=\n",
              "array([[20, 59],\n",
              "       [34, 57],\n",
              "       [30, 60]], dtype=int32)>"
            ]
          },
          "metadata": {},
          "execution_count": 33
        }
      ]
    },
    {
      "cell_type": "code",
      "source": [
        "#We can reshape matrixes\n",
        "B_reshape = tf.reshape(B,shape=(2, 3))\n",
        "B_reshape"
      ],
      "metadata": {
        "colab": {
          "base_uri": "https://localhost:8080/"
        },
        "id": "DwwuiljqyJb0",
        "outputId": "35603385-261d-4602-97e1-a5aec4bc0d18"
      },
      "execution_count": null,
      "outputs": [
        {
          "output_type": "execute_result",
          "data": {
            "text/plain": [
              "<tf.Tensor: shape=(2, 3), dtype=int32, numpy=\n",
              "array([[3, 5, 6],\n",
              "       [7, 1, 8]], dtype=int32)>"
            ]
          },
          "metadata": {},
          "execution_count": 34
        }
      ]
    },
    {
      "cell_type": "code",
      "source": [
        "B_reshape = tf.reshape(B,shape=(1,6))\n",
        "B_reshape"
      ],
      "metadata": {
        "colab": {
          "base_uri": "https://localhost:8080/"
        },
        "id": "hp-yjd5fzJoP",
        "outputId": "23f0c71f-d6ec-41f7-be8f-a2afede7a84c"
      },
      "execution_count": null,
      "outputs": [
        {
          "output_type": "execute_result",
          "data": {
            "text/plain": [
              "<tf.Tensor: shape=(1, 6), dtype=int32, numpy=array([[3, 5, 6, 7, 1, 8]], dtype=int32)>"
            ]
          },
          "metadata": {},
          "execution_count": 35
        }
      ]
    },
    {
      "cell_type": "code",
      "source": [
        "#TRANSPOSE changes rows in columns and vice-versa\n",
        "#reshape shuffles values\n",
        "tf.transpose(A), A"
      ],
      "metadata": {
        "colab": {
          "base_uri": "https://localhost:8080/"
        },
        "id": "JJoZ5SrKzZzZ",
        "outputId": "c2d53362-c5b5-4301-8443-6015cc3c2395"
      },
      "execution_count": null,
      "outputs": [
        {
          "output_type": "execute_result",
          "data": {
            "text/plain": [
              "(<tf.Tensor: shape=(3, 3), dtype=int32, numpy=\n",
              " array([[1, 7, 3],\n",
              "        [2, 2, 3],\n",
              "        [5, 1, 3]], dtype=int32)>,\n",
              " <tf.Tensor: shape=(3, 3), dtype=int32, numpy=\n",
              " array([[1, 2, 5],\n",
              "        [7, 2, 1],\n",
              "        [3, 3, 3]], dtype=int32)>)"
            ]
          },
          "metadata": {},
          "execution_count": 36
        }
      ]
    },
    {
      "cell_type": "code",
      "source": [
        "#dot product with either tf.matmul or tf.tensordot\n",
        "tf.tensordot(A,B, axes=1)"
      ],
      "metadata": {
        "colab": {
          "base_uri": "https://localhost:8080/"
        },
        "id": "mYTFYvOA0Y0T",
        "outputId": "b2f67d32-5c6c-4173-d6de-51002d67d412"
      },
      "execution_count": null,
      "outputs": [
        {
          "output_type": "execute_result",
          "data": {
            "text/plain": [
              "<tf.Tensor: shape=(3, 2), dtype=int32, numpy=\n",
              "array([[20, 59],\n",
              "       [34, 57],\n",
              "       [30, 60]], dtype=int32)>"
            ]
          },
          "metadata": {},
          "execution_count": 37
        }
      ]
    },
    {
      "cell_type": "code",
      "source": [
        "#changing dtype with tf.cast\n",
        "B = tf.constant([[1.7, 8.8], [12.1, 3.4]])\n",
        "print(B.dtype)\n",
        "B = tf.cast(B, dtype=tf.float16)\n",
        "B"
      ],
      "metadata": {
        "colab": {
          "base_uri": "https://localhost:8080/"
        },
        "id": "3twoQQfgJc8A",
        "outputId": "a2672aaa-7d6b-4b85-b474-146ed5b60bd8"
      },
      "execution_count": null,
      "outputs": [
        {
          "output_type": "stream",
          "name": "stdout",
          "text": [
            "<dtype: 'float32'>\n"
          ]
        },
        {
          "output_type": "execute_result",
          "data": {
            "text/plain": [
              "<tf.Tensor: shape=(2, 2), dtype=float16, numpy=\n",
              "array([[ 1.7,  8.8],\n",
              "       [12.1,  3.4]], dtype=float16)>"
            ]
          },
          "metadata": {},
          "execution_count": 38
        }
      ]
    },
    {
      "cell_type": "code",
      "source": [
        "#Aggregating tensors: finding summary vals (mean, max, etc)\n",
        "#get abs values with tf.abs()\n",
        "D = tf.random.Generator.from_seed(2).normal(shape=(10, 10))\n",
        "D"
      ],
      "metadata": {
        "colab": {
          "base_uri": "https://localhost:8080/"
        },
        "id": "euhL7HqjMOyH",
        "outputId": "c3c50dbc-543c-4d3f-a1ca-4ed52ab54798"
      },
      "execution_count": null,
      "outputs": [
        {
          "output_type": "execute_result",
          "data": {
            "text/plain": [
              "<tf.Tensor: shape=(10, 10), dtype=float32, numpy=\n",
              "array([[-0.1012345 , -0.2744976 ,  1.4204658 ,  1.2609464 , -0.43640924,\n",
              "        -1.9633987 , -0.06452483, -1.056841  ,  1.0019137 ,  0.6735137 ],\n",
              "       [ 0.06987712, -1.4077919 ,  1.0278524 ,  0.27974114, -0.01347923,\n",
              "         1.845181  ,  0.97061104, -1.0242516 , -0.6544423 , -0.29738766],\n",
              "       [-1.3240396 ,  0.28785667, -0.8757901 , -0.08857018,  0.69211644,\n",
              "         0.84215707, -0.06378496,  0.92800784, -0.6039789 , -0.1766927 ],\n",
              "       [ 0.04221033,  0.29037967, -0.29604465, -0.21134205,  0.01063002,\n",
              "         1.5165398 ,  0.27305737, -0.29925638, -0.3652325 ,  0.61883307],\n",
              "       [-1.0130816 ,  0.28291714,  1.2132233 ,  0.46988967,  0.37944323,\n",
              "        -0.6664026 ,  0.6054596 ,  0.19181173,  0.8045827 ,  0.4769051 ],\n",
              "       [-0.7812124 , -0.996891  ,  0.33149973, -0.5445254 ,  1.5222508 ,\n",
              "         0.59303206, -0.63509274,  0.3703566 , -1.0939722 , -0.4601445 ],\n",
              "       [ 1.5420506 , -0.16822556, -0.4390865 , -0.4129243 ,  0.35877243,\n",
              "        -1.9095894 , -0.2094769 ,  0.8286217 , -0.06695071, -0.35105535],\n",
              "       [ 1.0884082 , -1.3863064 ,  0.88051325, -1.6833194 ,  0.86754173,\n",
              "        -0.19625713, -1.322665  , -0.02279496, -0.1383193 ,  0.44207528],\n",
              "       [-0.7531523 ,  2.0261486 , -0.06997604,  0.85445154,  0.1175475 ,\n",
              "         0.03493892, -1.5700307 ,  0.4457582 ,  0.10944034, -0.8035768 ],\n",
              "       [-1.7166729 ,  0.3738578 , -0.14371012, -0.34646833,  1.1456194 ,\n",
              "        -0.416     ,  0.43369916,  1.0241015 , -0.74785167, -0.59090924]],\n",
              "      dtype=float32)>"
            ]
          },
          "metadata": {},
          "execution_count": 41
        }
      ]
    },
    {
      "cell_type": "code",
      "source": [
        "#find min\n",
        "tf.reduce_min(D)"
      ],
      "metadata": {
        "colab": {
          "base_uri": "https://localhost:8080/"
        },
        "id": "aI5jtIw-NlQD",
        "outputId": "206091dd-a7ac-4cba-930d-a4b1ca8275bf"
      },
      "execution_count": null,
      "outputs": [
        {
          "output_type": "execute_result",
          "data": {
            "text/plain": [
              "<tf.Tensor: shape=(), dtype=float32, numpy=-1.9633987>"
            ]
          },
          "metadata": {},
          "execution_count": 43
        }
      ]
    },
    {
      "cell_type": "code",
      "source": [
        "#max\n",
        "tf.reduce_max(D)"
      ],
      "metadata": {
        "colab": {
          "base_uri": "https://localhost:8080/"
        },
        "id": "SyluemLuNsxP",
        "outputId": "4b145081-acc3-4f82-93f3-662fb35b91f7"
      },
      "execution_count": null,
      "outputs": [
        {
          "output_type": "execute_result",
          "data": {
            "text/plain": [
              "<tf.Tensor: shape=(), dtype=float32, numpy=2.0261486>"
            ]
          },
          "metadata": {},
          "execution_count": 44
        }
      ]
    },
    {
      "cell_type": "code",
      "source": [
        "#mean\n",
        "tf.reduce_mean(D)"
      ],
      "metadata": {
        "colab": {
          "base_uri": "https://localhost:8080/"
        },
        "id": "lbDtYiGCNwfM",
        "outputId": "4c67e16b-36b3-4254-93aa-681ee671cfbc"
      },
      "execution_count": null,
      "outputs": [
        {
          "output_type": "execute_result",
          "data": {
            "text/plain": [
              "<tf.Tensor: shape=(), dtype=float32, numpy=0.0061117597>"
            ]
          },
          "metadata": {},
          "execution_count": 49
        }
      ]
    },
    {
      "cell_type": "code",
      "source": [
        "#sum\n",
        "tf.reduce_sum(D)"
      ],
      "metadata": {
        "colab": {
          "base_uri": "https://localhost:8080/"
        },
        "id": "rm7UgYFdN0Os",
        "outputId": "fda9f7bd-d7fd-41cd-dbea-83606cff6dd4"
      },
      "execution_count": null,
      "outputs": [
        {
          "output_type": "execute_result",
          "data": {
            "text/plain": [
              "<tf.Tensor: shape=(), dtype=float32, numpy=0.61117595>"
            ]
          },
          "metadata": {},
          "execution_count": 48
        }
      ]
    },
    {
      "cell_type": "code",
      "source": [
        "#variance and STDEV\n",
        "print(tf.math.reduce_std(D))\n",
        "print(tf.math.reduce_variance(D))"
      ],
      "metadata": {
        "colab": {
          "base_uri": "https://localhost:8080/"
        },
        "id": "JG-_1CK7NnDz",
        "outputId": "22eb5d7e-ae12-4dff-bef1-ca317b5e85b1"
      },
      "execution_count": null,
      "outputs": [
        {
          "output_type": "stream",
          "name": "stdout",
          "text": [
            "tf.Tensor(0.84484875, shape=(), dtype=float32)\n",
            "tf.Tensor(0.7137694, shape=(), dtype=float32)\n"
          ]
        }
      ]
    },
    {
      "cell_type": "code",
      "source": [
        "#Positional min and max\n",
        "tf.random.set_seed(42)\n",
        "F = tf.random.uniform(shape=[50])\n",
        "max, min = tf.argmax(F), tf.argmin(F) #identifies the index that contains the max/min value\n",
        "posmax = F[max] #identify value of max element given index\n",
        "posmin = F[min]\n",
        "\n",
        "#faster way to do this is with tf.reduce_max and tf.reduce_min"
      ],
      "metadata": {
        "id": "KkFdIzf-OK7K"
      },
      "execution_count": null,
      "outputs": []
    },
    {
      "cell_type": "code",
      "source": [
        "#Squeezing tensors (removing dimensions of size 1)\n",
        "tf.random.set_seed(42)\n",
        "G = tf.constant(tf.random.uniform(shape=[50]), shape=(1, 1, 1, 1, 50))\n",
        "print(G.shape)\n",
        "G_squeezed = tf.squeeze(G)\n",
        "print(G_squeezed.shape)"
      ],
      "metadata": {
        "colab": {
          "base_uri": "https://localhost:8080/"
        },
        "id": "4i65JFoLdhjw",
        "outputId": "73781962-b85b-405f-aefc-899799c654d4"
      },
      "execution_count": null,
      "outputs": [
        {
          "output_type": "stream",
          "name": "stdout",
          "text": [
            "(1, 1, 1, 1, 50)\n",
            "(50,)\n"
          ]
        }
      ]
    },
    {
      "cell_type": "code",
      "source": [
        "#One-hot encoding\n",
        "list = [4, 3, 4, 5, 2, 3, 1, 4]\n",
        "tf.one_hot(list, depth=5) #depth refers to no. of categories"
      ],
      "metadata": {
        "id": "j0McGwNHe1YJ",
        "colab": {
          "base_uri": "https://localhost:8080/"
        },
        "outputId": "4d5ee2dd-118e-46e6-8977-b27ab8d317aa"
      },
      "execution_count": null,
      "outputs": [
        {
          "output_type": "execute_result",
          "data": {
            "text/plain": [
              "<tf.Tensor: shape=(8, 5), dtype=float32, numpy=\n",
              "array([[0., 0., 0., 0., 1.],\n",
              "       [0., 0., 0., 1., 0.],\n",
              "       [0., 0., 0., 0., 1.],\n",
              "       [0., 0., 0., 0., 0.],\n",
              "       [0., 0., 1., 0., 0.],\n",
              "       [0., 0., 0., 1., 0.],\n",
              "       [0., 1., 0., 0., 0.],\n",
              "       [0., 0., 0., 0., 1.]], dtype=float32)>"
            ]
          },
          "metadata": {},
          "execution_count": 65
        }
      ]
    },
    {
      "cell_type": "code",
      "source": [
        "#Finding the square root\n",
        "H = tf.cast(tf.range(1,10), dtype=tf.float32) #values 1 to 9 (cast to float for sqrt)\n",
        "H_sq = tf.square(H)\n",
        "tf.math.equal(tf.math.sqrt(H_sq), H)"
      ],
      "metadata": {
        "colab": {
          "base_uri": "https://localhost:8080/"
        },
        "id": "8wt-xnZ0jRe-",
        "outputId": "6c3e59b5-6e13-407b-b70a-8242580f7963"
      },
      "execution_count": null,
      "outputs": [
        {
          "output_type": "execute_result",
          "data": {
            "text/plain": [
              "<tf.Tensor: shape=(9,), dtype=bool, numpy=array([ True,  True,  True,  True,  True,  True,  True,  True,  True])>"
            ]
          },
          "metadata": {},
          "execution_count": 83
        }
      ]
    },
    {
      "cell_type": "code",
      "source": [
        "#Finding the log\n",
        "tf.math.log(H) #also requires float"
      ],
      "metadata": {
        "colab": {
          "base_uri": "https://localhost:8080/"
        },
        "id": "ymrqKENPlfxn",
        "outputId": "922496c8-4ca4-4602-fc18-c46c03f3556f"
      },
      "execution_count": null,
      "outputs": [
        {
          "output_type": "execute_result",
          "data": {
            "text/plain": [
              "<tf.Tensor: shape=(9,), dtype=float32, numpy=\n",
              "array([0.       , 0.6931472, 1.0986123, 1.3862944, 1.609438 , 1.7917595,\n",
              "       1.9459102, 2.0794415, 2.1972246], dtype=float32)>"
            ]
          },
          "metadata": {},
          "execution_count": 85
        }
      ]
    },
    {
      "cell_type": "code",
      "source": [
        "#TF and NumPy compatibility\n",
        "# tensor directly from np array\n",
        "J = tf.constant(np.array([3., 7., 10.]))\n",
        "J"
      ],
      "metadata": {
        "colab": {
          "base_uri": "https://localhost:8080/"
        },
        "id": "mJ2Uu8golg_b",
        "outputId": "952f5dc5-162c-45a1-e634-59d853651b1e"
      },
      "execution_count": null,
      "outputs": [
        {
          "output_type": "execute_result",
          "data": {
            "text/plain": [
              "<tf.Tensor: shape=(3,), dtype=float64, numpy=array([ 3.,  7., 10.])>"
            ]
          },
          "metadata": {},
          "execution_count": 86
        }
      ]
    },
    {
      "cell_type": "code",
      "source": [
        "#convert back to numpy array\n",
        "type(np.array(J)) #this interoperability is useful for quickly accessing elements with []"
      ],
      "metadata": {
        "colab": {
          "base_uri": "https://localhost:8080/"
        },
        "id": "S3_G0N4OmTmY",
        "outputId": "8badd93d-2900-44f6-8c4d-927970e72448"
      },
      "execution_count": null,
      "outputs": [
        {
          "output_type": "execute_result",
          "data": {
            "text/plain": [
              "numpy.ndarray"
            ]
          },
          "metadata": {},
          "execution_count": 88
        }
      ]
    },
    {
      "cell_type": "code",
      "source": [
        "#another way to get back to array\n",
        "type(J.numpy())"
      ],
      "metadata": {
        "colab": {
          "base_uri": "https://localhost:8080/"
        },
        "id": "6BF9mz62mVx5",
        "outputId": "49ad0a8e-d7e1-4c0c-f7f8-15901b70f213"
      },
      "execution_count": null,
      "outputs": [
        {
          "output_type": "execute_result",
          "data": {
            "text/plain": [
              "numpy.ndarray"
            ]
          },
          "metadata": {},
          "execution_count": 89
        }
      ]
    },
    {
      "cell_type": "code",
      "source": [
        "#tensors directly from np arrays are dtype tf.float64\n",
        "#tensors from lists are dtype tf.float32 - be aware of dtypes"
      ],
      "metadata": {
        "id": "UJKOdTYPnIwp"
      },
      "execution_count": null,
      "outputs": []
    },
    {
      "cell_type": "code",
      "source": [
        "#check current access\n",
        "tf.config.list_physical_devices()\n",
        "#click 'change runtime type' to switch to GPU instead of CPU default\n",
        "#tensorflow will automatically use cuda-enabled gpu whenever available"
      ],
      "metadata": {
        "colab": {
          "base_uri": "https://localhost:8080/"
        },
        "id": "rsihfbCwpGU4",
        "outputId": "05f4f4a8-ab60-4e42-bada-120d979a9d8c"
      },
      "execution_count": null,
      "outputs": [
        {
          "output_type": "execute_result",
          "data": {
            "text/plain": [
              "[PhysicalDevice(name='/physical_device:CPU:0', device_type='CPU')]"
            ]
          },
          "metadata": {},
          "execution_count": 90
        }
      ]
    },
    {
      "cell_type": "code",
      "source": [
        "#Practice:create scalar, vector, matrix, tensor\n",
        "scalar = tf.constant(4)\n",
        "vector = tf.constant([4, 2])\n",
        "matrix = tf.constant([[2, 8],\n",
        "                      [9, 3]])\n",
        "tensor = tf.constant([[[[3, 6, 3], [2, 7, 7]],\n",
        "                      [[8, 8, 1], [9, 0, 1]]],\n",
        "                      [[[2, 1, 3], [6, 7, 5]],\n",
        "                      [[4, 0, 0], [2, 1, 3]]]\n",
        "                      ])\n",
        "print(scalar)\n",
        "print(vector)\n",
        "print(matrix)\n",
        "print(tensor)"
      ],
      "metadata": {
        "colab": {
          "base_uri": "https://localhost:8080/"
        },
        "id": "f81JaZ9MwHvo",
        "outputId": "fce5c217-0ee2-4560-afe4-aea59e989b61"
      },
      "execution_count": null,
      "outputs": [
        {
          "output_type": "stream",
          "name": "stdout",
          "text": [
            "tf.Tensor(4, shape=(), dtype=int32)\n",
            "tf.Tensor([4 2], shape=(2,), dtype=int32)\n",
            "tf.Tensor(\n",
            "[[2 8]\n",
            " [9 3]], shape=(2, 2), dtype=int32)\n",
            "tf.Tensor(\n",
            "[[[[3 6 3]\n",
            "   [2 7 7]]\n",
            "\n",
            "  [[8 8 1]\n",
            "   [9 0 1]]]\n",
            "\n",
            "\n",
            " [[[2 1 3]\n",
            "   [6 7 5]]\n",
            "\n",
            "  [[4 0 0]\n",
            "   [2 1 3]]]], shape=(2, 2, 2, 3), dtype=int32)\n"
          ]
        }
      ]
    },
    {
      "cell_type": "code",
      "source": [
        "# Find shape, rank, size of those tensors\n",
        "print(scalar.shape,tf.size(scalar), scalar.ndim)\n",
        "print(vector.shape, tf.size(vector), vector.ndim)\n",
        "print(matrix.shape, tf.size(matrix), matrix.ndim)\n",
        "print(tensor.shape, tf.size(tensor), tensor.ndim)"
      ],
      "metadata": {
        "colab": {
          "base_uri": "https://localhost:8080/"
        },
        "id": "VIYbfuzrxXPL",
        "outputId": "e2539c38-2baa-4f10-c9f2-c3749dc0deb6"
      },
      "execution_count": null,
      "outputs": [
        {
          "output_type": "stream",
          "name": "stdout",
          "text": [
            "() tf.Tensor(1, shape=(), dtype=int32) 0\n",
            "(2,) tf.Tensor(2, shape=(), dtype=int32) 1\n",
            "(2, 2) tf.Tensor(4, shape=(), dtype=int32) 2\n",
            "(2, 2, 2, 3) tf.Tensor(24, shape=(), dtype=int32) 4\n"
          ]
        }
      ]
    },
    {
      "cell_type": "code",
      "source": [
        "#Two tensors with random vals from 0 to 1 with shape [5, 300]\n",
        "rand = tf.random.Generator\n",
        "obj_1, obj_2 = random.uniform(shape=(5, 300)), random.uniform(shape=(5, 300))\n",
        "obj_1, obj_2"
      ],
      "metadata": {
        "colab": {
          "base_uri": "https://localhost:8080/"
        },
        "id": "hc24YsP0x4hH",
        "outputId": "57868587-1a35-4772-c0d3-2fde20d5b234"
      },
      "execution_count": null,
      "outputs": [
        {
          "output_type": "execute_result",
          "data": {
            "text/plain": [
              "(<tf.Tensor: shape=(5, 300), dtype=float32, numpy=\n",
              " array([[0.95831835, 0.01680839, 0.3156035 , ..., 0.67105925, 0.76730955,\n",
              "         0.20125735],\n",
              "        [0.09921694, 0.02475083, 0.47242153, ..., 0.9631474 , 0.34333456,\n",
              "         0.8129494 ],\n",
              "        [0.08817983, 0.9311962 , 0.2293179 , ..., 0.41450226, 0.008304  ,\n",
              "         0.02438807],\n",
              "        [0.54814565, 0.37019622, 0.5272658 , ..., 0.8656951 , 0.19644582,\n",
              "         0.5959221 ],\n",
              "        [0.8964087 , 0.15288067, 0.3360591 , ..., 0.5725572 , 0.4094149 ,\n",
              "         0.40059018]], dtype=float32)>,\n",
              " <tf.Tensor: shape=(5, 300), dtype=float32, numpy=\n",
              " array([[0.43555546, 0.52486527, 0.49674678, ..., 0.00552487, 0.3156761 ,\n",
              "         0.22303641],\n",
              "        [0.93881905, 0.02025807, 0.8929347 , ..., 0.47184265, 0.93879664,\n",
              "         0.27382708],\n",
              "        [0.8537835 , 0.287457  , 0.57827055, ..., 0.22605908, 0.62864304,\n",
              "         0.28893173],\n",
              "        [0.83130777, 0.13316286, 0.4270022 , ..., 0.96334374, 0.81353974,\n",
              "         0.47423255],\n",
              "        [0.20213544, 0.15954506, 0.9492575 , ..., 0.93022454, 0.31091654,\n",
              "         0.41263437]], dtype=float32)>)"
            ]
          },
          "metadata": {},
          "execution_count": 102
        }
      ]
    },
    {
      "cell_type": "code",
      "source": [
        "# multiply those random tensors with matrix multiplication\n",
        "print(tf.matmul(obj_1, tf.transpose(obj_2))) #had to transpose obj_2 to fit dimensions"
      ],
      "metadata": {
        "colab": {
          "base_uri": "https://localhost:8080/"
        },
        "id": "FRYbrJppzG_x",
        "outputId": "3b5c9b3c-d210-4774-9402-4b127db37be2"
      },
      "execution_count": null,
      "outputs": [
        {
          "output_type": "stream",
          "name": "stdout",
          "text": [
            "tf.Tensor(\n",
            "[[73.45298  74.09732  74.09219  73.014366 73.15687 ]\n",
            " [74.90097  75.270905 77.775635 74.378746 74.9059  ]\n",
            " [83.04033  79.46228  82.30002  80.63678  78.7219  ]\n",
            " [76.866684 76.41698  79.003265 77.38613  77.40253 ]\n",
            " [76.20903  74.70784  79.07423  75.5235   73.947845]], shape=(5, 5), dtype=float32)\n"
          ]
        }
      ]
    },
    {
      "cell_type": "code",
      "source": [
        "#find min and max vals of tensor with random vals b/t 0 and 1 with shape 224, 224, 3\n",
        "obj_3 = tf.random.Generator\n",
        "obj_3 = random.uniform(shape=(224, 224, 3))\n",
        "print(tf.reduce_min(obj_3), '\\n', tf.reduce_max(obj_3))"
      ],
      "metadata": {
        "colab": {
          "base_uri": "https://localhost:8080/"
        },
        "id": "rP2XclYjzy2W",
        "outputId": "947953c9-1576-4ce3-e8bc-a7f4e7499aad"
      },
      "execution_count": null,
      "outputs": [
        {
          "output_type": "stream",
          "name": "stdout",
          "text": [
            "tf.Tensor(8.34465e-07, shape=(), dtype=float32) \n",
            " tf.Tensor(0.9999887, shape=(), dtype=float32)\n"
          ]
        }
      ]
    },
    {
      "cell_type": "code",
      "source": [
        "#Squeeze a random tensor\n",
        "obj_4 = tf.random.Generator\n",
        "obj_4 = random.uniform(shape=(1, 224, 224, 3), minval=-1000, maxval=1000)\n",
        "print(obj_4.shape, '\\n', tf.squeeze(obj_4).shape)\n"
      ],
      "metadata": {
        "colab": {
          "base_uri": "https://localhost:8080/"
        },
        "id": "hyw1WCQo03wk",
        "outputId": "452eed82-3f0c-403f-a096-f818f73a6abc"
      },
      "execution_count": null,
      "outputs": [
        {
          "output_type": "stream",
          "name": "stdout",
          "text": [
            "(1, 224, 224, 3) \n",
            " (224, 224, 3)\n"
          ]
        }
      ]
    },
    {
      "cell_type": "code",
      "source": [
        "#find index with max value in tensor with shape [10]\n",
        "x = tf.random.Generator\n",
        "x = random.uniform(shape=([10]))\n",
        "posmax = tf.argmax(x)\n",
        "print(x, '\\n\\n', posmax)"
      ],
      "metadata": {
        "colab": {
          "base_uri": "https://localhost:8080/"
        },
        "id": "SQ-Fb06Z1lUd",
        "outputId": "37b4556d-968c-4893-9a33-a7448e523b98"
      },
      "execution_count": null,
      "outputs": [
        {
          "output_type": "stream",
          "name": "stdout",
          "text": [
            "tf.Tensor(\n",
            "[0.821141   0.5917634  0.90034425 0.28950942 0.07943332 0.25471914\n",
            " 0.7148664  0.88859725 0.6240326  0.265391  ], shape=(10,), dtype=float32) \n",
            "\n",
            " tf.Tensor(2, shape=(), dtype=int64)\n"
          ]
        }
      ]
    },
    {
      "cell_type": "code",
      "source": [
        "#one-hot encode that tensor\n",
        "rounded_x = tf.cast(tf.math.round(x*10), dtype=tf.int32)\n",
        "x_one_hot = tf.one_hot(rounded_x, depth=tf.size(rounded_x))\n",
        "print(rounded_x)\n",
        "print(x_one_hot)"
      ],
      "metadata": {
        "colab": {
          "base_uri": "https://localhost:8080/"
        },
        "id": "9dmT4RUg2RUo",
        "outputId": "0ccafa71-e6c1-47f6-c4fe-3600379ec112"
      },
      "execution_count": null,
      "outputs": [
        {
          "output_type": "stream",
          "name": "stdout",
          "text": [
            "tf.Tensor([8 6 9 3 1 3 7 9 6 3], shape=(10,), dtype=int32)\n",
            "tf.Tensor(\n",
            "[[0. 0. 0. 0. 0. 0. 0. 0. 1. 0.]\n",
            " [0. 0. 0. 0. 0. 0. 1. 0. 0. 0.]\n",
            " [0. 0. 0. 0. 0. 0. 0. 0. 0. 1.]\n",
            " [0. 0. 0. 1. 0. 0. 0. 0. 0. 0.]\n",
            " [0. 1. 0. 0. 0. 0. 0. 0. 0. 0.]\n",
            " [0. 0. 0. 1. 0. 0. 0. 0. 0. 0.]\n",
            " [0. 0. 0. 0. 0. 0. 0. 1. 0. 0.]\n",
            " [0. 0. 0. 0. 0. 0. 0. 0. 0. 1.]\n",
            " [0. 0. 0. 0. 0. 0. 1. 0. 0. 0.]\n",
            " [0. 0. 0. 1. 0. 0. 0. 0. 0. 0.]], shape=(10, 10), dtype=float32)\n"
          ]
        }
      ]
    }
  ]
}